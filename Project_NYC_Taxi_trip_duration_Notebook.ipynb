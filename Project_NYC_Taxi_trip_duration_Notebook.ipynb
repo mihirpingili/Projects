{
  "cells": [
    {
      "cell_type": "markdown",
      "metadata": {
        "id": "view-in-github",
        "colab_type": "text"
      },
      "source": [
        "<a href=\"https://colab.research.google.com/github/mihirpingili/Projects/blob/main/Project_NYC_Taxi_trip_duration_Notebook.ipynb\" target=\"_parent\"><img src=\"https://colab.research.google.com/assets/colab-badge.svg\" alt=\"Open In Colab\"/></a>"
      ]
    },
    {
      "cell_type": "markdown",
      "metadata": {
        "id": "tTWl_2t_e7l7"
      },
      "source": [
        "# **Project - Predictive Analytics: New York City Taxi Ride Duration Prediction**\n",
        "\n",
        "---------------\n",
        "\n",
        "## **Context**\n",
        "---------------\n",
        "\n",
        "New York City taxi rides form the core of the traffic in the city of New York. The many rides taken every day by New Yorkers in the busy city can give us a great idea of traffic times, road blockages, and so on. A typical taxi company faces a common problem of efficiently assigning the cabs to passengers so that the service is hassle-free. One of the main issues is predicting the duration of the current ride so it can predict when the cab will be free for the next trip. Here the data set contains various information regarding the taxi trips, its duration in New York City. We will apply different techniques here to get insights into the data and determine how different variables are dependent on the Trip Duration.\n",
        "\n",
        "-----------------\n",
        "## **Objective**\n",
        "-----------------\n",
        "\n",
        "- To Build a predictive model, for predicting the duration for the taxi ride. \n",
        "- Use Automated feature engineering to create new features\n",
        "\n",
        "-----------------\n",
        "## **Dataset**\n",
        "-----------------\n",
        "\n",
        "The ``trips`` table has the following fields\n",
        "* ``id`` which uniquely identifies the trip\n",
        "* ``vendor_id`` is the taxi cab company - in our case study we have data from three different cab companies\n",
        "* ``pickup_datetime`` the time stamp for pickup\n",
        "* ``dropoff_datetime`` the time stamp for drop-off\n",
        "* ``passenger_count`` the number of passengers for the trip\n",
        "* ``trip_distance`` total distance of the trip in miles \n",
        "* ``pickup_longitude`` the longitude for pickup\n",
        "* ``pickup_latitude`` the latitude for pickup\n",
        "* ``dropoff_longitude``the longitude of dropoff \n",
        "* ``dropoff_latitude`` the latitude of dropoff\n",
        "* ``payment_type`` a numeric code signifying how the passenger paid for the trip. 1= Credit card 2= Cash 3= No charge 4= Dispute 5= Unknown 6= Voided\n",
        "* ``trip_duration`` this is the duration we would like to predict using other fields \n",
        "* ``pickup_neighborhood`` a one or two letter id of the neighborhood where the trip started\n",
        "* ``dropoff_neighborhood`` a one or two letter id of the neighborhood where the trip ended\n",
        "\n",
        "\n",
        "#### **We will do the following steps:**\n",
        "  * Install the dependencies\n",
        "  * Load the data as pandas dataframe\n",
        "  * Perform EDA on the dataset\n",
        "  * Build features with Deep Feature Synthesis using the [featuretools](https://featuretools.com) package. We will start with simple features and incrementally improve the feature definitions and examine the accuracy of the system"
      ]
    },
    {
      "cell_type": "markdown",
      "metadata": {
        "id": "-hcYKasee7l_"
      },
      "source": [
        "****Uncomment the following code and run it to install the featuretools library****"
      ]
    },
    {
      "cell_type": "code",
      "execution_count": null,
      "metadata": {
        "id": "54a99iG2e7l_",
        "colab": {
          "base_uri": "https://localhost:8080/"
        },
        "outputId": "01b4eb15-89d4-4769-cc84-38a5cec9ddc3"
      },
      "outputs": [
        {
          "output_type": "stream",
          "name": "stdout",
          "text": [
            "Looking in indexes: https://pypi.org/simple, https://us-python.pkg.dev/colab-wheels/public/simple/\n",
            "Requirement already satisfied: featuretools==0.27.0 in /usr/local/lib/python3.7/dist-packages (0.27.0)\n",
            "Requirement already satisfied: psutil>=5.6.6 in /usr/local/lib/python3.7/dist-packages (from featuretools==0.27.0) (5.9.1)\n",
            "Requirement already satisfied: click>=7.0.0 in /usr/local/lib/python3.7/dist-packages (from featuretools==0.27.0) (7.1.2)\n",
            "Requirement already satisfied: scipy>=1.3.2 in /usr/local/lib/python3.7/dist-packages (from featuretools==0.27.0) (1.7.3)\n",
            "Requirement already satisfied: pandas<2.0.0,>=1.2.0 in /usr/local/lib/python3.7/dist-packages (from featuretools==0.27.0) (1.3.5)\n",
            "Requirement already satisfied: tqdm>=4.32.0 in /usr/local/lib/python3.7/dist-packages (from featuretools==0.27.0) (4.64.0)\n",
            "Requirement already satisfied: cloudpickle>=0.4.0 in /usr/local/lib/python3.7/dist-packages (from featuretools==0.27.0) (2.1.0)\n",
            "Requirement already satisfied: distributed>=2.12.0 in /usr/local/lib/python3.7/dist-packages (from featuretools==0.27.0) (2.30.1)\n",
            "Requirement already satisfied: dask[dataframe]>=2.12.0 in /usr/local/lib/python3.7/dist-packages (from featuretools==0.27.0) (2.12.0)\n",
            "Requirement already satisfied: pyyaml>=5.4 in /usr/local/lib/python3.7/dist-packages (from featuretools==0.27.0) (6.0)\n",
            "Requirement already satisfied: numpy>=1.16.6 in /usr/local/lib/python3.7/dist-packages (from featuretools==0.27.0) (1.21.6)\n",
            "Requirement already satisfied: toolz>=0.7.3 in /usr/local/lib/python3.7/dist-packages (from dask[dataframe]>=2.12.0->featuretools==0.27.0) (0.12.0)\n",
            "Requirement already satisfied: fsspec>=0.6.0 in /usr/local/lib/python3.7/dist-packages (from dask[dataframe]>=2.12.0->featuretools==0.27.0) (2022.7.1)\n",
            "Requirement already satisfied: partd>=0.3.10 in /usr/local/lib/python3.7/dist-packages (from dask[dataframe]>=2.12.0->featuretools==0.27.0) (1.2.0)\n",
            "Requirement already satisfied: tblib>=1.6.0 in /usr/local/lib/python3.7/dist-packages (from distributed>=2.12.0->featuretools==0.27.0) (1.7.0)\n",
            "Requirement already satisfied: setuptools in /usr/local/lib/python3.7/dist-packages (from distributed>=2.12.0->featuretools==0.27.0) (57.4.0)\n",
            "Requirement already satisfied: msgpack>=0.6.0 in /usr/local/lib/python3.7/dist-packages (from distributed>=2.12.0->featuretools==0.27.0) (1.0.4)\n",
            "Requirement already satisfied: tornado>=5 in /usr/local/lib/python3.7/dist-packages (from distributed>=2.12.0->featuretools==0.27.0) (5.1.1)\n",
            "Requirement already satisfied: zict>=0.1.3 in /usr/local/lib/python3.7/dist-packages (from distributed>=2.12.0->featuretools==0.27.0) (2.2.0)\n",
            "Requirement already satisfied: sortedcontainers!=2.0.0,!=2.0.1 in /usr/local/lib/python3.7/dist-packages (from distributed>=2.12.0->featuretools==0.27.0) (2.4.0)\n",
            "Requirement already satisfied: python-dateutil>=2.7.3 in /usr/local/lib/python3.7/dist-packages (from pandas<2.0.0,>=1.2.0->featuretools==0.27.0) (2.8.2)\n",
            "Requirement already satisfied: pytz>=2017.3 in /usr/local/lib/python3.7/dist-packages (from pandas<2.0.0,>=1.2.0->featuretools==0.27.0) (2022.1)\n",
            "Requirement already satisfied: locket in /usr/local/lib/python3.7/dist-packages (from partd>=0.3.10->dask[dataframe]>=2.12.0->featuretools==0.27.0) (1.0.0)\n",
            "Requirement already satisfied: six>=1.5 in /usr/local/lib/python3.7/dist-packages (from python-dateutil>=2.7.3->pandas<2.0.0,>=1.2.0->featuretools==0.27.0) (1.15.0)\n",
            "Requirement already satisfied: heapdict in /usr/local/lib/python3.7/dist-packages (from zict>=0.1.3->distributed>=2.12.0->featuretools==0.27.0) (1.0.1)\n"
          ]
        }
      ],
      "source": [
        "# Uncomment the code given below, and run the line of code to install featuretools library\n",
        "\n",
        "!pip install featuretools==0.27.0"
      ]
    },
    {
      "cell_type": "markdown",
      "metadata": {
        "id": "9AGtC-ike7mA"
      },
      "source": [
        "**Note:** If **!pip install featuretools** doesn't work, please install using the **anaconda prompt** by typing the following command in anaconda prompt\n",
        "> `conda install -c conda-forge featuretools==0.27.0`\n",
        "\n",
        "\n"
      ]
    },
    {
      "cell_type": "markdown",
      "metadata": {
        "id": "Kdk4KAaye7mB"
      },
      "source": [
        "## **Import the necessary libraries**"
      ]
    },
    {
      "cell_type": "code",
      "execution_count": null,
      "metadata": {
        "id": "knjQ7T2ie7mB",
        "colab": {
          "base_uri": "https://localhost:8080/"
        },
        "outputId": "4c1f2aaf-3c38-4508-a82f-2af593a7d7bc"
      },
      "outputs": [
        {
          "output_type": "stream",
          "name": "stdout",
          "text": [
            "0.27.0\n",
            "The autoreload extension is already loaded. To reload it, use:\n",
            "  %reload_ext autoreload\n"
          ]
        }
      ],
      "source": [
        "# Basic libraries of python for numeric and dataframe computations\n",
        "import numpy as np                              \n",
        "import pandas as pd\n",
        "\n",
        "# Basic library for data visualization\n",
        "import matplotlib.pyplot as plt     \n",
        "\n",
        "# Slightly advanced library for data visualization            \n",
        "import seaborn as sns                          \n",
        "\n",
        "# Featauretools for feature engineering\n",
        "import featuretools as ft\n",
        "\n",
        "from sklearn.model_selection import train_test_split\n",
        "from sklearn.impute import SimpleImputer\n",
        "\n",
        "# Importing gradient boosting regressor, to make prediction\n",
        "from sklearn.metrics import r2_score\n",
        "from sklearn.linear_model import LinearRegression\n",
        "from sklearn.ensemble import RandomForestRegressor\n",
        "from sklearn.tree import DecisionTreeRegressor\n",
        "\n",
        "# Importing primitives\n",
        "from featuretools.primitives import (Minute, Hour, Day, Month,\n",
        "                                     Weekday, IsWeekend, Count, Sum, Mean, Median, Std, Min, Max)\n",
        "\n",
        "# Used to ignore the warning given as output of the code\n",
        "import warnings\n",
        "warnings.filterwarnings(\"ignore\")\n",
        "\n",
        "print(ft.__version__)\n",
        "%load_ext autoreload\n",
        "%autoreload 2"
      ]
    },
    {
      "cell_type": "code",
      "execution_count": null,
      "metadata": {
        "id": "g8D8tqhZe7mC"
      },
      "outputs": [],
      "source": [
        "# Set global random seed\n",
        "np.random.seed(40)\n",
        "\n",
        "# To preview first five rows. \n",
        "def preview(df, n=5):\n",
        "    \"\"\"return n rows that have fewest number of nulls\"\"\"\n",
        "    order = df.isnull().sum(axis=1).sort_values().head(n).index\n",
        "    return df.loc[order]\n",
        "\n",
        "# To compute features using automated feature engineering. \n",
        "def compute_features(features, cutoff_time):\n",
        "    # Shuffle so we don't see encoded features in the front or backs\n",
        "\n",
        "    np.random.shuffle(features)\n",
        "    feature_matrix = ft.calculate_feature_matrix(features,\n",
        "                                                 cutoff_time=cutoff_time,\n",
        "                                                 approximate='36d',\n",
        "                                                 verbose=True)\n",
        "    print(\"Finishing computing...\")\n",
        "    feature_matrix, features = ft.encode_features(feature_matrix, features,\n",
        "                                                  to_encode=[\"pickup_neighborhood\", \"dropoff_neighborhood\"],\n",
        "                                                  include_unknown=False)\n",
        "    return feature_matrix\n",
        "\n",
        "\n",
        "# To generate train and test dataset\n",
        "def get_train_test_fm(feature_matrix, percentage):\n",
        "    nrows = feature_matrix.shape[0]\n",
        "    head = int(nrows * percentage)\n",
        "    tail = nrows-head\n",
        "    X_train = feature_matrix.head(head)\n",
        "    y_train = X_train['trip_duration']\n",
        "    X_train = X_train.drop(['trip_duration'], axis=1)\n",
        "    imp = SimpleImputer()\n",
        "    X_train = imp.fit_transform(X_train)\n",
        "    X_test = feature_matrix.tail(tail)\n",
        "    y_test = X_test['trip_duration']\n",
        "    X_test = X_test.drop(['trip_duration'], axis=1)\n",
        "    X_test = imp.transform(X_test)\n",
        "\n",
        "    return (X_train, y_train, X_test,y_test)\n",
        "\n",
        "\n",
        "\n",
        "# To see the feature importance of variables in the final model\n",
        "def feature_importances(model, feature_names, n=5):\n",
        "    importances = model.feature_importances_\n",
        "    zipped = sorted(zip(feature_names, importances), key=lambda x: -x[1])\n",
        "    for i, f in enumerate(zipped[:n]):\n",
        "        print(\"%d: Feature: %s, %.3f\" % (i+1, f[0], f[1]))"
      ]
    },
    {
      "cell_type": "markdown",
      "metadata": {
        "id": "BIRVAApRe7mD"
      },
      "source": [
        "### **Load the datasets**"
      ]
    },
    {
      "cell_type": "code",
      "execution_count": null,
      "metadata": {
        "id": "Reap8YRCe7mD"
      },
      "outputs": [],
      "source": [
        "# If you are using Google Colab then while reading the files using 'pd.read_csv()', replace the location of CSV files with the exact location of the files in your drive folder. \n",
        "trips = pd.read_csv('/content/drive/MyDrive/project 3/trips.csv',\n",
        "                        parse_dates=[\"pickup_datetime\",\"dropoff_datetime\"],\n",
        "                        dtype={'vendor_id':\"category\",'passenger_count':'int64'},\n",
        "                        encoding='utf-8')\n",
        "trips[\"payment_type\"] = trips[\"payment_type\"].apply(str)\n",
        "trips = trips.dropna(axis=0, how='any', subset=['trip_duration'])\n",
        "\n",
        "pickup_neighborhoods = pd.read_csv(\"/content/drive/MyDrive/project 3/pickup_neighborhoods.csv\", encoding='utf-8')\n",
        "dropoff_neighborhoods = pd.read_csv(\"/content/drive/MyDrive/project 3/dropoff_neighborhoods.csv\", encoding='utf-8')"
      ]
    },
    {
      "cell_type": "code",
      "source": [
        "from google.colab import drive\n",
        "drive.mount('/content/drive')"
      ],
      "metadata": {
        "colab": {
          "base_uri": "https://localhost:8080/"
        },
        "id": "mD340mmn3Dxh",
        "outputId": "73c418a6-cc87-4374-d248-24d963fe799d"
      },
      "execution_count": null,
      "outputs": [
        {
          "output_type": "stream",
          "name": "stdout",
          "text": [
            "Mounted at /content/drive\n"
          ]
        }
      ]
    },
    {
      "cell_type": "markdown",
      "metadata": {
        "id": "P6wZMKp6e7mE"
      },
      "source": [
        "### **View the Datasets**"
      ]
    },
    {
      "cell_type": "code",
      "execution_count": null,
      "metadata": {
        "ExecuteTime": {
          "end_time": "2021-07-15T12:40:47.210990Z",
          "start_time": "2021-07-15T12:40:41.965643Z"
        },
        "scrolled": false,
        "id": "zsZ3qTume7mE",
        "colab": {
          "base_uri": "https://localhost:8080/",
          "height": 601
        },
        "outputId": "e671fbf8-45bb-4a33-f30f-0e0efc4d6440"
      },
      "outputs": [
        {
          "output_type": "execute_result",
          "data": {
            "text/plain": [
              "            id vendor_id     pickup_datetime    dropoff_datetime  \\\n",
              "0            0         2 2016-01-01 00:00:19 2016-01-01 00:06:31   \n",
              "649598  679634         1 2016-04-30 11:45:59 2016-04-30 11:47:47   \n",
              "649599  679635         2 2016-04-30 11:46:04 2016-04-30 11:47:41   \n",
              "649600  679636         2 2016-04-30 11:46:39 2016-04-30 11:58:02   \n",
              "649601  679637         2 2016-04-30 11:46:44 2016-04-30 11:55:42   \n",
              "649602  679638         2 2016-04-30 11:47:30 2016-04-30 11:54:00   \n",
              "649603  679639         1 2016-04-30 11:47:38 2016-04-30 11:57:22   \n",
              "649604  679640         1 2016-04-30 11:47:49 2016-04-30 12:01:05   \n",
              "649605  679641         1 2016-04-30 11:48:17 2016-04-30 12:01:02   \n",
              "649606  679642         1 2016-04-30 11:49:44 2016-04-30 12:00:03   \n",
              "\n",
              "        passenger_count  trip_distance  pickup_longitude  pickup_latitude  \\\n",
              "0                     3           1.32        -73.961258        40.796200   \n",
              "649598                1           0.50        -73.994919        40.755226   \n",
              "649599                2           0.33        -73.978935        40.777172   \n",
              "649600                1           1.78        -73.998207        40.745201   \n",
              "649601                1           1.40        -73.987129        40.739429   \n",
              "649602                1           1.12        -73.942375        40.790768   \n",
              "649603                2           1.90        -73.960800        40.769920   \n",
              "649604                1           4.30        -74.013885        40.709515   \n",
              "649605                1           2.90        -73.975426        40.757584   \n",
              "649606                1           1.30        -73.989815        40.750454   \n",
              "\n",
              "        dropoff_longitude  dropoff_latitude payment_type  trip_duration  \\\n",
              "0              -73.950050         40.787312            2          372.0   \n",
              "649598         -74.000351         40.747917            1          108.0   \n",
              "649599         -73.981888         40.773136            2           97.0   \n",
              "649600         -73.990265         40.729023            2          683.0   \n",
              "649601         -74.007370         40.743511            2          538.0   \n",
              "649602         -73.952095         40.777145            2          390.0   \n",
              "649603         -73.978966         40.785698            1          584.0   \n",
              "649604         -73.987213         40.722343            2          796.0   \n",
              "649605         -73.999016         40.722027            1          765.0   \n",
              "649606         -74.000473         40.762352            2          619.0   \n",
              "\n",
              "       pickup_neighborhood dropoff_neighborhood  \n",
              "0                       AH                    C  \n",
              "649598                   D                   AG  \n",
              "649599                  AV                   AV  \n",
              "649600                  AP                    H  \n",
              "649601                   R                    Q  \n",
              "649602                   J                   AM  \n",
              "649603                   K                    I  \n",
              "649604                  AU                   AC  \n",
              "649605                   A                    X  \n",
              "649606                   D                    P  "
            ],
            "text/html": [
              "\n",
              "  <div id=\"df-b1edfcbd-3894-48ba-b28e-689bc981467e\">\n",
              "    <div class=\"colab-df-container\">\n",
              "      <div>\n",
              "<style scoped>\n",
              "    .dataframe tbody tr th:only-of-type {\n",
              "        vertical-align: middle;\n",
              "    }\n",
              "\n",
              "    .dataframe tbody tr th {\n",
              "        vertical-align: top;\n",
              "    }\n",
              "\n",
              "    .dataframe thead th {\n",
              "        text-align: right;\n",
              "    }\n",
              "</style>\n",
              "<table border=\"1\" class=\"dataframe\">\n",
              "  <thead>\n",
              "    <tr style=\"text-align: right;\">\n",
              "      <th></th>\n",
              "      <th>id</th>\n",
              "      <th>vendor_id</th>\n",
              "      <th>pickup_datetime</th>\n",
              "      <th>dropoff_datetime</th>\n",
              "      <th>passenger_count</th>\n",
              "      <th>trip_distance</th>\n",
              "      <th>pickup_longitude</th>\n",
              "      <th>pickup_latitude</th>\n",
              "      <th>dropoff_longitude</th>\n",
              "      <th>dropoff_latitude</th>\n",
              "      <th>payment_type</th>\n",
              "      <th>trip_duration</th>\n",
              "      <th>pickup_neighborhood</th>\n",
              "      <th>dropoff_neighborhood</th>\n",
              "    </tr>\n",
              "  </thead>\n",
              "  <tbody>\n",
              "    <tr>\n",
              "      <th>0</th>\n",
              "      <td>0</td>\n",
              "      <td>2</td>\n",
              "      <td>2016-01-01 00:00:19</td>\n",
              "      <td>2016-01-01 00:06:31</td>\n",
              "      <td>3</td>\n",
              "      <td>1.32</td>\n",
              "      <td>-73.961258</td>\n",
              "      <td>40.796200</td>\n",
              "      <td>-73.950050</td>\n",
              "      <td>40.787312</td>\n",
              "      <td>2</td>\n",
              "      <td>372.0</td>\n",
              "      <td>AH</td>\n",
              "      <td>C</td>\n",
              "    </tr>\n",
              "    <tr>\n",
              "      <th>649598</th>\n",
              "      <td>679634</td>\n",
              "      <td>1</td>\n",
              "      <td>2016-04-30 11:45:59</td>\n",
              "      <td>2016-04-30 11:47:47</td>\n",
              "      <td>1</td>\n",
              "      <td>0.50</td>\n",
              "      <td>-73.994919</td>\n",
              "      <td>40.755226</td>\n",
              "      <td>-74.000351</td>\n",
              "      <td>40.747917</td>\n",
              "      <td>1</td>\n",
              "      <td>108.0</td>\n",
              "      <td>D</td>\n",
              "      <td>AG</td>\n",
              "    </tr>\n",
              "    <tr>\n",
              "      <th>649599</th>\n",
              "      <td>679635</td>\n",
              "      <td>2</td>\n",
              "      <td>2016-04-30 11:46:04</td>\n",
              "      <td>2016-04-30 11:47:41</td>\n",
              "      <td>2</td>\n",
              "      <td>0.33</td>\n",
              "      <td>-73.978935</td>\n",
              "      <td>40.777172</td>\n",
              "      <td>-73.981888</td>\n",
              "      <td>40.773136</td>\n",
              "      <td>2</td>\n",
              "      <td>97.0</td>\n",
              "      <td>AV</td>\n",
              "      <td>AV</td>\n",
              "    </tr>\n",
              "    <tr>\n",
              "      <th>649600</th>\n",
              "      <td>679636</td>\n",
              "      <td>2</td>\n",
              "      <td>2016-04-30 11:46:39</td>\n",
              "      <td>2016-04-30 11:58:02</td>\n",
              "      <td>1</td>\n",
              "      <td>1.78</td>\n",
              "      <td>-73.998207</td>\n",
              "      <td>40.745201</td>\n",
              "      <td>-73.990265</td>\n",
              "      <td>40.729023</td>\n",
              "      <td>2</td>\n",
              "      <td>683.0</td>\n",
              "      <td>AP</td>\n",
              "      <td>H</td>\n",
              "    </tr>\n",
              "    <tr>\n",
              "      <th>649601</th>\n",
              "      <td>679637</td>\n",
              "      <td>2</td>\n",
              "      <td>2016-04-30 11:46:44</td>\n",
              "      <td>2016-04-30 11:55:42</td>\n",
              "      <td>1</td>\n",
              "      <td>1.40</td>\n",
              "      <td>-73.987129</td>\n",
              "      <td>40.739429</td>\n",
              "      <td>-74.007370</td>\n",
              "      <td>40.743511</td>\n",
              "      <td>2</td>\n",
              "      <td>538.0</td>\n",
              "      <td>R</td>\n",
              "      <td>Q</td>\n",
              "    </tr>\n",
              "    <tr>\n",
              "      <th>649602</th>\n",
              "      <td>679638</td>\n",
              "      <td>2</td>\n",
              "      <td>2016-04-30 11:47:30</td>\n",
              "      <td>2016-04-30 11:54:00</td>\n",
              "      <td>1</td>\n",
              "      <td>1.12</td>\n",
              "      <td>-73.942375</td>\n",
              "      <td>40.790768</td>\n",
              "      <td>-73.952095</td>\n",
              "      <td>40.777145</td>\n",
              "      <td>2</td>\n",
              "      <td>390.0</td>\n",
              "      <td>J</td>\n",
              "      <td>AM</td>\n",
              "    </tr>\n",
              "    <tr>\n",
              "      <th>649603</th>\n",
              "      <td>679639</td>\n",
              "      <td>1</td>\n",
              "      <td>2016-04-30 11:47:38</td>\n",
              "      <td>2016-04-30 11:57:22</td>\n",
              "      <td>2</td>\n",
              "      <td>1.90</td>\n",
              "      <td>-73.960800</td>\n",
              "      <td>40.769920</td>\n",
              "      <td>-73.978966</td>\n",
              "      <td>40.785698</td>\n",
              "      <td>1</td>\n",
              "      <td>584.0</td>\n",
              "      <td>K</td>\n",
              "      <td>I</td>\n",
              "    </tr>\n",
              "    <tr>\n",
              "      <th>649604</th>\n",
              "      <td>679640</td>\n",
              "      <td>1</td>\n",
              "      <td>2016-04-30 11:47:49</td>\n",
              "      <td>2016-04-30 12:01:05</td>\n",
              "      <td>1</td>\n",
              "      <td>4.30</td>\n",
              "      <td>-74.013885</td>\n",
              "      <td>40.709515</td>\n",
              "      <td>-73.987213</td>\n",
              "      <td>40.722343</td>\n",
              "      <td>2</td>\n",
              "      <td>796.0</td>\n",
              "      <td>AU</td>\n",
              "      <td>AC</td>\n",
              "    </tr>\n",
              "    <tr>\n",
              "      <th>649605</th>\n",
              "      <td>679641</td>\n",
              "      <td>1</td>\n",
              "      <td>2016-04-30 11:48:17</td>\n",
              "      <td>2016-04-30 12:01:02</td>\n",
              "      <td>1</td>\n",
              "      <td>2.90</td>\n",
              "      <td>-73.975426</td>\n",
              "      <td>40.757584</td>\n",
              "      <td>-73.999016</td>\n",
              "      <td>40.722027</td>\n",
              "      <td>1</td>\n",
              "      <td>765.0</td>\n",
              "      <td>A</td>\n",
              "      <td>X</td>\n",
              "    </tr>\n",
              "    <tr>\n",
              "      <th>649606</th>\n",
              "      <td>679642</td>\n",
              "      <td>1</td>\n",
              "      <td>2016-04-30 11:49:44</td>\n",
              "      <td>2016-04-30 12:00:03</td>\n",
              "      <td>1</td>\n",
              "      <td>1.30</td>\n",
              "      <td>-73.989815</td>\n",
              "      <td>40.750454</td>\n",
              "      <td>-74.000473</td>\n",
              "      <td>40.762352</td>\n",
              "      <td>2</td>\n",
              "      <td>619.0</td>\n",
              "      <td>D</td>\n",
              "      <td>P</td>\n",
              "    </tr>\n",
              "  </tbody>\n",
              "</table>\n",
              "</div>\n",
              "      <button class=\"colab-df-convert\" onclick=\"convertToInteractive('df-b1edfcbd-3894-48ba-b28e-689bc981467e')\"\n",
              "              title=\"Convert this dataframe to an interactive table.\"\n",
              "              style=\"display:none;\">\n",
              "        \n",
              "  <svg xmlns=\"http://www.w3.org/2000/svg\" height=\"24px\"viewBox=\"0 0 24 24\"\n",
              "       width=\"24px\">\n",
              "    <path d=\"M0 0h24v24H0V0z\" fill=\"none\"/>\n",
              "    <path d=\"M18.56 5.44l.94 2.06.94-2.06 2.06-.94-2.06-.94-.94-2.06-.94 2.06-2.06.94zm-11 1L8.5 8.5l.94-2.06 2.06-.94-2.06-.94L8.5 2.5l-.94 2.06-2.06.94zm10 10l.94 2.06.94-2.06 2.06-.94-2.06-.94-.94-2.06-.94 2.06-2.06.94z\"/><path d=\"M17.41 7.96l-1.37-1.37c-.4-.4-.92-.59-1.43-.59-.52 0-1.04.2-1.43.59L10.3 9.45l-7.72 7.72c-.78.78-.78 2.05 0 2.83L4 21.41c.39.39.9.59 1.41.59.51 0 1.02-.2 1.41-.59l7.78-7.78 2.81-2.81c.8-.78.8-2.07 0-2.86zM5.41 20L4 18.59l7.72-7.72 1.47 1.35L5.41 20z\"/>\n",
              "  </svg>\n",
              "      </button>\n",
              "      \n",
              "  <style>\n",
              "    .colab-df-container {\n",
              "      display:flex;\n",
              "      flex-wrap:wrap;\n",
              "      gap: 12px;\n",
              "    }\n",
              "\n",
              "    .colab-df-convert {\n",
              "      background-color: #E8F0FE;\n",
              "      border: none;\n",
              "      border-radius: 50%;\n",
              "      cursor: pointer;\n",
              "      display: none;\n",
              "      fill: #1967D2;\n",
              "      height: 32px;\n",
              "      padding: 0 0 0 0;\n",
              "      width: 32px;\n",
              "    }\n",
              "\n",
              "    .colab-df-convert:hover {\n",
              "      background-color: #E2EBFA;\n",
              "      box-shadow: 0px 1px 2px rgba(60, 64, 67, 0.3), 0px 1px 3px 1px rgba(60, 64, 67, 0.15);\n",
              "      fill: #174EA6;\n",
              "    }\n",
              "\n",
              "    [theme=dark] .colab-df-convert {\n",
              "      background-color: #3B4455;\n",
              "      fill: #D2E3FC;\n",
              "    }\n",
              "\n",
              "    [theme=dark] .colab-df-convert:hover {\n",
              "      background-color: #434B5C;\n",
              "      box-shadow: 0px 1px 3px 1px rgba(0, 0, 0, 0.15);\n",
              "      filter: drop-shadow(0px 1px 2px rgba(0, 0, 0, 0.3));\n",
              "      fill: #FFFFFF;\n",
              "    }\n",
              "  </style>\n",
              "\n",
              "      <script>\n",
              "        const buttonEl =\n",
              "          document.querySelector('#df-b1edfcbd-3894-48ba-b28e-689bc981467e button.colab-df-convert');\n",
              "        buttonEl.style.display =\n",
              "          google.colab.kernel.accessAllowed ? 'block' : 'none';\n",
              "\n",
              "        async function convertToInteractive(key) {\n",
              "          const element = document.querySelector('#df-b1edfcbd-3894-48ba-b28e-689bc981467e');\n",
              "          const dataTable =\n",
              "            await google.colab.kernel.invokeFunction('convertToInteractive',\n",
              "                                                     [key], {});\n",
              "          if (!dataTable) return;\n",
              "\n",
              "          const docLinkHtml = 'Like what you see? Visit the ' +\n",
              "            '<a target=\"_blank\" href=https://colab.research.google.com/notebooks/data_table.ipynb>data table notebook</a>'\n",
              "            + ' to learn more about interactive tables.';\n",
              "          element.innerHTML = '';\n",
              "          dataTable['output_type'] = 'display_data';\n",
              "          await google.colab.output.renderOutput(dataTable, element);\n",
              "          const docLink = document.createElement('div');\n",
              "          docLink.innerHTML = docLinkHtml;\n",
              "          element.appendChild(docLink);\n",
              "        }\n",
              "      </script>\n",
              "    </div>\n",
              "  </div>\n",
              "  "
            ]
          },
          "metadata": {},
          "execution_count": 10
        }
      ],
      "source": [
        "preview(trips, 10)"
      ]
    },
    {
      "cell_type": "code",
      "execution_count": null,
      "metadata": {
        "id": "7Wl5cILSe7mE"
      },
      "outputs": [],
      "source": [
        "# Drop the rows where at least one element is missing. \n",
        "trips=trips.dropna()"
      ]
    },
    {
      "cell_type": "markdown",
      "metadata": {
        "id": "-s0HEZK2e7mF"
      },
      "source": [
        "For the features used in the model the \"**dropoff_datetime**\" needs to be removed as this value would not be known for real-time prediction and you can basically take the difference between the pickup and dropoff time to find the duration.So, this will restrict our model to be **robust** and **reliable**. So, dropping this feature will help us to avoid **data leakage**.\n",
        "\n",
        "Data leakage in machine learning occurs when the data used to train a machine learning algorithm contains information that the model is attempting to predict, resulting in unreliable and poor prediction outcomes after model deployment."
      ]
    },
    {
      "cell_type": "code",
      "execution_count": null,
      "metadata": {
        "id": "mzuaS3D6e7mF"
      },
      "outputs": [],
      "source": [
        "trips. drop(\"dropoff_datetime\", axis=1, inplace=True) "
      ]
    },
    {
      "cell_type": "markdown",
      "metadata": {
        "id": "ihSHO5rve7mF"
      },
      "source": [
        "### **Let's check the first five rows of the data**"
      ]
    },
    {
      "cell_type": "code",
      "execution_count": null,
      "metadata": {
        "id": "Jjcn8fOBe7mF",
        "colab": {
          "base_uri": "https://localhost:8080/",
          "height": 357
        },
        "outputId": "b59c10dd-bc2d-4254-bfe6-a80cbe8cf590"
      },
      "outputs": [
        {
          "output_type": "execute_result",
          "data": {
            "text/plain": [
              "   id vendor_id     pickup_datetime  passenger_count  trip_distance  \\\n",
              "0   0         2 2016-01-01 00:00:19                3           1.32   \n",
              "1   1         2 2016-01-01 00:01:45                1          13.70   \n",
              "2   2         1 2016-01-01 00:01:47                2           5.30   \n",
              "3   3         2 2016-01-01 00:01:48                1           7.19   \n",
              "4   4         1 2016-01-01 00:02:49                2           2.90   \n",
              "\n",
              "   pickup_longitude  pickup_latitude  dropoff_longitude  dropoff_latitude  \\\n",
              "0        -73.961258        40.796200         -73.950050         40.787312   \n",
              "1        -73.956169        40.707756         -73.939949         40.839558   \n",
              "2        -73.993103        40.752632         -73.953903         40.816540   \n",
              "3        -73.983009        40.731419         -73.930969         40.808460   \n",
              "4        -74.004631        40.747234         -73.976395         40.777237   \n",
              "\n",
              "  payment_type  trip_duration pickup_neighborhood dropoff_neighborhood  \n",
              "0            2          372.0                  AH                    C  \n",
              "1            1         1553.0                   Z                    S  \n",
              "2            2         1204.0                   D                   AL  \n",
              "3            2          858.0                  AT                    J  \n",
              "4            1         1076.0                  AG                   AV  "
            ],
            "text/html": [
              "\n",
              "  <div id=\"df-f7e6970f-70d6-4c62-b86b-01e24c111ef6\">\n",
              "    <div class=\"colab-df-container\">\n",
              "      <div>\n",
              "<style scoped>\n",
              "    .dataframe tbody tr th:only-of-type {\n",
              "        vertical-align: middle;\n",
              "    }\n",
              "\n",
              "    .dataframe tbody tr th {\n",
              "        vertical-align: top;\n",
              "    }\n",
              "\n",
              "    .dataframe thead th {\n",
              "        text-align: right;\n",
              "    }\n",
              "</style>\n",
              "<table border=\"1\" class=\"dataframe\">\n",
              "  <thead>\n",
              "    <tr style=\"text-align: right;\">\n",
              "      <th></th>\n",
              "      <th>id</th>\n",
              "      <th>vendor_id</th>\n",
              "      <th>pickup_datetime</th>\n",
              "      <th>passenger_count</th>\n",
              "      <th>trip_distance</th>\n",
              "      <th>pickup_longitude</th>\n",
              "      <th>pickup_latitude</th>\n",
              "      <th>dropoff_longitude</th>\n",
              "      <th>dropoff_latitude</th>\n",
              "      <th>payment_type</th>\n",
              "      <th>trip_duration</th>\n",
              "      <th>pickup_neighborhood</th>\n",
              "      <th>dropoff_neighborhood</th>\n",
              "    </tr>\n",
              "  </thead>\n",
              "  <tbody>\n",
              "    <tr>\n",
              "      <th>0</th>\n",
              "      <td>0</td>\n",
              "      <td>2</td>\n",
              "      <td>2016-01-01 00:00:19</td>\n",
              "      <td>3</td>\n",
              "      <td>1.32</td>\n",
              "      <td>-73.961258</td>\n",
              "      <td>40.796200</td>\n",
              "      <td>-73.950050</td>\n",
              "      <td>40.787312</td>\n",
              "      <td>2</td>\n",
              "      <td>372.0</td>\n",
              "      <td>AH</td>\n",
              "      <td>C</td>\n",
              "    </tr>\n",
              "    <tr>\n",
              "      <th>1</th>\n",
              "      <td>1</td>\n",
              "      <td>2</td>\n",
              "      <td>2016-01-01 00:01:45</td>\n",
              "      <td>1</td>\n",
              "      <td>13.70</td>\n",
              "      <td>-73.956169</td>\n",
              "      <td>40.707756</td>\n",
              "      <td>-73.939949</td>\n",
              "      <td>40.839558</td>\n",
              "      <td>1</td>\n",
              "      <td>1553.0</td>\n",
              "      <td>Z</td>\n",
              "      <td>S</td>\n",
              "    </tr>\n",
              "    <tr>\n",
              "      <th>2</th>\n",
              "      <td>2</td>\n",
              "      <td>1</td>\n",
              "      <td>2016-01-01 00:01:47</td>\n",
              "      <td>2</td>\n",
              "      <td>5.30</td>\n",
              "      <td>-73.993103</td>\n",
              "      <td>40.752632</td>\n",
              "      <td>-73.953903</td>\n",
              "      <td>40.816540</td>\n",
              "      <td>2</td>\n",
              "      <td>1204.0</td>\n",
              "      <td>D</td>\n",
              "      <td>AL</td>\n",
              "    </tr>\n",
              "    <tr>\n",
              "      <th>3</th>\n",
              "      <td>3</td>\n",
              "      <td>2</td>\n",
              "      <td>2016-01-01 00:01:48</td>\n",
              "      <td>1</td>\n",
              "      <td>7.19</td>\n",
              "      <td>-73.983009</td>\n",
              "      <td>40.731419</td>\n",
              "      <td>-73.930969</td>\n",
              "      <td>40.808460</td>\n",
              "      <td>2</td>\n",
              "      <td>858.0</td>\n",
              "      <td>AT</td>\n",
              "      <td>J</td>\n",
              "    </tr>\n",
              "    <tr>\n",
              "      <th>4</th>\n",
              "      <td>4</td>\n",
              "      <td>1</td>\n",
              "      <td>2016-01-01 00:02:49</td>\n",
              "      <td>2</td>\n",
              "      <td>2.90</td>\n",
              "      <td>-74.004631</td>\n",
              "      <td>40.747234</td>\n",
              "      <td>-73.976395</td>\n",
              "      <td>40.777237</td>\n",
              "      <td>1</td>\n",
              "      <td>1076.0</td>\n",
              "      <td>AG</td>\n",
              "      <td>AV</td>\n",
              "    </tr>\n",
              "  </tbody>\n",
              "</table>\n",
              "</div>\n",
              "      <button class=\"colab-df-convert\" onclick=\"convertToInteractive('df-f7e6970f-70d6-4c62-b86b-01e24c111ef6')\"\n",
              "              title=\"Convert this dataframe to an interactive table.\"\n",
              "              style=\"display:none;\">\n",
              "        \n",
              "  <svg xmlns=\"http://www.w3.org/2000/svg\" height=\"24px\"viewBox=\"0 0 24 24\"\n",
              "       width=\"24px\">\n",
              "    <path d=\"M0 0h24v24H0V0z\" fill=\"none\"/>\n",
              "    <path d=\"M18.56 5.44l.94 2.06.94-2.06 2.06-.94-2.06-.94-.94-2.06-.94 2.06-2.06.94zm-11 1L8.5 8.5l.94-2.06 2.06-.94-2.06-.94L8.5 2.5l-.94 2.06-2.06.94zm10 10l.94 2.06.94-2.06 2.06-.94-2.06-.94-.94-2.06-.94 2.06-2.06.94z\"/><path d=\"M17.41 7.96l-1.37-1.37c-.4-.4-.92-.59-1.43-.59-.52 0-1.04.2-1.43.59L10.3 9.45l-7.72 7.72c-.78.78-.78 2.05 0 2.83L4 21.41c.39.39.9.59 1.41.59.51 0 1.02-.2 1.41-.59l7.78-7.78 2.81-2.81c.8-.78.8-2.07 0-2.86zM5.41 20L4 18.59l7.72-7.72 1.47 1.35L5.41 20z\"/>\n",
              "  </svg>\n",
              "      </button>\n",
              "      \n",
              "  <style>\n",
              "    .colab-df-container {\n",
              "      display:flex;\n",
              "      flex-wrap:wrap;\n",
              "      gap: 12px;\n",
              "    }\n",
              "\n",
              "    .colab-df-convert {\n",
              "      background-color: #E8F0FE;\n",
              "      border: none;\n",
              "      border-radius: 50%;\n",
              "      cursor: pointer;\n",
              "      display: none;\n",
              "      fill: #1967D2;\n",
              "      height: 32px;\n",
              "      padding: 0 0 0 0;\n",
              "      width: 32px;\n",
              "    }\n",
              "\n",
              "    .colab-df-convert:hover {\n",
              "      background-color: #E2EBFA;\n",
              "      box-shadow: 0px 1px 2px rgba(60, 64, 67, 0.3), 0px 1px 3px 1px rgba(60, 64, 67, 0.15);\n",
              "      fill: #174EA6;\n",
              "    }\n",
              "\n",
              "    [theme=dark] .colab-df-convert {\n",
              "      background-color: #3B4455;\n",
              "      fill: #D2E3FC;\n",
              "    }\n",
              "\n",
              "    [theme=dark] .colab-df-convert:hover {\n",
              "      background-color: #434B5C;\n",
              "      box-shadow: 0px 1px 3px 1px rgba(0, 0, 0, 0.15);\n",
              "      filter: drop-shadow(0px 1px 2px rgba(0, 0, 0, 0.3));\n",
              "      fill: #FFFFFF;\n",
              "    }\n",
              "  </style>\n",
              "\n",
              "      <script>\n",
              "        const buttonEl =\n",
              "          document.querySelector('#df-f7e6970f-70d6-4c62-b86b-01e24c111ef6 button.colab-df-convert');\n",
              "        buttonEl.style.display =\n",
              "          google.colab.kernel.accessAllowed ? 'block' : 'none';\n",
              "\n",
              "        async function convertToInteractive(key) {\n",
              "          const element = document.querySelector('#df-f7e6970f-70d6-4c62-b86b-01e24c111ef6');\n",
              "          const dataTable =\n",
              "            await google.colab.kernel.invokeFunction('convertToInteractive',\n",
              "                                                     [key], {});\n",
              "          if (!dataTable) return;\n",
              "\n",
              "          const docLinkHtml = 'Like what you see? Visit the ' +\n",
              "            '<a target=\"_blank\" href=https://colab.research.google.com/notebooks/data_table.ipynb>data table notebook</a>'\n",
              "            + ' to learn more about interactive tables.';\n",
              "          element.innerHTML = '';\n",
              "          dataTable['output_type'] = 'display_data';\n",
              "          await google.colab.output.renderOutput(dataTable, element);\n",
              "          const docLink = document.createElement('div');\n",
              "          docLink.innerHTML = docLinkHtml;\n",
              "          element.appendChild(docLink);\n",
              "        }\n",
              "      </script>\n",
              "    </div>\n",
              "  </div>\n",
              "  "
            ]
          },
          "metadata": {},
          "execution_count": 13
        }
      ],
      "source": [
        "trips.head()"
      ]
    },
    {
      "cell_type": "markdown",
      "metadata": {
        "id": "bfJStwuxe7mF"
      },
      "source": [
        "Let's check the **info** of the data"
      ]
    },
    {
      "cell_type": "code",
      "execution_count": null,
      "metadata": {
        "id": "KnDDlVm1e7mG",
        "colab": {
          "base_uri": "https://localhost:8080/"
        },
        "outputId": "65eb4295-c8cb-45e2-ceee-5e7b57fd7c78"
      },
      "outputs": [
        {
          "output_type": "stream",
          "name": "stdout",
          "text": [
            "<class 'pandas.core.frame.DataFrame'>\n",
            "Int64Index: 974409 entries, 0 to 974408\n",
            "Data columns (total 13 columns):\n",
            " #   Column                Non-Null Count   Dtype         \n",
            "---  ------                --------------   -----         \n",
            " 0   id                    974409 non-null  int64         \n",
            " 1   vendor_id             974409 non-null  category      \n",
            " 2   pickup_datetime       974409 non-null  datetime64[ns]\n",
            " 3   passenger_count       974409 non-null  int64         \n",
            " 4   trip_distance         974409 non-null  float64       \n",
            " 5   pickup_longitude      974409 non-null  float64       \n",
            " 6   pickup_latitude       974409 non-null  float64       \n",
            " 7   dropoff_longitude     974409 non-null  float64       \n",
            " 8   dropoff_latitude      974409 non-null  float64       \n",
            " 9   payment_type          974409 non-null  object        \n",
            " 10  trip_duration         974409 non-null  float64       \n",
            " 11  pickup_neighborhood   974409 non-null  object        \n",
            " 12  dropoff_neighborhood  974409 non-null  object        \n",
            "dtypes: category(1), datetime64[ns](1), float64(6), int64(2), object(3)\n",
            "memory usage: 97.6+ MB\n"
          ]
        }
      ],
      "source": [
        "# Checking the info of the dataset\n",
        "trips.info()"
      ]
    },
    {
      "cell_type": "markdown",
      "metadata": {
        "id": "eS039A4ve7mG"
      },
      "source": [
        "- There are 974409 non null values in the dataset"
      ]
    },
    {
      "cell_type": "markdown",
      "metadata": {
        "id": "J2YGZ8-Pe7mG"
      },
      "source": [
        "### **Check the number of unique values in the dataset.**"
      ]
    },
    {
      "cell_type": "code",
      "execution_count": null,
      "metadata": {
        "id": "EKkjoKl3e7mG",
        "colab": {
          "base_uri": "https://localhost:8080/"
        },
        "outputId": "2323c719-6298-48b6-ed8c-0a77e113a784"
      },
      "outputs": [
        {
          "output_type": "execute_result",
          "data": {
            "text/plain": [
              "id                      974409\n",
              "vendor_id                    2\n",
              "pickup_datetime         939015\n",
              "passenger_count              8\n",
              "trip_distance             2503\n",
              "pickup_longitude         20222\n",
              "pickup_latitude          40692\n",
              "dropoff_longitude        26127\n",
              "dropoff_latitude         50077\n",
              "payment_type                 4\n",
              "trip_duration             3607\n",
              "pickup_neighborhood         49\n",
              "dropoff_neighborhood        49\n",
              "dtype: int64"
            ]
          },
          "metadata": {},
          "execution_count": 15
        }
      ],
      "source": [
        "# Check the uniques values in each columns\n",
        "trips.nunique()"
      ]
    },
    {
      "cell_type": "markdown",
      "metadata": {
        "id": "G9ZIw3yXe7mG"
      },
      "source": [
        "- vendor_id has only 2 unique values, implies there are only 2 major taxi vendors are there. \n",
        "- Passenger count has 8 unique values and payment type have 4. \n",
        "- There are 49 neighborhood in the dataset, from where either a pickup or dropoff is happening. "
      ]
    },
    {
      "cell_type": "markdown",
      "metadata": {
        "id": "JGoS7r7ze7mG"
      },
      "source": [
        "### **Question 1 : Check summary statistics of the dataset**"
      ]
    },
    {
      "cell_type": "code",
      "execution_count": null,
      "metadata": {
        "id": "MOEQC1jRe7mG",
        "colab": {
          "base_uri": "https://localhost:8080/",
          "height": 300
        },
        "outputId": "1ddfd820-e7c2-427a-beef-67db54b982af"
      },
      "outputs": [
        {
          "output_type": "execute_result",
          "data": {
            "text/plain": [
              "                      count           mean            std        min  \\\n",
              "id                 974409.0  509622.259282  294491.646773   0.000000   \n",
              "passenger_count    974409.0       1.664010       1.314975   0.000000   \n",
              "trip_distance      974409.0       2.734356       3.307038   0.000000   \n",
              "pickup_longitude   974409.0     -73.973275       0.035702 -74.029846   \n",
              "pickup_latitude    974409.0      40.752475       0.026668  40.630268   \n",
              "dropoff_longitude  974409.0     -73.972825       0.031348 -74.029945   \n",
              "dropoff_latitude   974409.0      40.753046       0.029151  40.630009   \n",
              "trip_duration      974409.0     797.702753     576.802176   0.000000   \n",
              "\n",
              "                             25%            50%            75%           max  \n",
              "id                 254521.000000  509310.000000  764743.000000  1.020002e+06  \n",
              "passenger_count         1.000000       1.000000       2.000000  9.000000e+00  \n",
              "trip_distance           1.000000       1.640000       2.990000  5.028000e+02  \n",
              "pickup_longitude      -73.991058     -73.981178     -73.966888 -7.377051e+01  \n",
              "pickup_latitude        40.739689      40.755390      40.768929  4.084991e+01  \n",
              "dropoff_longitude     -73.990356     -73.979156     -73.962769 -7.377002e+01  \n",
              "dropoff_latitude       40.738792      40.755650      40.770454  4.085000e+01  \n",
              "trip_duration         389.000000     646.000000    1040.000000  3.606000e+03  "
            ],
            "text/html": [
              "\n",
              "  <div id=\"df-e34db65d-885a-46b4-841d-9eed4cd8be7b\">\n",
              "    <div class=\"colab-df-container\">\n",
              "      <div>\n",
              "<style scoped>\n",
              "    .dataframe tbody tr th:only-of-type {\n",
              "        vertical-align: middle;\n",
              "    }\n",
              "\n",
              "    .dataframe tbody tr th {\n",
              "        vertical-align: top;\n",
              "    }\n",
              "\n",
              "    .dataframe thead th {\n",
              "        text-align: right;\n",
              "    }\n",
              "</style>\n",
              "<table border=\"1\" class=\"dataframe\">\n",
              "  <thead>\n",
              "    <tr style=\"text-align: right;\">\n",
              "      <th></th>\n",
              "      <th>count</th>\n",
              "      <th>mean</th>\n",
              "      <th>std</th>\n",
              "      <th>min</th>\n",
              "      <th>25%</th>\n",
              "      <th>50%</th>\n",
              "      <th>75%</th>\n",
              "      <th>max</th>\n",
              "    </tr>\n",
              "  </thead>\n",
              "  <tbody>\n",
              "    <tr>\n",
              "      <th>id</th>\n",
              "      <td>974409.0</td>\n",
              "      <td>509622.259282</td>\n",
              "      <td>294491.646773</td>\n",
              "      <td>0.000000</td>\n",
              "      <td>254521.000000</td>\n",
              "      <td>509310.000000</td>\n",
              "      <td>764743.000000</td>\n",
              "      <td>1.020002e+06</td>\n",
              "    </tr>\n",
              "    <tr>\n",
              "      <th>passenger_count</th>\n",
              "      <td>974409.0</td>\n",
              "      <td>1.664010</td>\n",
              "      <td>1.314975</td>\n",
              "      <td>0.000000</td>\n",
              "      <td>1.000000</td>\n",
              "      <td>1.000000</td>\n",
              "      <td>2.000000</td>\n",
              "      <td>9.000000e+00</td>\n",
              "    </tr>\n",
              "    <tr>\n",
              "      <th>trip_distance</th>\n",
              "      <td>974409.0</td>\n",
              "      <td>2.734356</td>\n",
              "      <td>3.307038</td>\n",
              "      <td>0.000000</td>\n",
              "      <td>1.000000</td>\n",
              "      <td>1.640000</td>\n",
              "      <td>2.990000</td>\n",
              "      <td>5.028000e+02</td>\n",
              "    </tr>\n",
              "    <tr>\n",
              "      <th>pickup_longitude</th>\n",
              "      <td>974409.0</td>\n",
              "      <td>-73.973275</td>\n",
              "      <td>0.035702</td>\n",
              "      <td>-74.029846</td>\n",
              "      <td>-73.991058</td>\n",
              "      <td>-73.981178</td>\n",
              "      <td>-73.966888</td>\n",
              "      <td>-7.377051e+01</td>\n",
              "    </tr>\n",
              "    <tr>\n",
              "      <th>pickup_latitude</th>\n",
              "      <td>974409.0</td>\n",
              "      <td>40.752475</td>\n",
              "      <td>0.026668</td>\n",
              "      <td>40.630268</td>\n",
              "      <td>40.739689</td>\n",
              "      <td>40.755390</td>\n",
              "      <td>40.768929</td>\n",
              "      <td>4.084991e+01</td>\n",
              "    </tr>\n",
              "    <tr>\n",
              "      <th>dropoff_longitude</th>\n",
              "      <td>974409.0</td>\n",
              "      <td>-73.972825</td>\n",
              "      <td>0.031348</td>\n",
              "      <td>-74.029945</td>\n",
              "      <td>-73.990356</td>\n",
              "      <td>-73.979156</td>\n",
              "      <td>-73.962769</td>\n",
              "      <td>-7.377002e+01</td>\n",
              "    </tr>\n",
              "    <tr>\n",
              "      <th>dropoff_latitude</th>\n",
              "      <td>974409.0</td>\n",
              "      <td>40.753046</td>\n",
              "      <td>0.029151</td>\n",
              "      <td>40.630009</td>\n",
              "      <td>40.738792</td>\n",
              "      <td>40.755650</td>\n",
              "      <td>40.770454</td>\n",
              "      <td>4.085000e+01</td>\n",
              "    </tr>\n",
              "    <tr>\n",
              "      <th>trip_duration</th>\n",
              "      <td>974409.0</td>\n",
              "      <td>797.702753</td>\n",
              "      <td>576.802176</td>\n",
              "      <td>0.000000</td>\n",
              "      <td>389.000000</td>\n",
              "      <td>646.000000</td>\n",
              "      <td>1040.000000</td>\n",
              "      <td>3.606000e+03</td>\n",
              "    </tr>\n",
              "  </tbody>\n",
              "</table>\n",
              "</div>\n",
              "      <button class=\"colab-df-convert\" onclick=\"convertToInteractive('df-e34db65d-885a-46b4-841d-9eed4cd8be7b')\"\n",
              "              title=\"Convert this dataframe to an interactive table.\"\n",
              "              style=\"display:none;\">\n",
              "        \n",
              "  <svg xmlns=\"http://www.w3.org/2000/svg\" height=\"24px\"viewBox=\"0 0 24 24\"\n",
              "       width=\"24px\">\n",
              "    <path d=\"M0 0h24v24H0V0z\" fill=\"none\"/>\n",
              "    <path d=\"M18.56 5.44l.94 2.06.94-2.06 2.06-.94-2.06-.94-.94-2.06-.94 2.06-2.06.94zm-11 1L8.5 8.5l.94-2.06 2.06-.94-2.06-.94L8.5 2.5l-.94 2.06-2.06.94zm10 10l.94 2.06.94-2.06 2.06-.94-2.06-.94-.94-2.06-.94 2.06-2.06.94z\"/><path d=\"M17.41 7.96l-1.37-1.37c-.4-.4-.92-.59-1.43-.59-.52 0-1.04.2-1.43.59L10.3 9.45l-7.72 7.72c-.78.78-.78 2.05 0 2.83L4 21.41c.39.39.9.59 1.41.59.51 0 1.02-.2 1.41-.59l7.78-7.78 2.81-2.81c.8-.78.8-2.07 0-2.86zM5.41 20L4 18.59l7.72-7.72 1.47 1.35L5.41 20z\"/>\n",
              "  </svg>\n",
              "      </button>\n",
              "      \n",
              "  <style>\n",
              "    .colab-df-container {\n",
              "      display:flex;\n",
              "      flex-wrap:wrap;\n",
              "      gap: 12px;\n",
              "    }\n",
              "\n",
              "    .colab-df-convert {\n",
              "      background-color: #E8F0FE;\n",
              "      border: none;\n",
              "      border-radius: 50%;\n",
              "      cursor: pointer;\n",
              "      display: none;\n",
              "      fill: #1967D2;\n",
              "      height: 32px;\n",
              "      padding: 0 0 0 0;\n",
              "      width: 32px;\n",
              "    }\n",
              "\n",
              "    .colab-df-convert:hover {\n",
              "      background-color: #E2EBFA;\n",
              "      box-shadow: 0px 1px 2px rgba(60, 64, 67, 0.3), 0px 1px 3px 1px rgba(60, 64, 67, 0.15);\n",
              "      fill: #174EA6;\n",
              "    }\n",
              "\n",
              "    [theme=dark] .colab-df-convert {\n",
              "      background-color: #3B4455;\n",
              "      fill: #D2E3FC;\n",
              "    }\n",
              "\n",
              "    [theme=dark] .colab-df-convert:hover {\n",
              "      background-color: #434B5C;\n",
              "      box-shadow: 0px 1px 3px 1px rgba(0, 0, 0, 0.15);\n",
              "      filter: drop-shadow(0px 1px 2px rgba(0, 0, 0, 0.3));\n",
              "      fill: #FFFFFF;\n",
              "    }\n",
              "  </style>\n",
              "\n",
              "      <script>\n",
              "        const buttonEl =\n",
              "          document.querySelector('#df-e34db65d-885a-46b4-841d-9eed4cd8be7b button.colab-df-convert');\n",
              "        buttonEl.style.display =\n",
              "          google.colab.kernel.accessAllowed ? 'block' : 'none';\n",
              "\n",
              "        async function convertToInteractive(key) {\n",
              "          const element = document.querySelector('#df-e34db65d-885a-46b4-841d-9eed4cd8be7b');\n",
              "          const dataTable =\n",
              "            await google.colab.kernel.invokeFunction('convertToInteractive',\n",
              "                                                     [key], {});\n",
              "          if (!dataTable) return;\n",
              "\n",
              "          const docLinkHtml = 'Like what you see? Visit the ' +\n",
              "            '<a target=\"_blank\" href=https://colab.research.google.com/notebooks/data_table.ipynb>data table notebook</a>'\n",
              "            + ' to learn more about interactive tables.';\n",
              "          element.innerHTML = '';\n",
              "          dataTable['output_type'] = 'display_data';\n",
              "          await google.colab.output.renderOutput(dataTable, element);\n",
              "          const docLink = document.createElement('div');\n",
              "          docLink.innerHTML = docLinkHtml;\n",
              "          element.appendChild(docLink);\n",
              "        }\n",
              "      </script>\n",
              "    </div>\n",
              "  </div>\n",
              "  "
            ]
          },
          "metadata": {},
          "execution_count": 20
        }
      ],
      "source": [
        "# Checking the descriptive stats of the data\n",
        "\n",
        "# Remove _________ and complete the code\n",
        "\n",
        "trips.describe().T"
      ]
    },
    {
      "cell_type": "markdown",
      "metadata": {
        "id": "-Q_Wt4Eqe7mH"
      },
      "source": [
        "**The average trip distance is 2.734 km and average trip time duration is 797.7 seconds.**"
      ]
    },
    {
      "cell_type": "markdown",
      "metadata": {
        "id": "4JQxubi3e7mH"
      },
      "source": [
        "### **Checking for the rows for which trip_distance is 0**"
      ]
    },
    {
      "cell_type": "code",
      "execution_count": null,
      "metadata": {
        "id": "x9RelNREe7mH",
        "colab": {
          "base_uri": "https://localhost:8080/",
          "height": 661
        },
        "outputId": "27eae9d0-3cbc-412b-a1a5-184f47e50d5b"
      },
      "outputs": [
        {
          "output_type": "execute_result",
          "data": {
            "text/plain": [
              "             id vendor_id     pickup_datetime  passenger_count  trip_distance  \\\n",
              "852         880         1 2016-01-01 02:15:56                1            0.0   \n",
              "1079       1116         1 2016-01-01 03:01:10                1            0.0   \n",
              "1408       1455         2 2016-01-01 04:09:43                1            0.0   \n",
              "1440       1488         1 2016-01-01 04:16:54                1            0.0   \n",
              "1510       1558         1 2016-01-01 04:36:03                1            0.0   \n",
              "...         ...       ...                 ...              ...            ...   \n",
              "972967  1018490         1 2016-06-30 19:09:44                1            0.0   \n",
              "973384  1018928         2 2016-06-30 20:35:08                1            0.0   \n",
              "973555  1019105         2 2016-06-30 21:13:50                1            0.0   \n",
              "973607  1019159         2 2016-06-30 21:24:23                1            0.0   \n",
              "973898  1019464         2 2016-06-30 22:20:27                2            0.0   \n",
              "\n",
              "        pickup_longitude  pickup_latitude  dropoff_longitude  \\\n",
              "852           -74.002586        40.750298         -74.002861   \n",
              "1079          -73.987831        40.728558         -73.988747   \n",
              "1408          -73.985893        40.763649         -73.985741   \n",
              "1440          -74.014198        40.709988         -74.014198   \n",
              "1510          -73.952507        40.817329         -73.952499   \n",
              "...                  ...              ...                ...   \n",
              "972967        -73.945480        40.751400         -73.945496   \n",
              "973384        -73.983864        40.693813         -73.983910   \n",
              "973555        -74.008789        40.708740         -74.008659   \n",
              "973607        -73.974510        40.778297         -73.977272   \n",
              "973898        -73.978920        40.688160         -73.992317   \n",
              "\n",
              "        dropoff_latitude payment_type  trip_duration pickup_neighborhood  \\\n",
              "852            40.750446            2           21.0                  AG   \n",
              "1079           40.727280            3          136.0                   H   \n",
              "1408           40.763672            2           65.0                  AR   \n",
              "1440           40.709988            3            3.0                  AU   \n",
              "1510           40.817322            2           13.0                  AL   \n",
              "...                  ...          ...            ...                 ...   \n",
              "972967         40.751549            2          757.0                  AN   \n",
              "973384         40.693817            1            2.0                  AS   \n",
              "973555         40.708858            1           15.0                  AU   \n",
              "973607         40.754047            1          797.0                   I   \n",
              "973898         40.749359            1         1364.0                   V   \n",
              "\n",
              "       dropoff_neighborhood  \n",
              "852                      AG  \n",
              "1079                      H  \n",
              "1408                     AR  \n",
              "1440                     AU  \n",
              "1510                     AL  \n",
              "...                     ...  \n",
              "972967                   AN  \n",
              "973384                   AS  \n",
              "973555                   AU  \n",
              "973607                   AD  \n",
              "973898                    D  \n",
              "\n",
              "[3807 rows x 13 columns]"
            ],
            "text/html": [
              "\n",
              "  <div id=\"df-22384878-b20c-40f1-af25-c3cff358c987\">\n",
              "    <div class=\"colab-df-container\">\n",
              "      <div>\n",
              "<style scoped>\n",
              "    .dataframe tbody tr th:only-of-type {\n",
              "        vertical-align: middle;\n",
              "    }\n",
              "\n",
              "    .dataframe tbody tr th {\n",
              "        vertical-align: top;\n",
              "    }\n",
              "\n",
              "    .dataframe thead th {\n",
              "        text-align: right;\n",
              "    }\n",
              "</style>\n",
              "<table border=\"1\" class=\"dataframe\">\n",
              "  <thead>\n",
              "    <tr style=\"text-align: right;\">\n",
              "      <th></th>\n",
              "      <th>id</th>\n",
              "      <th>vendor_id</th>\n",
              "      <th>pickup_datetime</th>\n",
              "      <th>passenger_count</th>\n",
              "      <th>trip_distance</th>\n",
              "      <th>pickup_longitude</th>\n",
              "      <th>pickup_latitude</th>\n",
              "      <th>dropoff_longitude</th>\n",
              "      <th>dropoff_latitude</th>\n",
              "      <th>payment_type</th>\n",
              "      <th>trip_duration</th>\n",
              "      <th>pickup_neighborhood</th>\n",
              "      <th>dropoff_neighborhood</th>\n",
              "    </tr>\n",
              "  </thead>\n",
              "  <tbody>\n",
              "    <tr>\n",
              "      <th>852</th>\n",
              "      <td>880</td>\n",
              "      <td>1</td>\n",
              "      <td>2016-01-01 02:15:56</td>\n",
              "      <td>1</td>\n",
              "      <td>0.0</td>\n",
              "      <td>-74.002586</td>\n",
              "      <td>40.750298</td>\n",
              "      <td>-74.002861</td>\n",
              "      <td>40.750446</td>\n",
              "      <td>2</td>\n",
              "      <td>21.0</td>\n",
              "      <td>AG</td>\n",
              "      <td>AG</td>\n",
              "    </tr>\n",
              "    <tr>\n",
              "      <th>1079</th>\n",
              "      <td>1116</td>\n",
              "      <td>1</td>\n",
              "      <td>2016-01-01 03:01:10</td>\n",
              "      <td>1</td>\n",
              "      <td>0.0</td>\n",
              "      <td>-73.987831</td>\n",
              "      <td>40.728558</td>\n",
              "      <td>-73.988747</td>\n",
              "      <td>40.727280</td>\n",
              "      <td>3</td>\n",
              "      <td>136.0</td>\n",
              "      <td>H</td>\n",
              "      <td>H</td>\n",
              "    </tr>\n",
              "    <tr>\n",
              "      <th>1408</th>\n",
              "      <td>1455</td>\n",
              "      <td>2</td>\n",
              "      <td>2016-01-01 04:09:43</td>\n",
              "      <td>1</td>\n",
              "      <td>0.0</td>\n",
              "      <td>-73.985893</td>\n",
              "      <td>40.763649</td>\n",
              "      <td>-73.985741</td>\n",
              "      <td>40.763672</td>\n",
              "      <td>2</td>\n",
              "      <td>65.0</td>\n",
              "      <td>AR</td>\n",
              "      <td>AR</td>\n",
              "    </tr>\n",
              "    <tr>\n",
              "      <th>1440</th>\n",
              "      <td>1488</td>\n",
              "      <td>1</td>\n",
              "      <td>2016-01-01 04:16:54</td>\n",
              "      <td>1</td>\n",
              "      <td>0.0</td>\n",
              "      <td>-74.014198</td>\n",
              "      <td>40.709988</td>\n",
              "      <td>-74.014198</td>\n",
              "      <td>40.709988</td>\n",
              "      <td>3</td>\n",
              "      <td>3.0</td>\n",
              "      <td>AU</td>\n",
              "      <td>AU</td>\n",
              "    </tr>\n",
              "    <tr>\n",
              "      <th>1510</th>\n",
              "      <td>1558</td>\n",
              "      <td>1</td>\n",
              "      <td>2016-01-01 04:36:03</td>\n",
              "      <td>1</td>\n",
              "      <td>0.0</td>\n",
              "      <td>-73.952507</td>\n",
              "      <td>40.817329</td>\n",
              "      <td>-73.952499</td>\n",
              "      <td>40.817322</td>\n",
              "      <td>2</td>\n",
              "      <td>13.0</td>\n",
              "      <td>AL</td>\n",
              "      <td>AL</td>\n",
              "    </tr>\n",
              "    <tr>\n",
              "      <th>...</th>\n",
              "      <td>...</td>\n",
              "      <td>...</td>\n",
              "      <td>...</td>\n",
              "      <td>...</td>\n",
              "      <td>...</td>\n",
              "      <td>...</td>\n",
              "      <td>...</td>\n",
              "      <td>...</td>\n",
              "      <td>...</td>\n",
              "      <td>...</td>\n",
              "      <td>...</td>\n",
              "      <td>...</td>\n",
              "      <td>...</td>\n",
              "    </tr>\n",
              "    <tr>\n",
              "      <th>972967</th>\n",
              "      <td>1018490</td>\n",
              "      <td>1</td>\n",
              "      <td>2016-06-30 19:09:44</td>\n",
              "      <td>1</td>\n",
              "      <td>0.0</td>\n",
              "      <td>-73.945480</td>\n",
              "      <td>40.751400</td>\n",
              "      <td>-73.945496</td>\n",
              "      <td>40.751549</td>\n",
              "      <td>2</td>\n",
              "      <td>757.0</td>\n",
              "      <td>AN</td>\n",
              "      <td>AN</td>\n",
              "    </tr>\n",
              "    <tr>\n",
              "      <th>973384</th>\n",
              "      <td>1018928</td>\n",
              "      <td>2</td>\n",
              "      <td>2016-06-30 20:35:08</td>\n",
              "      <td>1</td>\n",
              "      <td>0.0</td>\n",
              "      <td>-73.983864</td>\n",
              "      <td>40.693813</td>\n",
              "      <td>-73.983910</td>\n",
              "      <td>40.693817</td>\n",
              "      <td>1</td>\n",
              "      <td>2.0</td>\n",
              "      <td>AS</td>\n",
              "      <td>AS</td>\n",
              "    </tr>\n",
              "    <tr>\n",
              "      <th>973555</th>\n",
              "      <td>1019105</td>\n",
              "      <td>2</td>\n",
              "      <td>2016-06-30 21:13:50</td>\n",
              "      <td>1</td>\n",
              "      <td>0.0</td>\n",
              "      <td>-74.008789</td>\n",
              "      <td>40.708740</td>\n",
              "      <td>-74.008659</td>\n",
              "      <td>40.708858</td>\n",
              "      <td>1</td>\n",
              "      <td>15.0</td>\n",
              "      <td>AU</td>\n",
              "      <td>AU</td>\n",
              "    </tr>\n",
              "    <tr>\n",
              "      <th>973607</th>\n",
              "      <td>1019159</td>\n",
              "      <td>2</td>\n",
              "      <td>2016-06-30 21:24:23</td>\n",
              "      <td>1</td>\n",
              "      <td>0.0</td>\n",
              "      <td>-73.974510</td>\n",
              "      <td>40.778297</td>\n",
              "      <td>-73.977272</td>\n",
              "      <td>40.754047</td>\n",
              "      <td>1</td>\n",
              "      <td>797.0</td>\n",
              "      <td>I</td>\n",
              "      <td>AD</td>\n",
              "    </tr>\n",
              "    <tr>\n",
              "      <th>973898</th>\n",
              "      <td>1019464</td>\n",
              "      <td>2</td>\n",
              "      <td>2016-06-30 22:20:27</td>\n",
              "      <td>2</td>\n",
              "      <td>0.0</td>\n",
              "      <td>-73.978920</td>\n",
              "      <td>40.688160</td>\n",
              "      <td>-73.992317</td>\n",
              "      <td>40.749359</td>\n",
              "      <td>1</td>\n",
              "      <td>1364.0</td>\n",
              "      <td>V</td>\n",
              "      <td>D</td>\n",
              "    </tr>\n",
              "  </tbody>\n",
              "</table>\n",
              "<p>3807 rows × 13 columns</p>\n",
              "</div>\n",
              "      <button class=\"colab-df-convert\" onclick=\"convertToInteractive('df-22384878-b20c-40f1-af25-c3cff358c987')\"\n",
              "              title=\"Convert this dataframe to an interactive table.\"\n",
              "              style=\"display:none;\">\n",
              "        \n",
              "  <svg xmlns=\"http://www.w3.org/2000/svg\" height=\"24px\"viewBox=\"0 0 24 24\"\n",
              "       width=\"24px\">\n",
              "    <path d=\"M0 0h24v24H0V0z\" fill=\"none\"/>\n",
              "    <path d=\"M18.56 5.44l.94 2.06.94-2.06 2.06-.94-2.06-.94-.94-2.06-.94 2.06-2.06.94zm-11 1L8.5 8.5l.94-2.06 2.06-.94-2.06-.94L8.5 2.5l-.94 2.06-2.06.94zm10 10l.94 2.06.94-2.06 2.06-.94-2.06-.94-.94-2.06-.94 2.06-2.06.94z\"/><path d=\"M17.41 7.96l-1.37-1.37c-.4-.4-.92-.59-1.43-.59-.52 0-1.04.2-1.43.59L10.3 9.45l-7.72 7.72c-.78.78-.78 2.05 0 2.83L4 21.41c.39.39.9.59 1.41.59.51 0 1.02-.2 1.41-.59l7.78-7.78 2.81-2.81c.8-.78.8-2.07 0-2.86zM5.41 20L4 18.59l7.72-7.72 1.47 1.35L5.41 20z\"/>\n",
              "  </svg>\n",
              "      </button>\n",
              "      \n",
              "  <style>\n",
              "    .colab-df-container {\n",
              "      display:flex;\n",
              "      flex-wrap:wrap;\n",
              "      gap: 12px;\n",
              "    }\n",
              "\n",
              "    .colab-df-convert {\n",
              "      background-color: #E8F0FE;\n",
              "      border: none;\n",
              "      border-radius: 50%;\n",
              "      cursor: pointer;\n",
              "      display: none;\n",
              "      fill: #1967D2;\n",
              "      height: 32px;\n",
              "      padding: 0 0 0 0;\n",
              "      width: 32px;\n",
              "    }\n",
              "\n",
              "    .colab-df-convert:hover {\n",
              "      background-color: #E2EBFA;\n",
              "      box-shadow: 0px 1px 2px rgba(60, 64, 67, 0.3), 0px 1px 3px 1px rgba(60, 64, 67, 0.15);\n",
              "      fill: #174EA6;\n",
              "    }\n",
              "\n",
              "    [theme=dark] .colab-df-convert {\n",
              "      background-color: #3B4455;\n",
              "      fill: #D2E3FC;\n",
              "    }\n",
              "\n",
              "    [theme=dark] .colab-df-convert:hover {\n",
              "      background-color: #434B5C;\n",
              "      box-shadow: 0px 1px 3px 1px rgba(0, 0, 0, 0.15);\n",
              "      filter: drop-shadow(0px 1px 2px rgba(0, 0, 0, 0.3));\n",
              "      fill: #FFFFFF;\n",
              "    }\n",
              "  </style>\n",
              "\n",
              "      <script>\n",
              "        const buttonEl =\n",
              "          document.querySelector('#df-22384878-b20c-40f1-af25-c3cff358c987 button.colab-df-convert');\n",
              "        buttonEl.style.display =\n",
              "          google.colab.kernel.accessAllowed ? 'block' : 'none';\n",
              "\n",
              "        async function convertToInteractive(key) {\n",
              "          const element = document.querySelector('#df-22384878-b20c-40f1-af25-c3cff358c987');\n",
              "          const dataTable =\n",
              "            await google.colab.kernel.invokeFunction('convertToInteractive',\n",
              "                                                     [key], {});\n",
              "          if (!dataTable) return;\n",
              "\n",
              "          const docLinkHtml = 'Like what you see? Visit the ' +\n",
              "            '<a target=\"_blank\" href=https://colab.research.google.com/notebooks/data_table.ipynb>data table notebook</a>'\n",
              "            + ' to learn more about interactive tables.';\n",
              "          element.innerHTML = '';\n",
              "          dataTable['output_type'] = 'display_data';\n",
              "          await google.colab.output.renderOutput(dataTable, element);\n",
              "          const docLink = document.createElement('div');\n",
              "          docLink.innerHTML = docLinkHtml;\n",
              "          element.appendChild(docLink);\n",
              "        }\n",
              "      </script>\n",
              "    </div>\n",
              "  </div>\n",
              "  "
            ]
          },
          "metadata": {},
          "execution_count": 21
        }
      ],
      "source": [
        "# Chekcing the rows where trip distance is 0\n",
        "trips[trips['trip_distance']==0]"
      ]
    },
    {
      "cell_type": "markdown",
      "metadata": {
        "id": "CbvDdzWde7mH"
      },
      "source": [
        "- We can observe that, where trip distance is 0 trip duration is not 0, hence we can replace those values. \n",
        "- There are 3807 such rows"
      ]
    },
    {
      "cell_type": "markdown",
      "metadata": {
        "id": "_6KNtggMe7mH"
      },
      "source": [
        "#### **Replacing the 0 values with median of the trip distance**"
      ]
    },
    {
      "cell_type": "code",
      "execution_count": null,
      "metadata": {
        "id": "moeohpo0e7mH"
      },
      "outputs": [],
      "source": [
        "trips['trip_distance']=trips['trip_distance'].replace(0,trips['trip_distance'].median())"
      ]
    },
    {
      "cell_type": "code",
      "execution_count": null,
      "metadata": {
        "id": "hPVdaDgUe7mH",
        "colab": {
          "base_uri": "https://localhost:8080/"
        },
        "outputId": "68abbb4a-af3d-421e-a99f-9d2feeb5808d"
      },
      "outputs": [
        {
          "output_type": "execute_result",
          "data": {
            "text/plain": [
              "id                      0\n",
              "vendor_id               0\n",
              "pickup_datetime         0\n",
              "passenger_count         0\n",
              "trip_distance           0\n",
              "pickup_longitude        0\n",
              "pickup_latitude         0\n",
              "dropoff_longitude       0\n",
              "dropoff_latitude        0\n",
              "payment_type            0\n",
              "trip_duration           0\n",
              "pickup_neighborhood     0\n",
              "dropoff_neighborhood    0\n",
              "dtype: int64"
            ]
          },
          "metadata": {},
          "execution_count": 23
        }
      ],
      "source": [
        "trips[trips['trip_distance']==0].count()"
      ]
    },
    {
      "cell_type": "markdown",
      "metadata": {
        "id": "0Vbr02mbe7mH"
      },
      "source": [
        "#### **Checking for the rows for which trip_duration is 0**"
      ]
    },
    {
      "cell_type": "code",
      "execution_count": null,
      "metadata": {
        "id": "CQv0gWjJe7mH",
        "colab": {
          "base_uri": "https://localhost:8080/",
          "height": 357
        },
        "outputId": "54c9c4a1-c7fa-462e-8f50-9d92e35a8f15"
      },
      "outputs": [
        {
          "output_type": "execute_result",
          "data": {
            "text/plain": [
              "            id vendor_id     pickup_datetime  passenger_count  trip_distance  \\\n",
              "44446    46325         1 2016-01-10 00:48:55                1           1.20   \n",
              "121544  126869         2 2016-01-26 00:07:47                6           4.35   \n",
              "142202  148598         1 2016-01-30 00:00:29                1           1.64   \n",
              "172653  180414         1 2016-02-04 19:23:45                1           0.40   \n",
              "173013  180795         1 2016-02-04 20:23:10                1           0.80   \n",
              "\n",
              "        pickup_longitude  pickup_latitude  dropoff_longitude  \\\n",
              "44446         -73.968842        40.766972         -73.968842   \n",
              "121544        -73.986694        40.739815         -73.956139   \n",
              "142202        -73.989578        40.743877         -73.989578   \n",
              "172653        -73.990868        40.751106         -73.990868   \n",
              "173013        -73.977661        40.752968         -73.977661   \n",
              "\n",
              "        dropoff_latitude payment_type  trip_duration pickup_neighborhood  \\\n",
              "44446          40.766972            3            0.0                  AK   \n",
              "121544         40.732872            1            0.0                   R   \n",
              "142202         40.743877            2            0.0                  AO   \n",
              "172653         40.751106            2            0.0                   D   \n",
              "173013         40.752968            2            0.0                  AD   \n",
              "\n",
              "       dropoff_neighborhood  \n",
              "44446                    AK  \n",
              "121544                    Z  \n",
              "142202                   AO  \n",
              "172653                    D  \n",
              "173013                   AD  "
            ],
            "text/html": [
              "\n",
              "  <div id=\"df-f0b50f3a-2a66-4b3c-9614-6f3d41967310\">\n",
              "    <div class=\"colab-df-container\">\n",
              "      <div>\n",
              "<style scoped>\n",
              "    .dataframe tbody tr th:only-of-type {\n",
              "        vertical-align: middle;\n",
              "    }\n",
              "\n",
              "    .dataframe tbody tr th {\n",
              "        vertical-align: top;\n",
              "    }\n",
              "\n",
              "    .dataframe thead th {\n",
              "        text-align: right;\n",
              "    }\n",
              "</style>\n",
              "<table border=\"1\" class=\"dataframe\">\n",
              "  <thead>\n",
              "    <tr style=\"text-align: right;\">\n",
              "      <th></th>\n",
              "      <th>id</th>\n",
              "      <th>vendor_id</th>\n",
              "      <th>pickup_datetime</th>\n",
              "      <th>passenger_count</th>\n",
              "      <th>trip_distance</th>\n",
              "      <th>pickup_longitude</th>\n",
              "      <th>pickup_latitude</th>\n",
              "      <th>dropoff_longitude</th>\n",
              "      <th>dropoff_latitude</th>\n",
              "      <th>payment_type</th>\n",
              "      <th>trip_duration</th>\n",
              "      <th>pickup_neighborhood</th>\n",
              "      <th>dropoff_neighborhood</th>\n",
              "    </tr>\n",
              "  </thead>\n",
              "  <tbody>\n",
              "    <tr>\n",
              "      <th>44446</th>\n",
              "      <td>46325</td>\n",
              "      <td>1</td>\n",
              "      <td>2016-01-10 00:48:55</td>\n",
              "      <td>1</td>\n",
              "      <td>1.20</td>\n",
              "      <td>-73.968842</td>\n",
              "      <td>40.766972</td>\n",
              "      <td>-73.968842</td>\n",
              "      <td>40.766972</td>\n",
              "      <td>3</td>\n",
              "      <td>0.0</td>\n",
              "      <td>AK</td>\n",
              "      <td>AK</td>\n",
              "    </tr>\n",
              "    <tr>\n",
              "      <th>121544</th>\n",
              "      <td>126869</td>\n",
              "      <td>2</td>\n",
              "      <td>2016-01-26 00:07:47</td>\n",
              "      <td>6</td>\n",
              "      <td>4.35</td>\n",
              "      <td>-73.986694</td>\n",
              "      <td>40.739815</td>\n",
              "      <td>-73.956139</td>\n",
              "      <td>40.732872</td>\n",
              "      <td>1</td>\n",
              "      <td>0.0</td>\n",
              "      <td>R</td>\n",
              "      <td>Z</td>\n",
              "    </tr>\n",
              "    <tr>\n",
              "      <th>142202</th>\n",
              "      <td>148598</td>\n",
              "      <td>1</td>\n",
              "      <td>2016-01-30 00:00:29</td>\n",
              "      <td>1</td>\n",
              "      <td>1.64</td>\n",
              "      <td>-73.989578</td>\n",
              "      <td>40.743877</td>\n",
              "      <td>-73.989578</td>\n",
              "      <td>40.743877</td>\n",
              "      <td>2</td>\n",
              "      <td>0.0</td>\n",
              "      <td>AO</td>\n",
              "      <td>AO</td>\n",
              "    </tr>\n",
              "    <tr>\n",
              "      <th>172653</th>\n",
              "      <td>180414</td>\n",
              "      <td>1</td>\n",
              "      <td>2016-02-04 19:23:45</td>\n",
              "      <td>1</td>\n",
              "      <td>0.40</td>\n",
              "      <td>-73.990868</td>\n",
              "      <td>40.751106</td>\n",
              "      <td>-73.990868</td>\n",
              "      <td>40.751106</td>\n",
              "      <td>2</td>\n",
              "      <td>0.0</td>\n",
              "      <td>D</td>\n",
              "      <td>D</td>\n",
              "    </tr>\n",
              "    <tr>\n",
              "      <th>173013</th>\n",
              "      <td>180795</td>\n",
              "      <td>1</td>\n",
              "      <td>2016-02-04 20:23:10</td>\n",
              "      <td>1</td>\n",
              "      <td>0.80</td>\n",
              "      <td>-73.977661</td>\n",
              "      <td>40.752968</td>\n",
              "      <td>-73.977661</td>\n",
              "      <td>40.752968</td>\n",
              "      <td>2</td>\n",
              "      <td>0.0</td>\n",
              "      <td>AD</td>\n",
              "      <td>AD</td>\n",
              "    </tr>\n",
              "  </tbody>\n",
              "</table>\n",
              "</div>\n",
              "      <button class=\"colab-df-convert\" onclick=\"convertToInteractive('df-f0b50f3a-2a66-4b3c-9614-6f3d41967310')\"\n",
              "              title=\"Convert this dataframe to an interactive table.\"\n",
              "              style=\"display:none;\">\n",
              "        \n",
              "  <svg xmlns=\"http://www.w3.org/2000/svg\" height=\"24px\"viewBox=\"0 0 24 24\"\n",
              "       width=\"24px\">\n",
              "    <path d=\"M0 0h24v24H0V0z\" fill=\"none\"/>\n",
              "    <path d=\"M18.56 5.44l.94 2.06.94-2.06 2.06-.94-2.06-.94-.94-2.06-.94 2.06-2.06.94zm-11 1L8.5 8.5l.94-2.06 2.06-.94-2.06-.94L8.5 2.5l-.94 2.06-2.06.94zm10 10l.94 2.06.94-2.06 2.06-.94-2.06-.94-.94-2.06-.94 2.06-2.06.94z\"/><path d=\"M17.41 7.96l-1.37-1.37c-.4-.4-.92-.59-1.43-.59-.52 0-1.04.2-1.43.59L10.3 9.45l-7.72 7.72c-.78.78-.78 2.05 0 2.83L4 21.41c.39.39.9.59 1.41.59.51 0 1.02-.2 1.41-.59l7.78-7.78 2.81-2.81c.8-.78.8-2.07 0-2.86zM5.41 20L4 18.59l7.72-7.72 1.47 1.35L5.41 20z\"/>\n",
              "  </svg>\n",
              "      </button>\n",
              "      \n",
              "  <style>\n",
              "    .colab-df-container {\n",
              "      display:flex;\n",
              "      flex-wrap:wrap;\n",
              "      gap: 12px;\n",
              "    }\n",
              "\n",
              "    .colab-df-convert {\n",
              "      background-color: #E8F0FE;\n",
              "      border: none;\n",
              "      border-radius: 50%;\n",
              "      cursor: pointer;\n",
              "      display: none;\n",
              "      fill: #1967D2;\n",
              "      height: 32px;\n",
              "      padding: 0 0 0 0;\n",
              "      width: 32px;\n",
              "    }\n",
              "\n",
              "    .colab-df-convert:hover {\n",
              "      background-color: #E2EBFA;\n",
              "      box-shadow: 0px 1px 2px rgba(60, 64, 67, 0.3), 0px 1px 3px 1px rgba(60, 64, 67, 0.15);\n",
              "      fill: #174EA6;\n",
              "    }\n",
              "\n",
              "    [theme=dark] .colab-df-convert {\n",
              "      background-color: #3B4455;\n",
              "      fill: #D2E3FC;\n",
              "    }\n",
              "\n",
              "    [theme=dark] .colab-df-convert:hover {\n",
              "      background-color: #434B5C;\n",
              "      box-shadow: 0px 1px 3px 1px rgba(0, 0, 0, 0.15);\n",
              "      filter: drop-shadow(0px 1px 2px rgba(0, 0, 0, 0.3));\n",
              "      fill: #FFFFFF;\n",
              "    }\n",
              "  </style>\n",
              "\n",
              "      <script>\n",
              "        const buttonEl =\n",
              "          document.querySelector('#df-f0b50f3a-2a66-4b3c-9614-6f3d41967310 button.colab-df-convert');\n",
              "        buttonEl.style.display =\n",
              "          google.colab.kernel.accessAllowed ? 'block' : 'none';\n",
              "\n",
              "        async function convertToInteractive(key) {\n",
              "          const element = document.querySelector('#df-f0b50f3a-2a66-4b3c-9614-6f3d41967310');\n",
              "          const dataTable =\n",
              "            await google.colab.kernel.invokeFunction('convertToInteractive',\n",
              "                                                     [key], {});\n",
              "          if (!dataTable) return;\n",
              "\n",
              "          const docLinkHtml = 'Like what you see? Visit the ' +\n",
              "            '<a target=\"_blank\" href=https://colab.research.google.com/notebooks/data_table.ipynb>data table notebook</a>'\n",
              "            + ' to learn more about interactive tables.';\n",
              "          element.innerHTML = '';\n",
              "          dataTable['output_type'] = 'display_data';\n",
              "          await google.colab.output.renderOutput(dataTable, element);\n",
              "          const docLink = document.createElement('div');\n",
              "          docLink.innerHTML = docLinkHtml;\n",
              "          element.appendChild(docLink);\n",
              "        }\n",
              "      </script>\n",
              "    </div>\n",
              "  </div>\n",
              "  "
            ]
          },
          "metadata": {},
          "execution_count": 24
        }
      ],
      "source": [
        "trips[trips['trip_duration']==0].head()"
      ]
    },
    {
      "cell_type": "markdown",
      "metadata": {
        "id": "ndaP5-Wse7mI"
      },
      "source": [
        "- We can observe that, where trip distance is 0 trip duration is not 0, hence we can replace those values. "
      ]
    },
    {
      "cell_type": "code",
      "execution_count": null,
      "metadata": {
        "id": "rSxLDMGye7mI"
      },
      "outputs": [],
      "source": [
        "trips['trip_duration']=trips['trip_duration'].replace(0,trips['trip_duration'].median())"
      ]
    },
    {
      "cell_type": "code",
      "execution_count": null,
      "metadata": {
        "id": "pht9jQIGe7mI",
        "colab": {
          "base_uri": "https://localhost:8080/"
        },
        "outputId": "b920f7d5-5f78-45af-d15f-aa096cfd68b4"
      },
      "outputs": [
        {
          "output_type": "execute_result",
          "data": {
            "text/plain": [
              "id                      0\n",
              "vendor_id               0\n",
              "pickup_datetime         0\n",
              "passenger_count         0\n",
              "trip_distance           0\n",
              "pickup_longitude        0\n",
              "pickup_latitude         0\n",
              "dropoff_longitude       0\n",
              "dropoff_latitude        0\n",
              "payment_type            0\n",
              "trip_duration           0\n",
              "pickup_neighborhood     0\n",
              "dropoff_neighborhood    0\n",
              "dtype: int64"
            ]
          },
          "metadata": {},
          "execution_count": 26
        }
      ],
      "source": [
        "trips[trips['trip_duration']==0].count()"
      ]
    },
    {
      "cell_type": "code",
      "source": [],
      "metadata": {
        "id": "yGyyucRYidjc"
      },
      "execution_count": null,
      "outputs": []
    },
    {
      "cell_type": "markdown",
      "metadata": {
        "id": "TvLvWLJje7mI"
      },
      "source": [
        "## **Question 2: Univariate Analysis**"
      ]
    },
    {
      "cell_type": "markdown",
      "metadata": {
        "id": "OgxuqCT5e7mI"
      },
      "source": [
        "### **Question 2.1: Build histogram for numerical columns**"
      ]
    },
    {
      "cell_type": "code",
      "execution_count": null,
      "metadata": {
        "id": "av5PV9dPe7mI",
        "colab": {
          "base_uri": "https://localhost:8080/",
          "height": 1000
        },
        "outputId": "5bb6d7b9-25b7-4db8-961b-2de703ba99a1"
      },
      "outputs": [
        {
          "output_type": "display_data",
          "data": {
            "text/plain": [
              "<Figure size 1440x1440 with 9 Axes>"
            ],
            "image/png": "[encoded data removed]"
          },
          "metadata": {
            "needs_background": "light"
          }
        }
      ],
      "source": [
        "# Remove _________ and complete the code\n",
        "trips.hist(figsize=(20,20))\n",
        "plt.show()"
      ]
    },
    {
      "cell_type": "markdown",
      "metadata": {
        "id": "No7kFNUPe7mI"
      },
      "source": [
        "**Pickup latitude and dropoff latitude are almost normal distribution while pickup longitude and dropoff latitude are right skewed.\n",
        "Trip duration is also right skewed.**\n",
        "\n"
      ]
    },
    {
      "cell_type": "code",
      "execution_count": null,
      "metadata": {
        "id": "ZEmbM8M9e7mI",
        "colab": {
          "base_uri": "https://localhost:8080/",
          "height": 280
        },
        "outputId": "aad62519-4287-4406-a91c-dfe2491b61f2"
      },
      "outputs": [
        {
          "output_type": "display_data",
          "data": {
            "text/plain": [
              "<Figure size 432x288 with 1 Axes>"
            ],
            "image/png": "[encoded data removed]"
          },
          "metadata": {
            "needs_background": "light"
          }
        }
      ],
      "source": [
        "sns.boxplot(trips['trip_distance'])\n",
        "plt.show()"
      ]
    },
    {
      "cell_type": "markdown",
      "metadata": {
        "id": "16klmj-Le7mJ"
      },
      "source": [
        "- We can see there is an extreme outlier in the dataset, we drop investigate it further"
      ]
    },
    {
      "cell_type": "code",
      "execution_count": null,
      "metadata": {
        "id": "jiNRKU3Le7mJ",
        "colab": {
          "base_uri": "https://localhost:8080/",
          "height": 357
        },
        "outputId": "dbf1bc06-63dd-4fbb-f06d-d66bae517988"
      },
      "outputs": [
        {
          "output_type": "execute_result",
          "data": {
            "text/plain": [
              "            id vendor_id     pickup_datetime  passenger_count  trip_distance  \\\n",
              "171143  178815         1 2016-02-04 14:05:10                1          156.2   \n",
              "248346  259490         1 2016-02-18 09:48:06                1          501.4   \n",
              "525084  548884         1 2016-04-07 21:19:03                3          172.3   \n",
              "530340  554389         1 2016-04-08 19:19:32                2          502.8   \n",
              "828650  867217         1 2016-06-02 21:30:17                2          101.0   \n",
              "\n",
              "        pickup_longitude  pickup_latitude  dropoff_longitude  \\\n",
              "171143        -73.979149        40.765499         -73.782806   \n",
              "248346        -73.980087        40.782185         -73.981468   \n",
              "525084        -73.783340        40.644176         -73.936028   \n",
              "530340        -73.995461        40.724884         -73.986099   \n",
              "828650        -73.961586        40.800968         -73.950165   \n",
              "\n",
              "        dropoff_latitude payment_type  trip_duration pickup_neighborhood  \\\n",
              "171143         40.644009            1         3087.0                  AR   \n",
              "248346         40.778519            2          141.0                   I   \n",
              "525084         40.737762            2         2654.0                   G   \n",
              "530340         40.762108            1         1321.0                   X   \n",
              "828650         40.802193            2          390.0                  AH   \n",
              "\n",
              "       dropoff_neighborhood  \n",
              "171143                    G  \n",
              "248346                   AV  \n",
              "525084                   AN  \n",
              "530340                   AA  \n",
              "828650                    J  "
            ],
            "text/html": [
              "\n",
              "  <div id=\"df-0a2ebe5c-3543-4bc6-b891-b505426e81a1\">\n",
              "    <div class=\"colab-df-container\">\n",
              "      <div>\n",
              "<style scoped>\n",
              "    .dataframe tbody tr th:only-of-type {\n",
              "        vertical-align: middle;\n",
              "    }\n",
              "\n",
              "    .dataframe tbody tr th {\n",
              "        vertical-align: top;\n",
              "    }\n",
              "\n",
              "    .dataframe thead th {\n",
              "        text-align: right;\n",
              "    }\n",
              "</style>\n",
              "<table border=\"1\" class=\"dataframe\">\n",
              "  <thead>\n",
              "    <tr style=\"text-align: right;\">\n",
              "      <th></th>\n",
              "      <th>id</th>\n",
              "      <th>vendor_id</th>\n",
              "      <th>pickup_datetime</th>\n",
              "      <th>passenger_count</th>\n",
              "      <th>trip_distance</th>\n",
              "      <th>pickup_longitude</th>\n",
              "      <th>pickup_latitude</th>\n",
              "      <th>dropoff_longitude</th>\n",
              "      <th>dropoff_latitude</th>\n",
              "      <th>payment_type</th>\n",
              "      <th>trip_duration</th>\n",
              "      <th>pickup_neighborhood</th>\n",
              "      <th>dropoff_neighborhood</th>\n",
              "    </tr>\n",
              "  </thead>\n",
              "  <tbody>\n",
              "    <tr>\n",
              "      <th>171143</th>\n",
              "      <td>178815</td>\n",
              "      <td>1</td>\n",
              "      <td>2016-02-04 14:05:10</td>\n",
              "      <td>1</td>\n",
              "      <td>156.2</td>\n",
              "      <td>-73.979149</td>\n",
              "      <td>40.765499</td>\n",
              "      <td>-73.782806</td>\n",
              "      <td>40.644009</td>\n",
              "      <td>1</td>\n",
              "      <td>3087.0</td>\n",
              "      <td>AR</td>\n",
              "      <td>G</td>\n",
              "    </tr>\n",
              "    <tr>\n",
              "      <th>248346</th>\n",
              "      <td>259490</td>\n",
              "      <td>1</td>\n",
              "      <td>2016-02-18 09:48:06</td>\n",
              "      <td>1</td>\n",
              "      <td>501.4</td>\n",
              "      <td>-73.980087</td>\n",
              "      <td>40.782185</td>\n",
              "      <td>-73.981468</td>\n",
              "      <td>40.778519</td>\n",
              "      <td>2</td>\n",
              "      <td>141.0</td>\n",
              "      <td>I</td>\n",
              "      <td>AV</td>\n",
              "    </tr>\n",
              "    <tr>\n",
              "      <th>525084</th>\n",
              "      <td>548884</td>\n",
              "      <td>1</td>\n",
              "      <td>2016-04-07 21:19:03</td>\n",
              "      <td>3</td>\n",
              "      <td>172.3</td>\n",
              "      <td>-73.783340</td>\n",
              "      <td>40.644176</td>\n",
              "      <td>-73.936028</td>\n",
              "      <td>40.737762</td>\n",
              "      <td>2</td>\n",
              "      <td>2654.0</td>\n",
              "      <td>G</td>\n",
              "      <td>AN</td>\n",
              "    </tr>\n",
              "    <tr>\n",
              "      <th>530340</th>\n",
              "      <td>554389</td>\n",
              "      <td>1</td>\n",
              "      <td>2016-04-08 19:19:32</td>\n",
              "      <td>2</td>\n",
              "      <td>502.8</td>\n",
              "      <td>-73.995461</td>\n",
              "      <td>40.724884</td>\n",
              "      <td>-73.986099</td>\n",
              "      <td>40.762108</td>\n",
              "      <td>1</td>\n",
              "      <td>1321.0</td>\n",
              "      <td>X</td>\n",
              "      <td>AA</td>\n",
              "    </tr>\n",
              "    <tr>\n",
              "      <th>828650</th>\n",
              "      <td>867217</td>\n",
              "      <td>1</td>\n",
              "      <td>2016-06-02 21:30:17</td>\n",
              "      <td>2</td>\n",
              "      <td>101.0</td>\n",
              "      <td>-73.961586</td>\n",
              "      <td>40.800968</td>\n",
              "      <td>-73.950165</td>\n",
              "      <td>40.802193</td>\n",
              "      <td>2</td>\n",
              "      <td>390.0</td>\n",
              "      <td>AH</td>\n",
              "      <td>J</td>\n",
              "    </tr>\n",
              "  </tbody>\n",
              "</table>\n",
              "</div>\n",
              "      <button class=\"colab-df-convert\" onclick=\"convertToInteractive('df-0a2ebe5c-3543-4bc6-b891-b505426e81a1')\"\n",
              "              title=\"Convert this dataframe to an interactive table.\"\n",
              "              style=\"display:none;\">\n",
              "        \n",
              "  <svg xmlns=\"http://www.w3.org/2000/svg\" height=\"24px\"viewBox=\"0 0 24 24\"\n",
              "       width=\"24px\">\n",
              "    <path d=\"M0 0h24v24H0V0z\" fill=\"none\"/>\n",
              "    <path d=\"M18.56 5.44l.94 2.06.94-2.06 2.06-.94-2.06-.94-.94-2.06-.94 2.06-2.06.94zm-11 1L8.5 8.5l.94-2.06 2.06-.94-2.06-.94L8.5 2.5l-.94 2.06-2.06.94zm10 10l.94 2.06.94-2.06 2.06-.94-2.06-.94-.94-2.06-.94 2.06-2.06.94z\"/><path d=\"M17.41 7.96l-1.37-1.37c-.4-.4-.92-.59-1.43-.59-.52 0-1.04.2-1.43.59L10.3 9.45l-7.72 7.72c-.78.78-.78 2.05 0 2.83L4 21.41c.39.39.9.59 1.41.59.51 0 1.02-.2 1.41-.59l7.78-7.78 2.81-2.81c.8-.78.8-2.07 0-2.86zM5.41 20L4 18.59l7.72-7.72 1.47 1.35L5.41 20z\"/>\n",
              "  </svg>\n",
              "      </button>\n",
              "      \n",
              "  <style>\n",
              "    .colab-df-container {\n",
              "      display:flex;\n",
              "      flex-wrap:wrap;\n",
              "      gap: 12px;\n",
              "    }\n",
              "\n",
              "    .colab-df-convert {\n",
              "      background-color: #E8F0FE;\n",
              "      border: none;\n",
              "      border-radius: 50%;\n",
              "      cursor: pointer;\n",
              "      display: none;\n",
              "      fill: #1967D2;\n",
              "      height: 32px;\n",
              "      padding: 0 0 0 0;\n",
              "      width: 32px;\n",
              "    }\n",
              "\n",
              "    .colab-df-convert:hover {\n",
              "      background-color: #E2EBFA;\n",
              "      box-shadow: 0px 1px 2px rgba(60, 64, 67, 0.3), 0px 1px 3px 1px rgba(60, 64, 67, 0.15);\n",
              "      fill: #174EA6;\n",
              "    }\n",
              "\n",
              "    [theme=dark] .colab-df-convert {\n",
              "      background-color: #3B4455;\n",
              "      fill: #D2E3FC;\n",
              "    }\n",
              "\n",
              "    [theme=dark] .colab-df-convert:hover {\n",
              "      background-color: #434B5C;\n",
              "      box-shadow: 0px 1px 3px 1px rgba(0, 0, 0, 0.15);\n",
              "      filter: drop-shadow(0px 1px 2px rgba(0, 0, 0, 0.3));\n",
              "      fill: #FFFFFF;\n",
              "    }\n",
              "  </style>\n",
              "\n",
              "      <script>\n",
              "        const buttonEl =\n",
              "          document.querySelector('#df-0a2ebe5c-3543-4bc6-b891-b505426e81a1 button.colab-df-convert');\n",
              "        buttonEl.style.display =\n",
              "          google.colab.kernel.accessAllowed ? 'block' : 'none';\n",
              "\n",
              "        async function convertToInteractive(key) {\n",
              "          const element = document.querySelector('#df-0a2ebe5c-3543-4bc6-b891-b505426e81a1');\n",
              "          const dataTable =\n",
              "            await google.colab.kernel.invokeFunction('convertToInteractive',\n",
              "                                                     [key], {});\n",
              "          if (!dataTable) return;\n",
              "\n",
              "          const docLinkHtml = 'Like what you see? Visit the ' +\n",
              "            '<a target=\"_blank\" href=https://colab.research.google.com/notebooks/data_table.ipynb>data table notebook</a>'\n",
              "            + ' to learn more about interactive tables.';\n",
              "          element.innerHTML = '';\n",
              "          dataTable['output_type'] = 'display_data';\n",
              "          await google.colab.output.renderOutput(dataTable, element);\n",
              "          const docLink = document.createElement('div');\n",
              "          docLink.innerHTML = docLinkHtml;\n",
              "          element.appendChild(docLink);\n",
              "        }\n",
              "      </script>\n",
              "    </div>\n",
              "  </div>\n",
              "  "
            ]
          },
          "metadata": {},
          "execution_count": 34
        }
      ],
      "source": [
        "trips[trips['trip_distance']>100]"
      ]
    },
    {
      "cell_type": "markdown",
      "metadata": {
        "id": "xtOo05N2e7mJ"
      },
      "source": [
        "- We can observe that, there are 2 observation>500, and there is a huge gap in the trip duration for them.\n",
        "- Covering 501.4 distance in 141 sec, is not possible, it is better we can clip these values to 50. "
      ]
    },
    {
      "cell_type": "markdown",
      "metadata": {
        "id": "-c2kP0I_e7mJ"
      },
      "source": [
        "**Clipping the outliers of trip distance to 50**"
      ]
    },
    {
      "cell_type": "code",
      "execution_count": null,
      "metadata": {
        "id": "FcKaORJ_e7mJ"
      },
      "outputs": [],
      "source": [
        "trips['trip_distance']=trips['trip_distance'].clip(trips['trip_distance'].min(),50)"
      ]
    },
    {
      "cell_type": "code",
      "execution_count": null,
      "metadata": {
        "id": "gjPrOVT2e7mJ",
        "colab": {
          "base_uri": "https://localhost:8080/",
          "height": 280
        },
        "outputId": "dd23de48-fd00-48b8-d721-c4e0b3b506de"
      },
      "outputs": [
        {
          "output_type": "display_data",
          "data": {
            "text/plain": [
              "<Figure size 432x288 with 1 Axes>"
            ],
            "image/png": "[encoded data removed]"
          },
          "metadata": {
            "needs_background": "light"
          }
        }
      ],
      "source": [
        "sns.boxplot(trips['trip_distance'])\n",
        "plt.show()"
      ]
    },
    {
      "cell_type": "markdown",
      "metadata": {
        "id": "DJcbsXJWe7mJ"
      },
      "source": [
        "### **Question 2.2 Plotting countplot for Passenger_count**"
      ]
    },
    {
      "cell_type": "code",
      "execution_count": null,
      "metadata": {
        "id": "J_QluVHbe7mJ",
        "colab": {
          "base_uri": "https://localhost:8080/",
          "height": 334
        },
        "outputId": "5ec07650-fe61-4679-92a2-11770b3aa087"
      },
      "outputs": [
        {
          "output_type": "display_data",
          "data": {
            "text/plain": [
              "<Figure size 1440x360 with 1 Axes>"
            ],
            "image/png": "[encoded data removed]"
          },
          "metadata": {
            "needs_background": "light"
          }
        }
      ],
      "source": [
        "# Remove _________ and complete the code\n",
        "\n",
        "plt.figure(figsize=(20,5))\n",
        "sns.countplot(trips.passenger_count)\n",
        "plt.show()"
      ]
    },
    {
      "cell_type": "code",
      "execution_count": null,
      "metadata": {
        "id": "LkFsn3-ie7mJ",
        "colab": {
          "base_uri": "https://localhost:8080/"
        },
        "outputId": "f3fafe6d-763f-4a5d-9af7-4532d03553eb"
      },
      "outputs": [
        {
          "output_type": "execute_result",
          "data": {
            "text/plain": [
              "1    0.709334\n",
              "2    0.143419\n",
              "5    0.053409\n",
              "3    0.041140\n",
              "6    0.033334\n",
              "4    0.019338\n",
              "0    0.000025\n",
              "9    0.000002\n",
              "Name: passenger_count, dtype: float64"
            ]
          },
          "metadata": {},
          "execution_count": 40
        }
      ],
      "source": [
        "trips.passenger_count.value_counts(normalize=True)"
      ]
    },
    {
      "cell_type": "markdown",
      "metadata": {
        "id": "O0c2L1oTe7mK"
      },
      "source": [
        "**The passenger count distribution is almost the same both skewed to the right**\n"
      ]
    },
    {
      "cell_type": "markdown",
      "metadata": {
        "id": "CZg1R18_e7mK"
      },
      "source": [
        "### **Question 2.3 Plotting countplot for pickup_neighborhood and dropoff_neighborhood**"
      ]
    },
    {
      "cell_type": "code",
      "execution_count": null,
      "metadata": {
        "id": "_diXT4cce7mK",
        "colab": {
          "base_uri": "https://localhost:8080/",
          "height": 507
        },
        "outputId": "c2309287-9143-42d9-ff7e-556c5cc11424"
      },
      "outputs": [
        {
          "output_type": "execute_result",
          "data": {
            "text/plain": [
              "<matplotlib.axes._subplots.AxesSubplot at 0x7f6ee79a49d0>"
            ]
          },
          "metadata": {},
          "execution_count": 44
        },
        {
          "output_type": "display_data",
          "data": {
            "text/plain": [
              "<Figure size 1440x576 with 1 Axes>"
            ],
            "image/png": "[encoded data removed]"
          },
          "metadata": {
            "needs_background": "light"
          }
        }
      ],
      "source": [
        "# Remove _________ and complete the code\n",
        "trips.pickup_neighborhood.value_counts().sort_values(ascending=False).plot(kind='bar' ,figsize=(20,8))"
      ]
    },
    {
      "cell_type": "code",
      "execution_count": null,
      "metadata": {
        "id": "CFkUte2Ke7mK",
        "colab": {
          "base_uri": "https://localhost:8080/",
          "height": 507
        },
        "outputId": "f26b2d3e-caff-4129-f34d-2451b6eab2e6"
      },
      "outputs": [
        {
          "output_type": "execute_result",
          "data": {
            "text/plain": [
              "<matplotlib.axes._subplots.AxesSubplot at 0x7f6ee6c89e50>"
            ]
          },
          "metadata": {},
          "execution_count": 45
        },
        {
          "output_type": "display_data",
          "data": {
            "text/plain": [
              "<Figure size 1440x576 with 1 Axes>"
            ],
            "image/png": "[encoded data removed]"
          },
          "metadata": {
            "needs_background": "light"
          }
        }
      ],
      "source": [
        "# Remove _________ and complete the code\n",
        "\n",
        "trips.dropoff_neighborhood.value_counts().sort_values(ascending=False).plot(kind='bar' ,figsize=(20,8))"
      ]
    },
    {
      "cell_type": "markdown",
      "metadata": {
        "id": "LWqCi1zde7mK"
      },
      "source": [
        "**AD, AA, A and D are the most busy areas in the city as they have the most pickups and dropoffs while areas like AE and AI are the least busy with the least number of pickups and dropoffs **"
      ]
    },
    {
      "cell_type": "markdown",
      "metadata": {
        "id": "5o6bTF77e7mK"
      },
      "source": [
        "## **Bivariate analysis**"
      ]
    },
    {
      "cell_type": "markdown",
      "metadata": {
        "id": "XjMs4fvHe7mK"
      },
      "source": [
        "#### **Plot a scatter plot for trip distance and trip duration**"
      ]
    },
    {
      "cell_type": "code",
      "execution_count": null,
      "metadata": {
        "id": "mW-g9Cpue7mL",
        "colab": {
          "base_uri": "https://localhost:8080/",
          "height": 298
        },
        "outputId": "3917412d-0d17-4e35-e9d6-6633715d9bb0"
      },
      "outputs": [
        {
          "output_type": "execute_result",
          "data": {
            "text/plain": [
              "<matplotlib.axes._subplots.AxesSubplot at 0x7f6ee75052d0>"
            ]
          },
          "metadata": {},
          "execution_count": 46
        },
        {
          "output_type": "display_data",
          "data": {
            "text/plain": [
              "<Figure size 432x288 with 1 Axes>"
            ],
            "image/png": "[encoded data removed]"
          },
          "metadata": {
            "needs_background": "light"
          }
        }
      ],
      "source": [
        "sns.scatterplot(trips['trip_distance'],trips['trip_duration'])"
      ]
    },
    {
      "cell_type": "markdown",
      "metadata": {
        "id": "kmwh7qvOe7mL"
      },
      "source": [
        "- There is some positive correlation between trip_distance and trip_duration."
      ]
    },
    {
      "cell_type": "code",
      "execution_count": null,
      "metadata": {
        "id": "66BE440Re7mL",
        "colab": {
          "base_uri": "https://localhost:8080/",
          "height": 298
        },
        "outputId": "0801a087-633d-404d-d400-304bdd8be25f"
      },
      "outputs": [
        {
          "output_type": "execute_result",
          "data": {
            "text/plain": [
              "<matplotlib.axes._subplots.AxesSubplot at 0x7f6ee7a10990>"
            ]
          },
          "metadata": {},
          "execution_count": 47
        },
        {
          "output_type": "display_data",
          "data": {
            "text/plain": [
              "<Figure size 432x288 with 1 Axes>"
            ],
            "image/png": "[encoded data removed]"
          },
          "metadata": {
            "needs_background": "light"
          }
        }
      ],
      "source": [
        "sns.countplot(trips['passenger_count'],hue=trips['payment_type'])"
      ]
    },
    {
      "cell_type": "markdown",
      "metadata": {
        "id": "Rmka0-Eve7mL"
      },
      "source": [
        "- There is no such specific pattern can be observed."
      ]
    },
    {
      "cell_type": "markdown",
      "metadata": {
        "id": "XQyUHFiue7mL"
      },
      "source": [
        "## **Step 2: Prepare the Data**\n",
        "\n",
        "Lets create entities and relationships. The three entities in this data are \n",
        "* trips \n",
        "* pickup_neighborhoods\n",
        "* dropoff_neighborhoods\n",
        "\n",
        "This data has the following relationships\n",
        "* pickup_neighborhoods --> trips (one neighborhood can have multiple trips that start in it. This means pickup_neighborhoods is the ``parent_entity`` and trips is the child entity)\n",
        "* dropoff_neighborhoods --> trips (one neighborhood can have multiple trips that end in it. This means dropoff_neighborhoods is the ``parent_entity`` and trips is the child entity)\n",
        "\n",
        "In [featuretools](https://featuretools.alteryx.com/en/v0.27.0/getting_started/getting_started_index.html) (automated feature engineering software package), we specify the list of entities and relationships as follows: \n"
      ]
    },
    {
      "cell_type": "markdown",
      "metadata": {
        "id": "kmxBM_bCe7mL"
      },
      "source": [
        "### **Question 3: Define entities and relationships for the Deep Feature Synthesis **"
      ]
    },
    {
      "cell_type": "code",
      "execution_count": null,
      "metadata": {
        "ExecuteTime": {
          "end_time": "2021-07-15T12:41:08.351728Z",
          "start_time": "2021-07-15T12:41:08.253155Z"
        },
        "id": "anXSkHCNe7mL"
      },
      "outputs": [],
      "source": [
        "# Remove _________ and complete the codeV\n",
        "\n",
        "entities = { \"trips\": (trips, \"id\", 'pickup_datetime' ),\n",
        "        \"pickup_neighborhoods\": (pickup_neighborhoods, \"neighborhood_id\"),\n",
        "        \"dropoff_neighborhoods\": (dropoff_neighborhoods, \"neighborhood_id\"), }\n",
        "\n",
        "# Remove _________ and complete the code\n",
        "relationships = [(\"pickup_neighborhoods\", \"neighborhood_id\", \"trips\", \"pickup_neighborhood\"),\n",
        "                 (\"dropoff_neighborhoods\", \"neighborhood_id\", \"trips\", \"dropoff_neighborhood\")]"
      ]
    },
    {
      "cell_type": "markdown",
      "metadata": {
        "id": "jCMSiKPpe7mL"
      },
      "source": [
        "Next, we specify the cutoff time for each instance of the target_entity, in this case ``trips``.This timestamp represents the last time data can be used for calculating features by DFS. In this scenario, that would be the pickup time because we would like to make the duration prediction using data before the trip starts. \n",
        "\n",
        "For the purposes of the case study, we choose to only select trips that started after **January 12th, 2016**. "
      ]
    },
    {
      "cell_type": "code",
      "execution_count": null,
      "metadata": {
        "ExecuteTime": {
          "end_time": "2021-07-15T12:41:53.295477Z",
          "start_time": "2021-07-15T12:41:53.056658Z"
        },
        "id": "5jNGZ0eTe7mM",
        "colab": {
          "base_uri": "https://localhost:8080/",
          "height": 363
        },
        "outputId": "03d9fe05-6708-4382-aee9-b1c9359df7aa"
      },
      "outputs": [
        {
          "output_type": "execute_result",
          "data": {
            "text/plain": [
              "            id     pickup_datetime\n",
              "54031    56311 2016-01-12 00:00:25\n",
              "667608  698423 2016-05-03 17:59:59\n",
              "667609  698424 2016-05-03 18:00:52\n",
              "667610  698425 2016-05-03 18:01:06\n",
              "667611  698426 2016-05-03 18:01:11\n",
              "667612  698427 2016-05-03 18:01:12\n",
              "667613  698428 2016-05-03 18:01:12\n",
              "667614  698429 2016-05-03 18:01:24\n",
              "667615  698430 2016-05-03 18:01:36\n",
              "667616  698431 2016-05-03 18:01:39"
            ],
            "text/html": [
              "\n",
              "  <div id=\"df-28755877-c3b9-4d5f-8688-a9122d4031de\">\n",
              "    <div class=\"colab-df-container\">\n",
              "      <div>\n",
              "<style scoped>\n",
              "    .dataframe tbody tr th:only-of-type {\n",
              "        vertical-align: middle;\n",
              "    }\n",
              "\n",
              "    .dataframe tbody tr th {\n",
              "        vertical-align: top;\n",
              "    }\n",
              "\n",
              "    .dataframe thead th {\n",
              "        text-align: right;\n",
              "    }\n",
              "</style>\n",
              "<table border=\"1\" class=\"dataframe\">\n",
              "  <thead>\n",
              "    <tr style=\"text-align: right;\">\n",
              "      <th></th>\n",
              "      <th>id</th>\n",
              "      <th>pickup_datetime</th>\n",
              "    </tr>\n",
              "  </thead>\n",
              "  <tbody>\n",
              "    <tr>\n",
              "      <th>54031</th>\n",
              "      <td>56311</td>\n",
              "      <td>2016-01-12 00:00:25</td>\n",
              "    </tr>\n",
              "    <tr>\n",
              "      <th>667608</th>\n",
              "      <td>698423</td>\n",
              "      <td>2016-05-03 17:59:59</td>\n",
              "    </tr>\n",
              "    <tr>\n",
              "      <th>667609</th>\n",
              "      <td>698424</td>\n",
              "      <td>2016-05-03 18:00:52</td>\n",
              "    </tr>\n",
              "    <tr>\n",
              "      <th>667610</th>\n",
              "      <td>698425</td>\n",
              "      <td>2016-05-03 18:01:06</td>\n",
              "    </tr>\n",
              "    <tr>\n",
              "      <th>667611</th>\n",
              "      <td>698426</td>\n",
              "      <td>2016-05-03 18:01:11</td>\n",
              "    </tr>\n",
              "    <tr>\n",
              "      <th>667612</th>\n",
              "      <td>698427</td>\n",
              "      <td>2016-05-03 18:01:12</td>\n",
              "    </tr>\n",
              "    <tr>\n",
              "      <th>667613</th>\n",
              "      <td>698428</td>\n",
              "      <td>2016-05-03 18:01:12</td>\n",
              "    </tr>\n",
              "    <tr>\n",
              "      <th>667614</th>\n",
              "      <td>698429</td>\n",
              "      <td>2016-05-03 18:01:24</td>\n",
              "    </tr>\n",
              "    <tr>\n",
              "      <th>667615</th>\n",
              "      <td>698430</td>\n",
              "      <td>2016-05-03 18:01:36</td>\n",
              "    </tr>\n",
              "    <tr>\n",
              "      <th>667616</th>\n",
              "      <td>698431</td>\n",
              "      <td>2016-05-03 18:01:39</td>\n",
              "    </tr>\n",
              "  </tbody>\n",
              "</table>\n",
              "</div>\n",
              "      <button class=\"colab-df-convert\" onclick=\"convertToInteractive('df-28755877-c3b9-4d5f-8688-a9122d4031de')\"\n",
              "              title=\"Convert this dataframe to an interactive table.\"\n",
              "              style=\"display:none;\">\n",
              "        \n",
              "  <svg xmlns=\"http://www.w3.org/2000/svg\" height=\"24px\"viewBox=\"0 0 24 24\"\n",
              "       width=\"24px\">\n",
              "    <path d=\"M0 0h24v24H0V0z\" fill=\"none\"/>\n",
              "    <path d=\"M18.56 5.44l.94 2.06.94-2.06 2.06-.94-2.06-.94-.94-2.06-.94 2.06-2.06.94zm-11 1L8.5 8.5l.94-2.06 2.06-.94-2.06-.94L8.5 2.5l-.94 2.06-2.06.94zm10 10l.94 2.06.94-2.06 2.06-.94-2.06-.94-.94-2.06-.94 2.06-2.06.94z\"/><path d=\"M17.41 7.96l-1.37-1.37c-.4-.4-.92-.59-1.43-.59-.52 0-1.04.2-1.43.59L10.3 9.45l-7.72 7.72c-.78.78-.78 2.05 0 2.83L4 21.41c.39.39.9.59 1.41.59.51 0 1.02-.2 1.41-.59l7.78-7.78 2.81-2.81c.8-.78.8-2.07 0-2.86zM5.41 20L4 18.59l7.72-7.72 1.47 1.35L5.41 20z\"/>\n",
              "  </svg>\n",
              "      </button>\n",
              "      \n",
              "  <style>\n",
              "    .colab-df-container {\n",
              "      display:flex;\n",
              "      flex-wrap:wrap;\n",
              "      gap: 12px;\n",
              "    }\n",
              "\n",
              "    .colab-df-convert {\n",
              "      background-color: #E8F0FE;\n",
              "      border: none;\n",
              "      border-radius: 50%;\n",
              "      cursor: pointer;\n",
              "      display: none;\n",
              "      fill: #1967D2;\n",
              "      height: 32px;\n",
              "      padding: 0 0 0 0;\n",
              "      width: 32px;\n",
              "    }\n",
              "\n",
              "    .colab-df-convert:hover {\n",
              "      background-color: #E2EBFA;\n",
              "      box-shadow: 0px 1px 2px rgba(60, 64, 67, 0.3), 0px 1px 3px 1px rgba(60, 64, 67, 0.15);\n",
              "      fill: #174EA6;\n",
              "    }\n",
              "\n",
              "    [theme=dark] .colab-df-convert {\n",
              "      background-color: #3B4455;\n",
              "      fill: #D2E3FC;\n",
              "    }\n",
              "\n",
              "    [theme=dark] .colab-df-convert:hover {\n",
              "      background-color: #434B5C;\n",
              "      box-shadow: 0px 1px 3px 1px rgba(0, 0, 0, 0.15);\n",
              "      filter: drop-shadow(0px 1px 2px rgba(0, 0, 0, 0.3));\n",
              "      fill: #FFFFFF;\n",
              "    }\n",
              "  </style>\n",
              "\n",
              "      <script>\n",
              "        const buttonEl =\n",
              "          document.querySelector('#df-28755877-c3b9-4d5f-8688-a9122d4031de button.colab-df-convert');\n",
              "        buttonEl.style.display =\n",
              "          google.colab.kernel.accessAllowed ? 'block' : 'none';\n",
              "\n",
              "        async function convertToInteractive(key) {\n",
              "          const element = document.querySelector('#df-28755877-c3b9-4d5f-8688-a9122d4031de');\n",
              "          const dataTable =\n",
              "            await google.colab.kernel.invokeFunction('convertToInteractive',\n",
              "                                                     [key], {});\n",
              "          if (!dataTable) return;\n",
              "\n",
              "          const docLinkHtml = 'Like what you see? Visit the ' +\n",
              "            '<a target=\"_blank\" href=https://colab.research.google.com/notebooks/data_table.ipynb>data table notebook</a>'\n",
              "            + ' to learn more about interactive tables.';\n",
              "          element.innerHTML = '';\n",
              "          dataTable['output_type'] = 'display_data';\n",
              "          await google.colab.output.renderOutput(dataTable, element);\n",
              "          const docLink = document.createElement('div');\n",
              "          docLink.innerHTML = docLinkHtml;\n",
              "          element.appendChild(docLink);\n",
              "        }\n",
              "      </script>\n",
              "    </div>\n",
              "  </div>\n",
              "  "
            ]
          },
          "metadata": {},
          "execution_count": 49
        }
      ],
      "source": [
        "cutoff_time = trips[['id', 'pickup_datetime']]\n",
        "cutoff_time = cutoff_time[cutoff_time['pickup_datetime'] > \"2016-01-12\"]\n",
        "preview(cutoff_time, 10)"
      ]
    },
    {
      "cell_type": "markdown",
      "metadata": {
        "id": "k_-DMupIe7mM"
      },
      "source": [
        "## **Step 3: Create baseline features using Deep Feature Synthesis**\n",
        "\n",
        "Instead of manually creating features, such as \"month of pickup datetime\", we can let DFS come up with them automatically. It does this by \n",
        "* interpreting the variable types of the columns e.g categorical, numeric and others \n",
        "* matching the columns to the primitives that can be applied to their variable types\n",
        "* creating features based on these matches"
      ]
    },
    {
      "cell_type": "markdown",
      "metadata": {
        "id": "7LZDZzp4e7mM"
      },
      "source": [
        "**Create transform features using transform primitives**\n",
        "\n",
        "As we described in the video, features fall into two major categories, ``transform`` and ``aggregate``. In featureools, we can create transform features by specifying ``transform`` primitives. Below we specify a ``transform`` primitive called ``weekend`` and here is what it does:\n",
        "\n",
        "* It can be applied to any ``datetime`` column in the data. \n",
        "* For each entry in the column, it assess if it is a ``weekend`` and returns a boolean. \n",
        "\n",
        "In this specific data, there are two ``datetime`` columns ``pickup_datetime`` and ``dropoff_datetime``. The tool automatically creates features using the primitive and these two columns as shown below. "
      ]
    },
    {
      "cell_type": "markdown",
      "metadata": {
        "id": "U-LUYgH5e7mM"
      },
      "source": [
        "## **Question 4: Creating a baseline model with only 1 transform primitive **"
      ]
    },
    {
      "cell_type": "markdown",
      "source": [
        "### **Question: 4.1 Define transform primitive for weekend and define features using dfs?** "
      ],
      "metadata": {
        "id": "1lUREPCEraAz"
      }
    },
    {
      "cell_type": "code",
      "execution_count": null,
      "metadata": {
        "ExecuteTime": {
          "end_time": "2021-07-15T12:46:18.552030Z",
          "start_time": "2021-07-15T12:46:16.349739Z"
        },
        "id": "Yg9EcWdje7mM"
      },
      "outputs": [],
      "source": [
        "# Remove _________ and complete the code\n",
        "trans_primitives = [IsWeekend]\n",
        "\n",
        "# Remove _________ and complete the code\n",
        "features = ft.dfs(entities=entities,\n",
        "                  relationships=relationships,\n",
        "                  target_entity=\"trips\",\n",
        "                  trans_primitives=trans_primitives,\n",
        "                  agg_primitives=[],\n",
        "                  ignore_variables={\"trips\": [\"pickup_latitude\", \"pickup_longitude\",\n",
        "                                              \"dropoff_latitude\", \"dropoff_longitude\"]},\n",
        "                  features_only=True)"
      ]
    },
    {
      "cell_type": "markdown",
      "metadata": {
        "id": "Tk2wIS7Ie7mM"
      },
      "source": [
        "*If you're interested about parameters to DFS such as `ignore_variables`, you can learn more about these parameters [here](https://featuretools.alteryx.com/en/v0.27.0/getting_started/getting_started_index.html)*\n",
        "\n",
        "Here are the features created."
      ]
    },
    {
      "cell_type": "code",
      "execution_count": null,
      "metadata": {
        "ExecuteTime": {
          "end_time": "2021-07-15T12:46:24.799450Z",
          "start_time": "2021-07-15T12:46:24.699552Z"
        },
        "id": "_gTCOwpoe7mM",
        "colab": {
          "base_uri": "https://localhost:8080/"
        },
        "outputId": "720f83a5-9224-44b8-db45-7901546f6408"
      },
      "outputs": [
        {
          "output_type": "stream",
          "name": "stdout",
          "text": [
            "Number of features: 12\n"
          ]
        },
        {
          "output_type": "execute_result",
          "data": {
            "text/plain": [
              "[<Feature: vendor_id>,\n",
              " <Feature: passenger_count>,\n",
              " <Feature: trip_distance>,\n",
              " <Feature: payment_type>,\n",
              " <Feature: trip_duration>,\n",
              " <Feature: pickup_neighborhood>,\n",
              " <Feature: dropoff_neighborhood>,\n",
              " <Feature: IS_WEEKEND(pickup_datetime)>,\n",
              " <Feature: pickup_neighborhoods.latitude>,\n",
              " <Feature: pickup_neighborhoods.longitude>,\n",
              " <Feature: dropoff_neighborhoods.latitude>,\n",
              " <Feature: dropoff_neighborhoods.longitude>]"
            ]
          },
          "metadata": {},
          "execution_count": 52
        }
      ],
      "source": [
        "print (\"Number of features: %d\" % len(features))\n",
        "features"
      ]
    },
    {
      "cell_type": "markdown",
      "metadata": {
        "id": "cdvknyIae7mM"
      },
      "source": [
        "\n",
        "Now let's compute the features. "
      ]
    },
    {
      "cell_type": "markdown",
      "metadata": {
        "id": "Qn7XUiKNe7mN"
      },
      "source": [
        "### **Question: 4.2 Compute features and define feature matrix**"
      ]
    },
    {
      "cell_type": "code",
      "execution_count": null,
      "metadata": {
        "ExecuteTime": {
          "end_time": "2021-07-15T12:46:56.132642Z",
          "start_time": "2021-07-15T12:46:56.030342Z"
        },
        "id": "_xGN7L52e7mN"
      },
      "outputs": [],
      "source": [
        "def compute_features(features, cutoff_time):\n",
        "    # Shuffle so we don't see encoded features in the front or backs\n",
        "\n",
        "    np.random.shuffle(features)\n",
        "    feature_matrix = ft.calculate_feature_matrix(features,\n",
        "                                                 cutoff_time=cutoff_time,\n",
        "                                                 approximate='36d',\n",
        "                                                 verbose=True,entities=entities, relationships=relationships)\n",
        "    print(\"Finishing computing...\")\n",
        "    feature_matrix, features = ft.encode_features(feature_matrix, features,\n",
        "                                                  to_encode=[\"pickup_neighborhood\", \"dropoff_neighborhood\"],\n",
        "                                                  include_unknown=False)\n",
        "    return feature_matrix"
      ]
    },
    {
      "cell_type": "code",
      "execution_count": null,
      "metadata": {
        "id": "oiVjFgAMe7mN",
        "colab": {
          "base_uri": "https://localhost:8080/"
        },
        "outputId": "d90a9204-6ceb-457f-f7df-46f1d2982b9c"
      },
      "outputs": [
        {
          "output_type": "stream",
          "name": "stdout",
          "text": [
            "Elapsed: 00:17 | Progress: 100%|██████████\n",
            "Finishing computing...\n"
          ]
        }
      ],
      "source": [
        "# Remove _________ and complete the code\n",
        "feature_matrix1 = compute_features(features,cutoff_time)"
      ]
    },
    {
      "cell_type": "code",
      "execution_count": null,
      "metadata": {
        "ExecuteTime": {
          "end_time": "2021-07-15T12:47:21.290315Z",
          "start_time": "2021-07-15T12:47:20.995105Z"
        },
        "id": "mxQkCvW5e7mN",
        "colab": {
          "base_uri": "https://localhost:8080/",
          "height": 348
        },
        "outputId": "3769fc6a-e680-4549-f885-28bb460cbae3"
      },
      "outputs": [
        {
          "output_type": "execute_result",
          "data": {
            "text/plain": [
              "        passenger_count  dropoff_neighborhood = AD  dropoff_neighborhood = A  \\\n",
              "id                                                                             \n",
              "56311                 1                      False                     False   \n",
              "698423                1                       True                     False   \n",
              "698424                1                      False                     False   \n",
              "698425                1                      False                     False   \n",
              "698426                2                      False                     False   \n",
              "\n",
              "        dropoff_neighborhood = AA  dropoff_neighborhood = D  \\\n",
              "id                                                            \n",
              "56311                       False                     False   \n",
              "698423                      False                     False   \n",
              "698424                      False                     False   \n",
              "698425                      False                     False   \n",
              "698426                      False                     False   \n",
              "\n",
              "        dropoff_neighborhood = AR  dropoff_neighborhood = C  \\\n",
              "id                                                            \n",
              "56311                       False                     False   \n",
              "698423                      False                     False   \n",
              "698424                      False                     False   \n",
              "698425                      False                     False   \n",
              "698426                      False                     False   \n",
              "\n",
              "        dropoff_neighborhood = O  dropoff_neighborhood = N  \\\n",
              "id                                                           \n",
              "56311                      False                     False   \n",
              "698423                     False                     False   \n",
              "698424                      True                     False   \n",
              "698425                     False                     False   \n",
              "698426                     False                     False   \n",
              "\n",
              "        dropoff_neighborhood = AK  ...  pickup_neighborhood = AK  \\\n",
              "id                                 ...                             \n",
              "56311                       False  ...                     False   \n",
              "698423                      False  ...                      True   \n",
              "698424                      False  ...                      True   \n",
              "698425                      False  ...                     False   \n",
              "698426                      False  ...                     False   \n",
              "\n",
              "        pickup_neighborhood = AO  pickup_neighborhood = N  \\\n",
              "id                                                          \n",
              "56311                      False                    False   \n",
              "698423                     False                    False   \n",
              "698424                     False                    False   \n",
              "698425                     False                    False   \n",
              "698426                     False                    False   \n",
              "\n",
              "       pickup_neighborhood = O  pickup_neighborhood = R  trip_duration  \\\n",
              "id                                                                       \n",
              "56311                    False                    False          645.0   \n",
              "698423                   False                    False          523.0   \n",
              "698424                   False                    False          155.0   \n",
              "698425                   False                    False          225.0   \n",
              "698426                   False                    False          372.0   \n",
              "\n",
              "        pickup_neighborhoods.latitude  dropoff_neighborhoods.longitude  \\\n",
              "id                                                                       \n",
              "56311                       40.720245                       -73.998366   \n",
              "698423                      40.764723                       -73.976515   \n",
              "698424                      40.764723                       -73.960551   \n",
              "698425                      40.793597                       -73.969822   \n",
              "698426                      40.766809                       -73.956886   \n",
              "\n",
              "        pickup_neighborhoods.longitude  vendor_id  \n",
              "id                                                 \n",
              "56311                       -73.987205          2  \n",
              "698423                      -73.966696          2  \n",
              "698424                      -73.966696          2  \n",
              "698425                      -73.969822          1  \n",
              "698426                      -73.956886          1  \n",
              "\n",
              "[5 rows x 30 columns]"
            ],
            "text/html": [
              "\n",
              "  <div id=\"df-5b81526b-a48f-4676-bad6-c7bb03bff646\">\n",
              "    <div class=\"colab-df-container\">\n",
              "      <div>\n",
              "<style scoped>\n",
              "    .dataframe tbody tr th:only-of-type {\n",
              "        vertical-align: middle;\n",
              "    }\n",
              "\n",
              "    .dataframe tbody tr th {\n",
              "        vertical-align: top;\n",
              "    }\n",
              "\n",
              "    .dataframe thead th {\n",
              "        text-align: right;\n",
              "    }\n",
              "</style>\n",
              "<table border=\"1\" class=\"dataframe\">\n",
              "  <thead>\n",
              "    <tr style=\"text-align: right;\">\n",
              "      <th></th>\n",
              "      <th>passenger_count</th>\n",
              "      <th>dropoff_neighborhood = AD</th>\n",
              "      <th>dropoff_neighborhood = A</th>\n",
              "      <th>dropoff_neighborhood = AA</th>\n",
              "      <th>dropoff_neighborhood = D</th>\n",
              "      <th>dropoff_neighborhood = AR</th>\n",
              "      <th>dropoff_neighborhood = C</th>\n",
              "      <th>dropoff_neighborhood = O</th>\n",
              "      <th>dropoff_neighborhood = N</th>\n",
              "      <th>dropoff_neighborhood = AK</th>\n",
              "      <th>...</th>\n",
              "      <th>pickup_neighborhood = AK</th>\n",
              "      <th>pickup_neighborhood = AO</th>\n",
              "      <th>pickup_neighborhood = N</th>\n",
              "      <th>pickup_neighborhood = O</th>\n",
              "      <th>pickup_neighborhood = R</th>\n",
              "      <th>trip_duration</th>\n",
              "      <th>pickup_neighborhoods.latitude</th>\n",
              "      <th>dropoff_neighborhoods.longitude</th>\n",
              "      <th>pickup_neighborhoods.longitude</th>\n",
              "      <th>vendor_id</th>\n",
              "    </tr>\n",
              "    <tr>\n",
              "      <th>id</th>\n",
              "      <th></th>\n",
              "      <th></th>\n",
              "      <th></th>\n",
              "      <th></th>\n",
              "      <th></th>\n",
              "      <th></th>\n",
              "      <th></th>\n",
              "      <th></th>\n",
              "      <th></th>\n",
              "      <th></th>\n",
              "      <th></th>\n",
              "      <th></th>\n",
              "      <th></th>\n",
              "      <th></th>\n",
              "      <th></th>\n",
              "      <th></th>\n",
              "      <th></th>\n",
              "      <th></th>\n",
              "      <th></th>\n",
              "      <th></th>\n",
              "      <th></th>\n",
              "    </tr>\n",
              "  </thead>\n",
              "  <tbody>\n",
              "    <tr>\n",
              "      <th>56311</th>\n",
              "      <td>1</td>\n",
              "      <td>False</td>\n",
              "      <td>False</td>\n",
              "      <td>False</td>\n",
              "      <td>False</td>\n",
              "      <td>False</td>\n",
              "      <td>False</td>\n",
              "      <td>False</td>\n",
              "      <td>False</td>\n",
              "      <td>False</td>\n",
              "      <td>...</td>\n",
              "      <td>False</td>\n",
              "      <td>False</td>\n",
              "      <td>False</td>\n",
              "      <td>False</td>\n",
              "      <td>False</td>\n",
              "      <td>645.0</td>\n",
              "      <td>40.720245</td>\n",
              "      <td>-73.998366</td>\n",
              "      <td>-73.987205</td>\n",
              "      <td>2</td>\n",
              "    </tr>\n",
              "    <tr>\n",
              "      <th>698423</th>\n",
              "      <td>1</td>\n",
              "      <td>True</td>\n",
              "      <td>False</td>\n",
              "      <td>False</td>\n",
              "      <td>False</td>\n",
              "      <td>False</td>\n",
              "      <td>False</td>\n",
              "      <td>False</td>\n",
              "      <td>False</td>\n",
              "      <td>False</td>\n",
              "      <td>...</td>\n",
              "      <td>True</td>\n",
              "      <td>False</td>\n",
              "      <td>False</td>\n",
              "      <td>False</td>\n",
              "      <td>False</td>\n",
              "      <td>523.0</td>\n",
              "      <td>40.764723</td>\n",
              "      <td>-73.976515</td>\n",
              "      <td>-73.966696</td>\n",
              "      <td>2</td>\n",
              "    </tr>\n",
              "    <tr>\n",
              "      <th>698424</th>\n",
              "      <td>1</td>\n",
              "      <td>False</td>\n",
              "      <td>False</td>\n",
              "      <td>False</td>\n",
              "      <td>False</td>\n",
              "      <td>False</td>\n",
              "      <td>False</td>\n",
              "      <td>True</td>\n",
              "      <td>False</td>\n",
              "      <td>False</td>\n",
              "      <td>...</td>\n",
              "      <td>True</td>\n",
              "      <td>False</td>\n",
              "      <td>False</td>\n",
              "      <td>False</td>\n",
              "      <td>False</td>\n",
              "      <td>155.0</td>\n",
              "      <td>40.764723</td>\n",
              "      <td>-73.960551</td>\n",
              "      <td>-73.966696</td>\n",
              "      <td>2</td>\n",
              "    </tr>\n",
              "    <tr>\n",
              "      <th>698425</th>\n",
              "      <td>1</td>\n",
              "      <td>False</td>\n",
              "      <td>False</td>\n",
              "      <td>False</td>\n",
              "      <td>False</td>\n",
              "      <td>False</td>\n",
              "      <td>False</td>\n",
              "      <td>False</td>\n",
              "      <td>False</td>\n",
              "      <td>False</td>\n",
              "      <td>...</td>\n",
              "      <td>False</td>\n",
              "      <td>False</td>\n",
              "      <td>False</td>\n",
              "      <td>False</td>\n",
              "      <td>False</td>\n",
              "      <td>225.0</td>\n",
              "      <td>40.793597</td>\n",
              "      <td>-73.969822</td>\n",
              "      <td>-73.969822</td>\n",
              "      <td>1</td>\n",
              "    </tr>\n",
              "    <tr>\n",
              "      <th>698426</th>\n",
              "      <td>2</td>\n",
              "      <td>False</td>\n",
              "      <td>False</td>\n",
              "      <td>False</td>\n",
              "      <td>False</td>\n",
              "      <td>False</td>\n",
              "      <td>False</td>\n",
              "      <td>False</td>\n",
              "      <td>False</td>\n",
              "      <td>False</td>\n",
              "      <td>...</td>\n",
              "      <td>False</td>\n",
              "      <td>False</td>\n",
              "      <td>False</td>\n",
              "      <td>False</td>\n",
              "      <td>False</td>\n",
              "      <td>372.0</td>\n",
              "      <td>40.766809</td>\n",
              "      <td>-73.956886</td>\n",
              "      <td>-73.956886</td>\n",
              "      <td>1</td>\n",
              "    </tr>\n",
              "  </tbody>\n",
              "</table>\n",
              "<p>5 rows × 30 columns</p>\n",
              "</div>\n",
              "      <button class=\"colab-df-convert\" onclick=\"convertToInteractive('df-5b81526b-a48f-4676-bad6-c7bb03bff646')\"\n",
              "              title=\"Convert this dataframe to an interactive table.\"\n",
              "              style=\"display:none;\">\n",
              "        \n",
              "  <svg xmlns=\"http://www.w3.org/2000/svg\" height=\"24px\"viewBox=\"0 0 24 24\"\n",
              "       width=\"24px\">\n",
              "    <path d=\"M0 0h24v24H0V0z\" fill=\"none\"/>\n",
              "    <path d=\"M18.56 5.44l.94 2.06.94-2.06 2.06-.94-2.06-.94-.94-2.06-.94 2.06-2.06.94zm-11 1L8.5 8.5l.94-2.06 2.06-.94-2.06-.94L8.5 2.5l-.94 2.06-2.06.94zm10 10l.94 2.06.94-2.06 2.06-.94-2.06-.94-.94-2.06-.94 2.06-2.06.94z\"/><path d=\"M17.41 7.96l-1.37-1.37c-.4-.4-.92-.59-1.43-.59-.52 0-1.04.2-1.43.59L10.3 9.45l-7.72 7.72c-.78.78-.78 2.05 0 2.83L4 21.41c.39.39.9.59 1.41.59.51 0 1.02-.2 1.41-.59l7.78-7.78 2.81-2.81c.8-.78.8-2.07 0-2.86zM5.41 20L4 18.59l7.72-7.72 1.47 1.35L5.41 20z\"/>\n",
              "  </svg>\n",
              "      </button>\n",
              "      \n",
              "  <style>\n",
              "    .colab-df-container {\n",
              "      display:flex;\n",
              "      flex-wrap:wrap;\n",
              "      gap: 12px;\n",
              "    }\n",
              "\n",
              "    .colab-df-convert {\n",
              "      background-color: #E8F0FE;\n",
              "      border: none;\n",
              "      border-radius: 50%;\n",
              "      cursor: pointer;\n",
              "      display: none;\n",
              "      fill: #1967D2;\n",
              "      height: 32px;\n",
              "      padding: 0 0 0 0;\n",
              "      width: 32px;\n",
              "    }\n",
              "\n",
              "    .colab-df-convert:hover {\n",
              "      background-color: #E2EBFA;\n",
              "      box-shadow: 0px 1px 2px rgba(60, 64, 67, 0.3), 0px 1px 3px 1px rgba(60, 64, 67, 0.15);\n",
              "      fill: #174EA6;\n",
              "    }\n",
              "\n",
              "    [theme=dark] .colab-df-convert {\n",
              "      background-color: #3B4455;\n",
              "      fill: #D2E3FC;\n",
              "    }\n",
              "\n",
              "    [theme=dark] .colab-df-convert:hover {\n",
              "      background-color: #434B5C;\n",
              "      box-shadow: 0px 1px 3px 1px rgba(0, 0, 0, 0.15);\n",
              "      filter: drop-shadow(0px 1px 2px rgba(0, 0, 0, 0.3));\n",
              "      fill: #FFFFFF;\n",
              "    }\n",
              "  </style>\n",
              "\n",
              "      <script>\n",
              "        const buttonEl =\n",
              "          document.querySelector('#df-5b81526b-a48f-4676-bad6-c7bb03bff646 button.colab-df-convert');\n",
              "        buttonEl.style.display =\n",
              "          google.colab.kernel.accessAllowed ? 'block' : 'none';\n",
              "\n",
              "        async function convertToInteractive(key) {\n",
              "          const element = document.querySelector('#df-5b81526b-a48f-4676-bad6-c7bb03bff646');\n",
              "          const dataTable =\n",
              "            await google.colab.kernel.invokeFunction('convertToInteractive',\n",
              "                                                     [key], {});\n",
              "          if (!dataTable) return;\n",
              "\n",
              "          const docLinkHtml = 'Like what you see? Visit the ' +\n",
              "            '<a target=\"_blank\" href=https://colab.research.google.com/notebooks/data_table.ipynb>data table notebook</a>'\n",
              "            + ' to learn more about interactive tables.';\n",
              "          element.innerHTML = '';\n",
              "          dataTable['output_type'] = 'display_data';\n",
              "          await google.colab.output.renderOutput(dataTable, element);\n",
              "          const docLink = document.createElement('div');\n",
              "          docLink.innerHTML = docLinkHtml;\n",
              "          element.appendChild(docLink);\n",
              "        }\n",
              "      </script>\n",
              "    </div>\n",
              "  </div>\n",
              "  "
            ]
          },
          "metadata": {},
          "execution_count": 56
        }
      ],
      "source": [
        "preview(feature_matrix1, 5)"
      ]
    },
    {
      "cell_type": "code",
      "execution_count": null,
      "metadata": {
        "id": "DvmgGL7ce7mN",
        "colab": {
          "base_uri": "https://localhost:8080/"
        },
        "outputId": "ebe4d1bc-1c2b-43e3-9943-eb26edec1c5b"
      },
      "outputs": [
        {
          "output_type": "execute_result",
          "data": {
            "text/plain": [
              "(920378, 30)"
            ]
          },
          "metadata": {},
          "execution_count": 57
        }
      ],
      "source": [
        "feature_matrix1.shape"
      ]
    },
    {
      "cell_type": "markdown",
      "metadata": {
        "id": "kXAjqOVle7mN"
      },
      "source": [
        "### **Model Building**\n",
        "------------------\n",
        "\n",
        "To build a model, we\n",
        "* Separate the data into a portion for ``training`` (75% in this case) and a portion for ``testing`` \n",
        "* Get the log of the trip duration so that a more linear relationship can be found.\n",
        "* Train a model using a ``Linear Regression, Decision Tree and Random Forest model``"
      ]
    },
    {
      "cell_type": "markdown",
      "metadata": {
        "id": "m6wb9vTGe7mN"
      },
      "source": [
        "#### **Transforming the duration variable on sqrt and log**\n",
        "\n"
      ]
    },
    {
      "cell_type": "code",
      "execution_count": null,
      "metadata": {
        "id": "mAmvh8SYe7mN",
        "colab": {
          "base_uri": "https://localhost:8080/",
          "height": 372
        },
        "outputId": "a1065015-8a51-4604-8588-4c3694ba1395"
      },
      "outputs": [
        {
          "output_type": "execute_result",
          "data": {
            "text/plain": [
              "(array([  4566.,  35831., 163872., 249551., 225381., 149544.,  80472.,\n",
              "         38481.,  18054.,   8657.]),\n",
              " array([ 1.        ,  6.90499792, 12.80999584, 18.71499376, 24.61999167,\n",
              "        30.52498959, 36.42998751, 42.33498543, 48.23998335, 54.14498127,\n",
              "        60.04997918]),\n",
              " <a list of 10 Patch objects>)"
            ]
          },
          "metadata": {},
          "execution_count": 58
        },
        {
          "output_type": "display_data",
          "data": {
            "text/plain": [
              "<Figure size 432x288 with 1 Axes>"
            ],
            "image/png": "[encoded data removed]"
          },
          "metadata": {
            "needs_background": "light"
          }
        }
      ],
      "source": [
        "plt.hist(np.sqrt(trips['trip_duration']))"
      ]
    },
    {
      "cell_type": "code",
      "execution_count": null,
      "metadata": {
        "id": "ZMJK865ye7mN",
        "colab": {
          "base_uri": "https://localhost:8080/",
          "height": 372
        },
        "outputId": "4bd09b3a-34e0-4679-eafa-acc5f41955b2"
      },
      "outputs": [
        {
          "output_type": "execute_result",
          "data": {
            "text/plain": [
              "(array([1.81000e+02, 5.97000e+02, 7.44000e+02, 1.43900e+03, 2.86700e+03,\n",
              "        2.00260e+04, 1.35785e+05, 3.69738e+05, 3.50815e+05, 9.22170e+04]),\n",
              " array([0.        , 0.81903544, 1.63807088, 2.45710632, 3.27614176,\n",
              "        4.0951772 , 4.91421264, 5.73324808, 6.55228352, 7.37131896,\n",
              "        8.1903544 ]),\n",
              " <a list of 10 Patch objects>)"
            ]
          },
          "metadata": {},
          "execution_count": 59
        },
        {
          "output_type": "display_data",
          "data": {
            "text/plain": [
              "<Figure size 432x288 with 1 Axes>"
            ],
            "image/png": "[encoded data removed]"
          },
          "metadata": {
            "needs_background": "light"
          }
        }
      ],
      "source": [
        "plt.hist(np.log(trips['trip_duration']))"
      ]
    },
    {
      "cell_type": "markdown",
      "metadata": {
        "id": "KJJyPhx9e7mN"
      },
      "source": [
        "- We can clearly see that the sqrt transformation is giving nearly normal distribution, there for we can choose the sqrt transformation on the dependent(trip_duration) variable."
      ]
    },
    {
      "cell_type": "markdown",
      "metadata": {
        "id": "iqs6s_2Le7mO"
      },
      "source": [
        "#### **Splitting the data into train and test**"
      ]
    },
    {
      "cell_type": "code",
      "execution_count": null,
      "metadata": {
        "ExecuteTime": {
          "end_time": "2021-07-15T12:47:30.919229Z",
          "start_time": "2021-07-15T12:47:24.754592Z"
        },
        "id": "OQGcWZhue7mO"
      },
      "outputs": [],
      "source": [
        "# Separates the whole feature matrix into train data feature matrix, train data labels, and test data feature matrix \n",
        "X_train, y_train, X_test, y_test = get_train_test_fm(feature_matrix1,.75)\n",
        "y_train = np.sqrt(y_train)\n",
        "y_test = np.sqrt(y_test)"
      ]
    },
    {
      "cell_type": "markdown",
      "metadata": {
        "id": "9EwsqXB3e7mO"
      },
      "source": [
        "**Defining function for to check the performance of the model.**"
      ]
    },
    {
      "cell_type": "code",
      "execution_count": null,
      "metadata": {
        "id": "8JwaOIJYe7mO"
      },
      "outputs": [],
      "source": [
        "# RMSE\n",
        "def rmse(predictions, targets):\n",
        "    return np.sqrt(((targets - predictions) ** 2).mean())\n",
        "\n",
        "# MAE\n",
        "def mae(predictions, targets):\n",
        "    return np.mean(np.abs((targets - predictions)))\n",
        "\n",
        "\n",
        "# Model Performance on test and train data\n",
        "def model_pref(model, x_train, x_test, y_train,y_test):\n",
        "\n",
        "    # Insample Prediction\n",
        "    y_pred_train = model.predict(x_train)\n",
        "    y_observed_train = y_train\n",
        "\n",
        "    # Prediction on test data\n",
        "    y_pred_test = model.predict(x_test)\n",
        "    y_observed_test = y_test\n",
        "\n",
        "    print(\n",
        "        pd.DataFrame(\n",
        "            {\n",
        "                \"Data\": [\"Train\", \"Test\"],\n",
        "                'RSquared':\n",
        "                    [r2_score(y_observed_train,y_pred_train),\n",
        "                    r2_score(y_observed_test,y_pred_test )\n",
        "                    ],\n",
        "                \"RMSE\": [\n",
        "                    rmse(y_pred_train, y_observed_train),\n",
        "                    rmse(y_pred_test, y_observed_test),\n",
        "                ],\n",
        "                \"MAE\": [\n",
        "                    mae(y_pred_train, y_observed_train),\n",
        "                    mae(y_pred_test, y_observed_test),\n",
        "                ],\n",
        "            }\n",
        "        )\n",
        "    )"
      ]
    },
    {
      "cell_type": "markdown",
      "metadata": {
        "id": "ORgJya_De7mO"
      },
      "source": [
        "### **Question 4.3 Build Linear regression using only weekend transform primitive**"
      ]
    },
    {
      "cell_type": "code",
      "execution_count": null,
      "metadata": {
        "id": "xu3RO5GVe7mO",
        "colab": {
          "base_uri": "https://localhost:8080/"
        },
        "outputId": "89149612-e5ad-4eac-d5b7-3ca5decb5e77"
      },
      "outputs": [
        {
          "output_type": "execute_result",
          "data": {
            "text/plain": [
              "LinearRegression()"
            ]
          },
          "metadata": {},
          "execution_count": 63
        }
      ],
      "source": [
        "#Remove _________ and complete the code\n",
        "\n",
        "# Defining the model\n",
        "lr1=LinearRegression()\n",
        "\n",
        "# Fitting the model\n",
        "lr1.fit(X_train,y_train)\n"
      ]
    },
    {
      "cell_type": "markdown",
      "metadata": {
        "id": "wO0YC8HGe7mO"
      },
      "source": [
        "#### **Check the performance of the model**"
      ]
    },
    {
      "cell_type": "code",
      "execution_count": null,
      "metadata": {
        "id": "OO6ERipWe7mO",
        "colab": {
          "base_uri": "https://localhost:8080/"
        },
        "outputId": "c4f3dbbb-f0b2-45e9-e5bc-f93ddb896d56"
      },
      "outputs": [
        {
          "output_type": "stream",
          "name": "stdout",
          "text": [
            "    Data  RSquared      RMSE       MAE\n",
            "0  Train  0.575992  6.132995  4.737287\n",
            "1   Test  0.555673  6.559967  5.025680\n"
          ]
        }
      ],
      "source": [
        "# Remove _________ and complete the code\n",
        "model_pref(lr1, X_train, X_test,y_train,y_test)  "
      ]
    },
    {
      "cell_type": "markdown",
      "metadata": {
        "id": "s-pJdFiDe7mP"
      },
      "source": [
        "**Model is giving RSquared of 0.555673, RMSE of 6.559967 and MAE of 5.02568**"
      ]
    },
    {
      "cell_type": "markdown",
      "metadata": {
        "id": "Sur-YfODe7mP"
      },
      "source": [
        "### **Question 4.4 Building decision tree using only weekend transform primitive**"
      ]
    },
    {
      "cell_type": "code",
      "execution_count": null,
      "metadata": {
        "id": "F8o9xgn1e7mP",
        "colab": {
          "base_uri": "https://localhost:8080/"
        },
        "outputId": "3aa70480-366e-455a-b75b-ff116c0046c6"
      },
      "outputs": [
        {
          "output_type": "execute_result",
          "data": {
            "text/plain": [
              "DecisionTreeRegressor()"
            ]
          },
          "metadata": {},
          "execution_count": 65
        }
      ],
      "source": [
        "# Remove _________ and complete the code\n",
        "\n",
        "# Define the model\n",
        "dt=DecisionTreeRegressor()\n",
        "\n",
        "# Fit the model\n",
        "dt.fit(X_train,y_train)"
      ]
    },
    {
      "cell_type": "markdown",
      "metadata": {
        "id": "SWFG-Swue7mS"
      },
      "source": [
        "#### **Check the performance of the model**"
      ]
    },
    {
      "cell_type": "code",
      "execution_count": null,
      "metadata": {
        "id": "Y2_ubSe-e7mS",
        "colab": {
          "base_uri": "https://localhost:8080/"
        },
        "outputId": "dcd3cf47-5dc6-43ff-cb89-92953e106f5a"
      },
      "outputs": [
        {
          "output_type": "stream",
          "name": "stdout",
          "text": [
            "    Data  RSquared      RMSE       MAE\n",
            "0  Train  0.916825  2.716322  1.522122\n",
            "1   Test  0.597201  6.245894  4.641033\n"
          ]
        }
      ],
      "source": [
        "# Remove _________ and complete the code\n",
        "model_pref(dt, X_train, X_test,y_train,y_test)  "
      ]
    },
    {
      "cell_type": "markdown",
      "metadata": {
        "id": "_bpYCiRbe7mT"
      },
      "source": [
        "**The model is overfitting a lot as train Rsquared is 0.916825 and test Rsquared is 0.597201**\n"
      ]
    },
    {
      "cell_type": "markdown",
      "metadata": {
        "id": "Al4Lb-Lae7mT"
      },
      "source": [
        "### **Question 4.5 Building Pruned decision tree using only weekend transform primitive**"
      ]
    },
    {
      "cell_type": "code",
      "execution_count": null,
      "metadata": {
        "id": "mXSTBlORe7mT",
        "colab": {
          "base_uri": "https://localhost:8080/"
        },
        "outputId": "7b6b2896-b2b3-4149-d582-e4aed9f8f26c"
      },
      "outputs": [
        {
          "output_type": "execute_result",
          "data": {
            "text/plain": [
              "DecisionTreeRegressor(max_depth=7)"
            ]
          },
          "metadata": {},
          "execution_count": 67
        }
      ],
      "source": [
        "# Remove _________ and complete the code\n",
        "\n",
        "# Define the model\n",
        "\n",
        "# Use max_depth=7\n",
        "dt_pruned=DecisionTreeRegressor(max_depth=7)\n",
        "\n",
        "# Fit the model\n",
        "dt_pruned.fit(X_train,y_train)"
      ]
    },
    {
      "cell_type": "markdown",
      "metadata": {
        "id": "mTSHfYzAe7mT"
      },
      "source": [
        "#### **Check the performance of the model**"
      ]
    },
    {
      "cell_type": "code",
      "execution_count": null,
      "metadata": {
        "id": "JG24yezRe7mT",
        "colab": {
          "base_uri": "https://localhost:8080/"
        },
        "outputId": "504b98a3-e660-4977-afe5-c1259a4954d5"
      },
      "outputs": [
        {
          "output_type": "stream",
          "name": "stdout",
          "text": [
            "    Data  RSquared      RMSE       MAE\n",
            "0  Train  0.733765  4.859798  3.708663\n",
            "1   Test  0.704197  5.352444  4.049431\n"
          ]
        }
      ],
      "source": [
        "# Remove _________ and complete the code\n",
        "model_pref(dt_pruned, X_train, X_test,y_train,y_test)  "
      ]
    },
    {
      "cell_type": "markdown",
      "metadata": {
        "id": "1eTEtHB8e7mT"
      },
      "source": [
        "**The pruned model is performing better than the other two models(baseline and linear regression)**\n"
      ]
    },
    {
      "cell_type": "markdown",
      "metadata": {
        "id": "c-THttV2e7mT"
      },
      "source": [
        "### **Question 4.6 Building Random Forest using only weekend transform primitive**"
      ]
    },
    {
      "cell_type": "code",
      "execution_count": null,
      "metadata": {
        "id": "SRUI0v9Ye7mT"
      },
      "outputs": [],
      "source": [
        "# Remove _________ and complete the code\n",
        "\n",
        "# Define the model\n",
        "\n",
        "# using (n_estimators=60,max_depth=7)\n",
        "rf=RandomForestRegressor(n_estimators=60,max_depth=7)"
      ]
    },
    {
      "cell_type": "code",
      "execution_count": null,
      "metadata": {
        "id": "axUs0zRge7mT",
        "colab": {
          "base_uri": "https://localhost:8080/"
        },
        "outputId": "9c6a8e52-7db3-44e6-d791-2184ddc2e01c"
      },
      "outputs": [
        {
          "output_type": "execute_result",
          "data": {
            "text/plain": [
              "RandomForestRegressor(max_depth=7, n_estimators=60)"
            ]
          },
          "metadata": {},
          "execution_count": 73
        }
      ],
      "source": [
        "# Fit the model\n",
        "\n",
        "#Remove _________ and complete the code\n",
        "rf.fit(X_train,y_train)"
      ]
    },
    {
      "cell_type": "markdown",
      "metadata": {
        "id": "u4N9V7ime7mU"
      },
      "source": [
        "#### **Check the performance of the model**"
      ]
    },
    {
      "cell_type": "code",
      "execution_count": null,
      "metadata": {
        "scrolled": true,
        "id": "jWW-xoIne7mU",
        "colab": {
          "base_uri": "https://localhost:8080/"
        },
        "outputId": "09e638a2-d892-4bb9-9977-95e87fd0b366"
      },
      "outputs": [
        {
          "output_type": "stream",
          "name": "stdout",
          "text": [
            "    Data  RSquared      RMSE       MAE\n",
            "0  Train  0.738095  4.820116  3.677555\n",
            "1   Test  0.708038  5.317573  4.020901\n"
          ]
        }
      ],
      "source": [
        "#Remove _________ and complete the code\n",
        "\n",
        "model_pref(rf, X_train, X_test,y_train,y_test)"
      ]
    },
    {
      "cell_type": "markdown",
      "metadata": {
        "id": "51is8stRe7mU"
      },
      "source": [
        "**The score for the model with only 1 transform primitive is ~71%.\n",
        "This model is performing little better than pruned decision tree model.**\n"
      ]
    },
    {
      "cell_type": "markdown",
      "metadata": {
        "id": "rGaMKfP5e7mU"
      },
      "source": [
        "### **Step 4: Adding more Transform Primitives and creating new model**\n",
        "\n",
        "* Add ``Minute``, ``Hour``, ``Month``, ``Weekday`` , etc primitives\n",
        "* All these transform primitives apply to ``datetime`` columns\n",
        "\n",
        "## **Question 5: Create models with more transform primitives **\n",
        "\n"
      ]
    },
    {
      "cell_type": "markdown",
      "source": [
        "### **Question 5.1 Define more transform primitives and define features using dfs?**"
      ],
      "metadata": {
        "id": "bmW8BcE5tWbh"
      }
    },
    {
      "cell_type": "code",
      "execution_count": null,
      "metadata": {
        "ExecuteTime": {
          "end_time": "2021-07-15T12:51:54.063760Z",
          "start_time": "2021-07-15T12:51:51.694558Z"
        },
        "id": "bCTE86zie7mU"
      },
      "outputs": [],
      "source": [
        "# Remove _________ and complete the code\n",
        "trans_primitives = [Minute, Hour, Day, Month, Weekday, IsWeekend]\n",
        "\n",
        "# Remove _________ and complete the code\n",
        "features = ft.dfs(entities=entities,\n",
        "                  relationships=relationships,\n",
        "                  target_entity=\"trips\",\n",
        "                  trans_primitives=trans_primitives,\n",
        "                  agg_primitives=[],\n",
        "                  ignore_variables={\"trips\": [\"pickup_latitude\", \"pickup_longitude\",\n",
        "                                              \"dropoff_latitude\", \"dropoff_longitude\"]},\n",
        "                  features_only=True)"
      ]
    },
    {
      "cell_type": "code",
      "execution_count": null,
      "metadata": {
        "ExecuteTime": {
          "end_time": "2021-07-15T12:52:31.456696Z",
          "start_time": "2021-07-15T12:52:31.362945Z"
        },
        "id": "EIEEw6hpe7mU",
        "colab": {
          "base_uri": "https://localhost:8080/"
        },
        "outputId": "89b40035-adea-4ddd-9c47-38af433b9e66"
      },
      "outputs": [
        {
          "output_type": "stream",
          "name": "stdout",
          "text": [
            "Number of features: 17\n"
          ]
        },
        {
          "output_type": "execute_result",
          "data": {
            "text/plain": [
              "[<Feature: vendor_id>,\n",
              " <Feature: passenger_count>,\n",
              " <Feature: trip_distance>,\n",
              " <Feature: payment_type>,\n",
              " <Feature: trip_duration>,\n",
              " <Feature: pickup_neighborhood>,\n",
              " <Feature: dropoff_neighborhood>,\n",
              " <Feature: DAY(pickup_datetime)>,\n",
              " <Feature: HOUR(pickup_datetime)>,\n",
              " <Feature: IS_WEEKEND(pickup_datetime)>,\n",
              " <Feature: MINUTE(pickup_datetime)>,\n",
              " <Feature: MONTH(pickup_datetime)>,\n",
              " <Feature: WEEKDAY(pickup_datetime)>,\n",
              " <Feature: pickup_neighborhoods.latitude>,\n",
              " <Feature: pickup_neighborhoods.longitude>,\n",
              " <Feature: dropoff_neighborhoods.latitude>,\n",
              " <Feature: dropoff_neighborhoods.longitude>]"
            ]
          },
          "metadata": {},
          "execution_count": 77
        }
      ],
      "source": [
        "print (\"Number of features: %d\" % len(features))\n",
        "features"
      ]
    },
    {
      "cell_type": "markdown",
      "metadata": {
        "id": "l17w_Oeme7mU"
      },
      "source": [
        "Now let's compute the features. "
      ]
    },
    {
      "cell_type": "markdown",
      "metadata": {
        "id": "9zTI4zfKe7mU"
      },
      "source": [
        "### **Question 5.2 Compute features and define feature matrix**"
      ]
    },
    {
      "cell_type": "code",
      "execution_count": null,
      "metadata": {
        "ExecuteTime": {
          "end_time": "2021-07-15T12:52:48.471903Z",
          "start_time": "2021-07-15T12:52:34.218475Z"
        },
        "id": "9ubrAJrZe7mU",
        "colab": {
          "base_uri": "https://localhost:8080/"
        },
        "outputId": "f02ae1fe-13a9-4b86-bd94-bcdb169936c9"
      },
      "outputs": [
        {
          "output_type": "stream",
          "name": "stdout",
          "text": [
            "Elapsed: 00:14 | Progress: 100%|██████████\n",
            "Finishing computing...\n"
          ]
        }
      ],
      "source": [
        "# Remove _________ and complete the code\n",
        "feature_matrix2 = compute_features(features,cutoff_time)"
      ]
    },
    {
      "cell_type": "code",
      "execution_count": null,
      "metadata": {
        "ExecuteTime": {
          "end_time": "2021-07-15T12:52:50.630760Z",
          "start_time": "2021-07-15T12:52:50.137051Z"
        },
        "id": "kSnWwOfHe7mV",
        "colab": {
          "base_uri": "https://localhost:8080/"
        },
        "outputId": "fa319195-30f5-4819-8af6-3145ebd5a031"
      },
      "outputs": [
        {
          "output_type": "execute_result",
          "data": {
            "text/plain": [
              "(920378, 35)"
            ]
          },
          "metadata": {},
          "execution_count": 79
        }
      ],
      "source": [
        "feature_matrix2.shape"
      ]
    },
    {
      "cell_type": "code",
      "execution_count": null,
      "metadata": {
        "id": "ccVC842pe7mV",
        "colab": {
          "base_uri": "https://localhost:8080/",
          "height": 348
        },
        "outputId": "3c60a61a-6d69-4590-f5ef-60c1a764ece6"
      },
      "outputs": [
        {
          "output_type": "execute_result",
          "data": {
            "text/plain": [
              "       MONTH(pickup_datetime)  HOUR(pickup_datetime)  \\\n",
              "id                                                     \n",
              "56311                       1                      0   \n",
              "56312                       1                      0   \n",
              "56313                       1                      0   \n",
              "56314                       1                      0   \n",
              "56315                       1                      0   \n",
              "\n",
              "       IS_WEEKEND(pickup_datetime)  dropoff_neighborhoods.latitude  \\\n",
              "id                                                                   \n",
              "56311                        False                       40.721435   \n",
              "56312                        False                       40.715828   \n",
              "56313                        False                       40.818445   \n",
              "56314                        False                       40.742531   \n",
              "56315                        False                       40.818445   \n",
              "\n",
              "       pickup_neighborhoods.latitude  passenger_count payment_type  \\\n",
              "id                                                                   \n",
              "56311                      40.720245                1            1   \n",
              "56312                      40.646194                1            2   \n",
              "56313                      40.818445                1            1   \n",
              "56314                      40.729652                5            2   \n",
              "56315                      40.793597                1            1   \n",
              "\n",
              "       dropoff_neighborhood = AD  dropoff_neighborhood = A  \\\n",
              "id                                                           \n",
              "56311                      False                     False   \n",
              "56312                      False                     False   \n",
              "56313                      False                     False   \n",
              "56314                      False                     False   \n",
              "56315                      False                     False   \n",
              "\n",
              "       dropoff_neighborhood = AA  ...  pickup_neighborhood = O  \\\n",
              "id                                ...                            \n",
              "56311                      False  ...                    False   \n",
              "56312                      False  ...                    False   \n",
              "56313                      False  ...                    False   \n",
              "56314                      False  ...                    False   \n",
              "56315                      False  ...                    False   \n",
              "\n",
              "       pickup_neighborhood = R  WEEKDAY(pickup_datetime)  \\\n",
              "id                                                         \n",
              "56311                    False                         1   \n",
              "56312                    False                         1   \n",
              "56313                    False                         1   \n",
              "56314                    False                         1   \n",
              "56315                    False                         1   \n",
              "\n",
              "       MINUTE(pickup_datetime)  trip_duration  trip_distance  \\\n",
              "id                                                             \n",
              "56311                        0          645.0           1.61   \n",
              "56312                        2         1270.0          16.15   \n",
              "56313                        2          207.0           0.80   \n",
              "56314                        2          214.0           1.33   \n",
              "56315                        3          570.0           2.35   \n",
              "\n",
              "       dropoff_neighborhoods.longitude  DAY(pickup_datetime)  vendor_id  \\\n",
              "id                                                                        \n",
              "56311                       -73.998366                    12          2   \n",
              "56312                       -73.954298                    12          2   \n",
              "56313                       -73.948046                    12          1   \n",
              "56314                       -73.977943                    12          2   \n",
              "56315                       -73.948046                    12          2   \n",
              "\n",
              "       pickup_neighborhoods.longitude  \n",
              "id                                     \n",
              "56311                      -73.987205  \n",
              "56312                      -73.785073  \n",
              "56313                      -73.948046  \n",
              "56314                      -73.991595  \n",
              "56315                      -73.969822  \n",
              "\n",
              "[5 rows x 35 columns]"
            ],
            "text/html": [
              "\n",
              "  <div id=\"df-7beebb34-a3e6-4c98-8f1f-e979f183dc03\">\n",
              "    <div class=\"colab-df-container\">\n",
              "      <div>\n",
              "<style scoped>\n",
              "    .dataframe tbody tr th:only-of-type {\n",
              "        vertical-align: middle;\n",
              "    }\n",
              "\n",
              "    .dataframe tbody tr th {\n",
              "        vertical-align: top;\n",
              "    }\n",
              "\n",
              "    .dataframe thead th {\n",
              "        text-align: right;\n",
              "    }\n",
              "</style>\n",
              "<table border=\"1\" class=\"dataframe\">\n",
              "  <thead>\n",
              "    <tr style=\"text-align: right;\">\n",
              "      <th></th>\n",
              "      <th>MONTH(pickup_datetime)</th>\n",
              "      <th>HOUR(pickup_datetime)</th>\n",
              "      <th>IS_WEEKEND(pickup_datetime)</th>\n",
              "      <th>dropoff_neighborhoods.latitude</th>\n",
              "      <th>pickup_neighborhoods.latitude</th>\n",
              "      <th>passenger_count</th>\n",
              "      <th>payment_type</th>\n",
              "      <th>dropoff_neighborhood = AD</th>\n",
              "      <th>dropoff_neighborhood = A</th>\n",
              "      <th>dropoff_neighborhood = AA</th>\n",
              "      <th>...</th>\n",
              "      <th>pickup_neighborhood = O</th>\n",
              "      <th>pickup_neighborhood = R</th>\n",
              "      <th>WEEKDAY(pickup_datetime)</th>\n",
              "      <th>MINUTE(pickup_datetime)</th>\n",
              "      <th>trip_duration</th>\n",
              "      <th>trip_distance</th>\n",
              "      <th>dropoff_neighborhoods.longitude</th>\n",
              "      <th>DAY(pickup_datetime)</th>\n",
              "      <th>vendor_id</th>\n",
              "      <th>pickup_neighborhoods.longitude</th>\n",
              "    </tr>\n",
              "    <tr>\n",
              "      <th>id</th>\n",
              "      <th></th>\n",
              "      <th></th>\n",
              "      <th></th>\n",
              "      <th></th>\n",
              "      <th></th>\n",
              "      <th></th>\n",
              "      <th></th>\n",
              "      <th></th>\n",
              "      <th></th>\n",
              "      <th></th>\n",
              "      <th></th>\n",
              "      <th></th>\n",
              "      <th></th>\n",
              "      <th></th>\n",
              "      <th></th>\n",
              "      <th></th>\n",
              "      <th></th>\n",
              "      <th></th>\n",
              "      <th></th>\n",
              "      <th></th>\n",
              "      <th></th>\n",
              "    </tr>\n",
              "  </thead>\n",
              "  <tbody>\n",
              "    <tr>\n",
              "      <th>56311</th>\n",
              "      <td>1</td>\n",
              "      <td>0</td>\n",
              "      <td>False</td>\n",
              "      <td>40.721435</td>\n",
              "      <td>40.720245</td>\n",
              "      <td>1</td>\n",
              "      <td>1</td>\n",
              "      <td>False</td>\n",
              "      <td>False</td>\n",
              "      <td>False</td>\n",
              "      <td>...</td>\n",
              "      <td>False</td>\n",
              "      <td>False</td>\n",
              "      <td>1</td>\n",
              "      <td>0</td>\n",
              "      <td>645.0</td>\n",
              "      <td>1.61</td>\n",
              "      <td>-73.998366</td>\n",
              "      <td>12</td>\n",
              "      <td>2</td>\n",
              "      <td>-73.987205</td>\n",
              "    </tr>\n",
              "    <tr>\n",
              "      <th>56312</th>\n",
              "      <td>1</td>\n",
              "      <td>0</td>\n",
              "      <td>False</td>\n",
              "      <td>40.715828</td>\n",
              "      <td>40.646194</td>\n",
              "      <td>1</td>\n",
              "      <td>2</td>\n",
              "      <td>False</td>\n",
              "      <td>False</td>\n",
              "      <td>False</td>\n",
              "      <td>...</td>\n",
              "      <td>False</td>\n",
              "      <td>False</td>\n",
              "      <td>1</td>\n",
              "      <td>2</td>\n",
              "      <td>1270.0</td>\n",
              "      <td>16.15</td>\n",
              "      <td>-73.954298</td>\n",
              "      <td>12</td>\n",
              "      <td>2</td>\n",
              "      <td>-73.785073</td>\n",
              "    </tr>\n",
              "    <tr>\n",
              "      <th>56313</th>\n",
              "      <td>1</td>\n",
              "      <td>0</td>\n",
              "      <td>False</td>\n",
              "      <td>40.818445</td>\n",
              "      <td>40.818445</td>\n",
              "      <td>1</td>\n",
              "      <td>1</td>\n",
              "      <td>False</td>\n",
              "      <td>False</td>\n",
              "      <td>False</td>\n",
              "      <td>...</td>\n",
              "      <td>False</td>\n",
              "      <td>False</td>\n",
              "      <td>1</td>\n",
              "      <td>2</td>\n",
              "      <td>207.0</td>\n",
              "      <td>0.80</td>\n",
              "      <td>-73.948046</td>\n",
              "      <td>12</td>\n",
              "      <td>1</td>\n",
              "      <td>-73.948046</td>\n",
              "    </tr>\n",
              "    <tr>\n",
              "      <th>56314</th>\n",
              "      <td>1</td>\n",
              "      <td>0</td>\n",
              "      <td>False</td>\n",
              "      <td>40.742531</td>\n",
              "      <td>40.729652</td>\n",
              "      <td>5</td>\n",
              "      <td>2</td>\n",
              "      <td>False</td>\n",
              "      <td>False</td>\n",
              "      <td>False</td>\n",
              "      <td>...</td>\n",
              "      <td>False</td>\n",
              "      <td>False</td>\n",
              "      <td>1</td>\n",
              "      <td>2</td>\n",
              "      <td>214.0</td>\n",
              "      <td>1.33</td>\n",
              "      <td>-73.977943</td>\n",
              "      <td>12</td>\n",
              "      <td>2</td>\n",
              "      <td>-73.991595</td>\n",
              "    </tr>\n",
              "    <tr>\n",
              "      <th>56315</th>\n",
              "      <td>1</td>\n",
              "      <td>0</td>\n",
              "      <td>False</td>\n",
              "      <td>40.818445</td>\n",
              "      <td>40.793597</td>\n",
              "      <td>1</td>\n",
              "      <td>1</td>\n",
              "      <td>False</td>\n",
              "      <td>False</td>\n",
              "      <td>False</td>\n",
              "      <td>...</td>\n",
              "      <td>False</td>\n",
              "      <td>False</td>\n",
              "      <td>1</td>\n",
              "      <td>3</td>\n",
              "      <td>570.0</td>\n",
              "      <td>2.35</td>\n",
              "      <td>-73.948046</td>\n",
              "      <td>12</td>\n",
              "      <td>2</td>\n",
              "      <td>-73.969822</td>\n",
              "    </tr>\n",
              "  </tbody>\n",
              "</table>\n",
              "<p>5 rows × 35 columns</p>\n",
              "</div>\n",
              "      <button class=\"colab-df-convert\" onclick=\"convertToInteractive('df-7beebb34-a3e6-4c98-8f1f-e979f183dc03')\"\n",
              "              title=\"Convert this dataframe to an interactive table.\"\n",
              "              style=\"display:none;\">\n",
              "        \n",
              "  <svg xmlns=\"http://www.w3.org/2000/svg\" height=\"24px\"viewBox=\"0 0 24 24\"\n",
              "       width=\"24px\">\n",
              "    <path d=\"M0 0h24v24H0V0z\" fill=\"none\"/>\n",
              "    <path d=\"M18.56 5.44l.94 2.06.94-2.06 2.06-.94-2.06-.94-.94-2.06-.94 2.06-2.06.94zm-11 1L8.5 8.5l.94-2.06 2.06-.94-2.06-.94L8.5 2.5l-.94 2.06-2.06.94zm10 10l.94 2.06.94-2.06 2.06-.94-2.06-.94-.94-2.06-.94 2.06-2.06.94z\"/><path d=\"M17.41 7.96l-1.37-1.37c-.4-.4-.92-.59-1.43-.59-.52 0-1.04.2-1.43.59L10.3 9.45l-7.72 7.72c-.78.78-.78 2.05 0 2.83L4 21.41c.39.39.9.59 1.41.59.51 0 1.02-.2 1.41-.59l7.78-7.78 2.81-2.81c.8-.78.8-2.07 0-2.86zM5.41 20L4 18.59l7.72-7.72 1.47 1.35L5.41 20z\"/>\n",
              "  </svg>\n",
              "      </button>\n",
              "      \n",
              "  <style>\n",
              "    .colab-df-container {\n",
              "      display:flex;\n",
              "      flex-wrap:wrap;\n",
              "      gap: 12px;\n",
              "    }\n",
              "\n",
              "    .colab-df-convert {\n",
              "      background-color: #E8F0FE;\n",
              "      border: none;\n",
              "      border-radius: 50%;\n",
              "      cursor: pointer;\n",
              "      display: none;\n",
              "      fill: #1967D2;\n",
              "      height: 32px;\n",
              "      padding: 0 0 0 0;\n",
              "      width: 32px;\n",
              "    }\n",
              "\n",
              "    .colab-df-convert:hover {\n",
              "      background-color: #E2EBFA;\n",
              "      box-shadow: 0px 1px 2px rgba(60, 64, 67, 0.3), 0px 1px 3px 1px rgba(60, 64, 67, 0.15);\n",
              "      fill: #174EA6;\n",
              "    }\n",
              "\n",
              "    [theme=dark] .colab-df-convert {\n",
              "      background-color: #3B4455;\n",
              "      fill: #D2E3FC;\n",
              "    }\n",
              "\n",
              "    [theme=dark] .colab-df-convert:hover {\n",
              "      background-color: #434B5C;\n",
              "      box-shadow: 0px 1px 3px 1px rgba(0, 0, 0, 0.15);\n",
              "      filter: drop-shadow(0px 1px 2px rgba(0, 0, 0, 0.3));\n",
              "      fill: #FFFFFF;\n",
              "    }\n",
              "  </style>\n",
              "\n",
              "      <script>\n",
              "        const buttonEl =\n",
              "          document.querySelector('#df-7beebb34-a3e6-4c98-8f1f-e979f183dc03 button.colab-df-convert');\n",
              "        buttonEl.style.display =\n",
              "          google.colab.kernel.accessAllowed ? 'block' : 'none';\n",
              "\n",
              "        async function convertToInteractive(key) {\n",
              "          const element = document.querySelector('#df-7beebb34-a3e6-4c98-8f1f-e979f183dc03');\n",
              "          const dataTable =\n",
              "            await google.colab.kernel.invokeFunction('convertToInteractive',\n",
              "                                                     [key], {});\n",
              "          if (!dataTable) return;\n",
              "\n",
              "          const docLinkHtml = 'Like what you see? Visit the ' +\n",
              "            '<a target=\"_blank\" href=https://colab.research.google.com/notebooks/data_table.ipynb>data table notebook</a>'\n",
              "            + ' to learn more about interactive tables.';\n",
              "          element.innerHTML = '';\n",
              "          dataTable['output_type'] = 'display_data';\n",
              "          await google.colab.output.renderOutput(dataTable, element);\n",
              "          const docLink = document.createElement('div');\n",
              "          docLink.innerHTML = docLinkHtml;\n",
              "          element.appendChild(docLink);\n",
              "        }\n",
              "      </script>\n",
              "    </div>\n",
              "  </div>\n",
              "  "
            ]
          },
          "metadata": {},
          "execution_count": 80
        }
      ],
      "source": [
        "feature_matrix2.head()"
      ]
    },
    {
      "cell_type": "markdown",
      "metadata": {
        "id": "ykeNx2tke7mV"
      },
      "source": [
        "**Build the new models more transform features**"
      ]
    },
    {
      "cell_type": "code",
      "execution_count": null,
      "metadata": {
        "ExecuteTime": {
          "end_time": "2021-07-15T12:55:38.459145Z",
          "start_time": "2021-07-15T12:55:32.592515Z"
        },
        "id": "fe_jCKRwe7mV"
      },
      "outputs": [],
      "source": [
        "# Separates the whole feature matrix into train data feature matrix,train data labels, and test data feature matrix \n",
        "X_train2, y_train2, X_test2, y_test2 = get_train_test_fm(feature_matrix2,.75)\n",
        "y_train2 = np.sqrt(y_train2)\n",
        "y_test2 = np.sqrt(y_test2)"
      ]
    },
    {
      "cell_type": "markdown",
      "metadata": {
        "id": "Rxm6opsXe7mV"
      },
      "source": [
        "### **Question 5.3 Building Linear regression using more transform primitive**"
      ]
    },
    {
      "cell_type": "code",
      "execution_count": null,
      "metadata": {
        "id": "BZLE63mre7mV",
        "colab": {
          "base_uri": "https://localhost:8080/"
        },
        "outputId": "1aa205e8-7ede-4ddb-80a4-3bcfad5d577e"
      },
      "outputs": [
        {
          "output_type": "execute_result",
          "data": {
            "text/plain": [
              "LinearRegression()"
            ]
          },
          "metadata": {},
          "execution_count": 82
        }
      ],
      "source": [
        "# Remove _________ and complete the code\n",
        "\n",
        "# Defining the model\n",
        "lr2=LinearRegression()\n",
        "\n",
        "# Fitting the model\n",
        "lr2.fit(X_train2,y_train2)"
      ]
    },
    {
      "cell_type": "markdown",
      "metadata": {
        "id": "s8f8HGP3e7mV"
      },
      "source": [
        "#### **Check the performance of the model**"
      ]
    },
    {
      "cell_type": "code",
      "execution_count": null,
      "metadata": {
        "id": "HrDJpQ9ke7mV",
        "colab": {
          "base_uri": "https://localhost:8080/"
        },
        "outputId": "be71c58d-3909-4fac-8eb1-ed5f10515a7d"
      },
      "outputs": [
        {
          "output_type": "stream",
          "name": "stdout",
          "text": [
            "    Data  RSquared      RMSE       MAE\n",
            "0  Train  0.579444  6.107977  4.713541\n",
            "1   Test  0.561891  6.513906  5.028160\n"
          ]
        }
      ],
      "source": [
        "# Remove _________ and complete the code\n",
        "model_pref(lr2, X_train2, X_test2, y_train2,y_test2)  "
      ]
    },
    {
      "cell_type": "markdown",
      "metadata": {
        "id": "VqRIZ69Ue7mV"
      },
      "source": [
        "**Model is giving 0.561891 Rsquared, with RSME of 6.513906 and MAE of ~5,02816.\n",
        "Model performance has not improved much from the last model by adding more transform primitives\n",
        "Model is not overfitting, and giving generalized results.**"
      ]
    },
    {
      "cell_type": "markdown",
      "metadata": {
        "id": "3fq862XIe7mW"
      },
      "source": [
        "### **Question 5.4 Building Decision tree using more transform primitive**"
      ]
    },
    {
      "cell_type": "code",
      "execution_count": null,
      "metadata": {
        "id": "1TECHO8Oe7mW",
        "colab": {
          "base_uri": "https://localhost:8080/"
        },
        "outputId": "d5a1f772-ee8c-4c74-ad2f-e4dfd8848128"
      },
      "outputs": [
        {
          "output_type": "execute_result",
          "data": {
            "text/plain": [
              "DecisionTreeRegressor()"
            ]
          },
          "metadata": {},
          "execution_count": 84
        }
      ],
      "source": [
        "# Remove _________ and complete the code\n",
        "\n",
        "# Define the model\n",
        "dt2=DecisionTreeRegressor()\n",
        "\n",
        "# Fit the model\n",
        "dt2.fit(X_train2,y_train2)"
      ]
    },
    {
      "cell_type": "markdown",
      "metadata": {
        "id": "NDFGjjsJe7mW"
      },
      "source": [
        "#### **Check the performance of the model**"
      ]
    },
    {
      "cell_type": "code",
      "execution_count": null,
      "metadata": {
        "id": "-F9CDxDNe7mW",
        "colab": {
          "base_uri": "https://localhost:8080/"
        },
        "outputId": "d319b402-2c78-4088-cb99-79338a85930e"
      },
      "outputs": [
        {
          "output_type": "stream",
          "name": "stdout",
          "text": [
            "    Data  RSquared      RMSE       MAE\n",
            "0  Train  0.999997  0.016205  0.000122\n",
            "1   Test  0.650979  5.814014  4.311191\n"
          ]
        }
      ],
      "source": [
        "# Remove _________ and complete the code\n",
        "model_pref(dt2, X_train2, X_test2, y_train2,y_test2)  "
      ]
    },
    {
      "cell_type": "markdown",
      "metadata": {
        "id": "G1DSEV4pe7mW"
      },
      "source": [
        "**The model is overfitting a lot, with train R2 as 0.999997 while test R2 as 0.650979.**"
      ]
    },
    {
      "cell_type": "markdown",
      "metadata": {
        "id": "gI6nFWMUe7mW"
      },
      "source": [
        "### **Question 5.5 Building Pruned Decision tree using more transform primitive**"
      ]
    },
    {
      "cell_type": "code",
      "execution_count": null,
      "metadata": {
        "id": "leMeU-6Ue7mW",
        "colab": {
          "base_uri": "https://localhost:8080/"
        },
        "outputId": "58aebea1-f326-4794-f4cb-d133713fb414"
      },
      "outputs": [
        {
          "output_type": "execute_result",
          "data": {
            "text/plain": [
              "DecisionTreeRegressor(max_depth=7)"
            ]
          },
          "metadata": {},
          "execution_count": 88
        }
      ],
      "source": [
        "# Remove _________ and complete the code\n",
        "# Define the model\n",
        "\n",
        "# Use max_depth=7\n",
        "dt_pruned2=DecisionTreeRegressor(max_depth=7)\n",
        "\n",
        "\n",
        "# Fit the model\n",
        "dt_pruned2.fit(X_train2,y_train2)"
      ]
    },
    {
      "cell_type": "markdown",
      "metadata": {
        "id": "Ih-D5Yuoe7mW"
      },
      "source": [
        "#### **Check the performance of the model**"
      ]
    },
    {
      "cell_type": "code",
      "execution_count": null,
      "metadata": {
        "id": "TdqYsluAe7mX",
        "colab": {
          "base_uri": "https://localhost:8080/"
        },
        "outputId": "a30b1cc9-33e9-4970-84e5-ad40903d6506"
      },
      "outputs": [
        {
          "output_type": "stream",
          "name": "stdout",
          "text": [
            "    Data  RSquared      RMSE      MAE\n",
            "0  Train  0.765421  4.561732  3.44101\n",
            "1   Test  0.742610  4.992821  3.71947\n"
          ]
        }
      ],
      "source": [
        "# Remove _________ and complete the code\n",
        "model_pref(dt_pruned2, X_train2, X_test2, y_train2,y_test2)  "
      ]
    },
    {
      "cell_type": "markdown",
      "metadata": {
        "id": "ZQ1cHZupe7mX"
      },
      "source": [
        "**Model is giving 0.742610 Rsquared, with RSME of 4.992821 and MAE of ~3.71947.\n",
        "Model performance has improved by adding more transform features.\n",
        "Model is slightly overfitting.**"
      ]
    },
    {
      "cell_type": "markdown",
      "metadata": {
        "id": "WF7J_3Jqe7mX"
      },
      "source": [
        "### **Question 5.6 Building Random Forest using more transform primitive**"
      ]
    },
    {
      "cell_type": "code",
      "execution_count": null,
      "metadata": {
        "id": "8J7ig2fne7mX",
        "colab": {
          "base_uri": "https://localhost:8080/"
        },
        "outputId": "5050c810-ffa3-4380-f71b-f59d83484c44"
      },
      "outputs": [
        {
          "output_type": "execute_result",
          "data": {
            "text/plain": [
              "RandomForestRegressor(max_depth=7, n_estimators=60)"
            ]
          },
          "metadata": {},
          "execution_count": 92
        }
      ],
      "source": [
        "# Fit the model\n",
        "\n",
        "# Remove _________ and complete the code\n",
        "# Using (n_estimators=60,max_depth=7)\n",
        "\n",
        "rf2=RandomForestRegressor(n_estimators=60,max_depth=7)\n",
        "\n",
        "# Fit the model\n",
        "\n",
        "# Remove _________ and complete the code\n",
        "rf2.fit(X_train2,y_train2)"
      ]
    },
    {
      "cell_type": "markdown",
      "metadata": {
        "id": "ccIh35W6e7mX"
      },
      "source": [
        "#### **Check the performance of the model**"
      ]
    },
    {
      "cell_type": "code",
      "execution_count": null,
      "metadata": {
        "id": "ozjTb4age7mX",
        "colab": {
          "base_uri": "https://localhost:8080/"
        },
        "outputId": "7feae8c0-f0fe-4014-f52a-ce61156afb9c"
      },
      "outputs": [
        {
          "output_type": "stream",
          "name": "stdout",
          "text": [
            "    Data  RSquared      RMSE       MAE\n",
            "0  Train  0.773344  4.484031  3.375663\n",
            "1   Test  0.750402  4.916668  3.653597\n"
          ]
        }
      ],
      "source": [
        "# Remove _________ and complete the code\n",
        "model_pref(rf2, X_train2, X_test2, y_train2,y_test2)  "
      ]
    },
    {
      "cell_type": "markdown",
      "metadata": {
        "id": "vgqQNj_Ee7mX"
      },
      "source": [
        "**The score for the model with more transform primitive is ~75%.\n",
        "As compared to previous model, the score has improved significantly.**\n"
      ]
    },
    {
      "cell_type": "markdown",
      "metadata": {
        "id": "fD4U0Duze7mY"
      },
      "source": [
        "### **Question: 5.7 Comment on how the modeling accuracy differs when including more transform features.**"
      ]
    },
    {
      "cell_type": "markdown",
      "metadata": {
        "id": "ybgx3HVwe7mY"
      },
      "source": [
        "**The models perfomance increased after pruning the decision tree and increased even more with the random forest model but also was not very significant**"
      ]
    },
    {
      "cell_type": "markdown",
      "metadata": {
        "id": "ynj1WIGDe7mY"
      },
      "source": [
        "### **Step 5: Add Aggregation Primitives**\n",
        "\n",
        "Now let's add aggregation primitives. These primitives will generate features for the parent entities ``pickup_neighborhoods``, and ``dropoff_neighborhood`` and then add them to the trips entity, which is the entity for which we are trying to make prediction."
      ]
    },
    {
      "cell_type": "markdown",
      "metadata": {
        "id": "oAAh7fO5e7mY"
      },
      "source": [
        "## **Question 6: Create a Models with transform and aggregate primitive.**\n"
      ]
    },
    {
      "cell_type": "markdown",
      "source": [
        "###**6.1 Define more transform and aggregate primitive and define features using dfs?**"
      ],
      "metadata": {
        "id": "ammosZyA688b"
      }
    },
    {
      "cell_type": "code",
      "execution_count": null,
      "metadata": {
        "ExecuteTime": {
          "end_time": "2021-07-15T12:59:43.977607Z",
          "start_time": "2021-07-15T12:59:41.353328Z"
        },
        "id": "S1a1vy8Me7mY"
      },
      "outputs": [],
      "source": [
        "#Remove _________ and complete the code\n",
        "\n",
        "trans_primitives = [Minute, Hour, Day, Month, Weekday, IsWeekend]\n",
        "aggregation_primitives = [Count, Sum, Mean, Median, Std, Max, Min]\n",
        "\n",
        "features = ft.dfs(entities=entities,\n",
        "                  relationships=relationships,\n",
        "                  target_entity=\"trips\",\n",
        "                  trans_primitives=trans_primitives,\n",
        "                  agg_primitives=aggregation_primitives,\n",
        "                  ignore_variables={\"trips\": [\"pickup_latitude\", \"pickup_longitude\",\n",
        "                                              \"dropoff_latitude\", \"dropoff_longitude\"]},\n",
        "                  features_only=True)"
      ]
    },
    {
      "cell_type": "code",
      "execution_count": null,
      "metadata": {
        "ExecuteTime": {
          "end_time": "2021-07-15T12:59:45.888070Z",
          "start_time": "2021-07-15T12:59:45.782499Z"
        },
        "scrolled": false,
        "id": "Y7joT4X-e7mY",
        "colab": {
          "base_uri": "https://localhost:8080/"
        },
        "outputId": "e21acdbc-322a-4c75-8e52-caf8e994785e"
      },
      "outputs": [
        {
          "output_type": "stream",
          "name": "stdout",
          "text": [
            "Number of features: 55\n"
          ]
        },
        {
          "output_type": "execute_result",
          "data": {
            "text/plain": [
              "[<Feature: vendor_id>,\n",
              " <Feature: passenger_count>,\n",
              " <Feature: trip_distance>,\n",
              " <Feature: payment_type>,\n",
              " <Feature: trip_duration>,\n",
              " <Feature: pickup_neighborhood>,\n",
              " <Feature: dropoff_neighborhood>,\n",
              " <Feature: DAY(pickup_datetime)>,\n",
              " <Feature: HOUR(pickup_datetime)>,\n",
              " <Feature: IS_WEEKEND(pickup_datetime)>,\n",
              " <Feature: MINUTE(pickup_datetime)>,\n",
              " <Feature: MONTH(pickup_datetime)>,\n",
              " <Feature: WEEKDAY(pickup_datetime)>,\n",
              " <Feature: pickup_neighborhoods.latitude>,\n",
              " <Feature: pickup_neighborhoods.longitude>,\n",
              " <Feature: dropoff_neighborhoods.latitude>,\n",
              " <Feature: dropoff_neighborhoods.longitude>,\n",
              " <Feature: pickup_neighborhoods.COUNT(trips)>,\n",
              " <Feature: pickup_neighborhoods.MAX(trips.passenger_count)>,\n",
              " <Feature: pickup_neighborhoods.MAX(trips.trip_distance)>,\n",
              " <Feature: pickup_neighborhoods.MAX(trips.trip_duration)>,\n",
              " <Feature: pickup_neighborhoods.MEAN(trips.passenger_count)>,\n",
              " <Feature: pickup_neighborhoods.MEAN(trips.trip_distance)>,\n",
              " <Feature: pickup_neighborhoods.MEAN(trips.trip_duration)>,\n",
              " <Feature: pickup_neighborhoods.MEDIAN(trips.passenger_count)>,\n",
              " <Feature: pickup_neighborhoods.MEDIAN(trips.trip_distance)>,\n",
              " <Feature: pickup_neighborhoods.MEDIAN(trips.trip_duration)>,\n",
              " <Feature: pickup_neighborhoods.MIN(trips.passenger_count)>,\n",
              " <Feature: pickup_neighborhoods.MIN(trips.trip_distance)>,\n",
              " <Feature: pickup_neighborhoods.MIN(trips.trip_duration)>,\n",
              " <Feature: pickup_neighborhoods.STD(trips.passenger_count)>,\n",
              " <Feature: pickup_neighborhoods.STD(trips.trip_distance)>,\n",
              " <Feature: pickup_neighborhoods.STD(trips.trip_duration)>,\n",
              " <Feature: pickup_neighborhoods.SUM(trips.passenger_count)>,\n",
              " <Feature: pickup_neighborhoods.SUM(trips.trip_distance)>,\n",
              " <Feature: pickup_neighborhoods.SUM(trips.trip_duration)>,\n",
              " <Feature: dropoff_neighborhoods.COUNT(trips)>,\n",
              " <Feature: dropoff_neighborhoods.MAX(trips.passenger_count)>,\n",
              " <Feature: dropoff_neighborhoods.MAX(trips.trip_distance)>,\n",
              " <Feature: dropoff_neighborhoods.MAX(trips.trip_duration)>,\n",
              " <Feature: dropoff_neighborhoods.MEAN(trips.passenger_count)>,\n",
              " <Feature: dropoff_neighborhoods.MEAN(trips.trip_distance)>,\n",
              " <Feature: dropoff_neighborhoods.MEAN(trips.trip_duration)>,\n",
              " <Feature: dropoff_neighborhoods.MEDIAN(trips.passenger_count)>,\n",
              " <Feature: dropoff_neighborhoods.MEDIAN(trips.trip_distance)>,\n",
              " <Feature: dropoff_neighborhoods.MEDIAN(trips.trip_duration)>,\n",
              " <Feature: dropoff_neighborhoods.MIN(trips.passenger_count)>,\n",
              " <Feature: dropoff_neighborhoods.MIN(trips.trip_distance)>,\n",
              " <Feature: dropoff_neighborhoods.MIN(trips.trip_duration)>,\n",
              " <Feature: dropoff_neighborhoods.STD(trips.passenger_count)>,\n",
              " <Feature: dropoff_neighborhoods.STD(trips.trip_distance)>,\n",
              " <Feature: dropoff_neighborhoods.STD(trips.trip_duration)>,\n",
              " <Feature: dropoff_neighborhoods.SUM(trips.passenger_count)>,\n",
              " <Feature: dropoff_neighborhoods.SUM(trips.trip_distance)>,\n",
              " <Feature: dropoff_neighborhoods.SUM(trips.trip_duration)>]"
            ]
          },
          "metadata": {},
          "execution_count": 95
        }
      ],
      "source": [
        "print (\"Number of features: %d\" % len(features))\n",
        "features"
      ]
    },
    {
      "cell_type": "markdown",
      "metadata": {
        "id": "Uhv0Znrge7mY"
      },
      "source": [
        "### **Question: 6.2 Compute features and define feature matrix**"
      ]
    },
    {
      "cell_type": "code",
      "execution_count": null,
      "metadata": {
        "ExecuteTime": {
          "end_time": "2021-07-09T11:13:54.617340Z",
          "start_time": "2021-07-09T11:13:28.226824Z"
        },
        "id": "OvsxI2p9e7mY",
        "colab": {
          "base_uri": "https://localhost:8080/"
        },
        "outputId": "712a7753-e9ae-4831-f2da-8097da7a2fbb"
      },
      "outputs": [
        {
          "output_type": "stream",
          "name": "stdout",
          "text": [
            "Elapsed: 00:26 | Progress: 100%|██████████\n",
            "Finishing computing...\n"
          ]
        }
      ],
      "source": [
        "# Remove _________ and complete the code\n",
        "feature_matrix3 = compute_features(features, cutoff_time)"
      ]
    },
    {
      "cell_type": "code",
      "execution_count": null,
      "metadata": {
        "ExecuteTime": {
          "end_time": "2021-07-09T11:14:02.858716Z",
          "start_time": "2021-07-09T11:14:02.439924Z"
        },
        "id": "mEZcg7qje7mY",
        "colab": {
          "base_uri": "https://localhost:8080/",
          "height": 348
        },
        "outputId": "8946d642-ec97-40b2-8226-a0fc22223477"
      },
      "outputs": [
        {
          "output_type": "execute_result",
          "data": {
            "text/plain": [
              "      vendor_id  dropoff_neighborhoods.latitude  MINUTE(pickup_datetime)  \\\n",
              "id                                                                         \n",
              "56311         2                       40.721435                        0   \n",
              "56312         2                       40.715828                        2   \n",
              "56313         1                       40.818445                        2   \n",
              "56314         2                       40.742531                        2   \n",
              "56315         2                       40.818445                        3   \n",
              "\n",
              "       pickup_neighborhoods.COUNT(trips)  \\\n",
              "id                                         \n",
              "56311                               1298   \n",
              "56312                               1250   \n",
              "56313                                218   \n",
              "56314                               1703   \n",
              "56315                               1176   \n",
              "\n",
              "       pickup_neighborhoods.STD(trips.passenger_count)  \\\n",
              "id                                                       \n",
              "56311                                         1.329779   \n",
              "56312                                         1.404130   \n",
              "56313                                         1.427662   \n",
              "56314                                         1.301846   \n",
              "56315                                         1.270603   \n",
              "\n",
              "       dropoff_neighborhoods.MEAN(trips.passenger_count)  \\\n",
              "id                                                         \n",
              "56311                                           1.712529   \n",
              "56312                                           1.720805   \n",
              "56313                                           1.734893   \n",
              "56314                                           1.720112   \n",
              "56315                                           1.734893   \n",
              "\n",
              "       pickup_neighborhoods.MEAN(trips.trip_distance)  \\\n",
              "id                                                      \n",
              "56311                                        3.008243   \n",
              "56312                                       15.574504   \n",
              "56313                                        2.868716   \n",
              "56314                                        2.285250   \n",
              "56315                                        2.147041   \n",
              "\n",
              "       pickup_neighborhoods.SUM(trips.trip_distance)  \\\n",
              "id                                                     \n",
              "56311                                        3904.70   \n",
              "56312                                       19468.13   \n",
              "56313                                         625.38   \n",
              "56314                                        3891.78   \n",
              "56315                                        2524.92   \n",
              "\n",
              "       dropoff_neighborhood = AD  dropoff_neighborhood = A  ...  \\\n",
              "id                                                          ...   \n",
              "56311                      False                     False  ...   \n",
              "56312                      False                     False  ...   \n",
              "56313                      False                     False  ...   \n",
              "56314                      False                     False  ...   \n",
              "56315                      False                     False  ...   \n",
              "\n",
              "       dropoff_neighborhoods.longitude  \\\n",
              "id                                       \n",
              "56311                       -73.998366   \n",
              "56312                       -73.954298   \n",
              "56313                       -73.948046   \n",
              "56314                       -73.977943   \n",
              "56315                       -73.948046   \n",
              "\n",
              "       pickup_neighborhoods.SUM(trips.trip_duration)  \\\n",
              "id                                                     \n",
              "56311                                       965650.0   \n",
              "56312                                      2581191.0   \n",
              "56313                                       146585.0   \n",
              "56314                                      1156824.0   \n",
              "56315                                       721542.0   \n",
              "\n",
              "       dropoff_neighborhoods.STD(trips.passenger_count)  \\\n",
              "id                                                        \n",
              "56311                                          1.303984   \n",
              "56312                                          1.335982   \n",
              "56313                                          1.289944   \n",
              "56314                                          1.375904   \n",
              "56315                                          1.289944   \n",
              "\n",
              "       dropoff_neighborhoods.MEAN(trips.trip_distance)  \\\n",
              "id                                                       \n",
              "56311                                         2.603805   \n",
              "56312                                         4.907919   \n",
              "56313                                         4.865322   \n",
              "56314                                         2.019067   \n",
              "56315                                         4.865322   \n",
              "\n",
              "       dropoff_neighborhoods.MAX(trips.passenger_count)  payment_type  \\\n",
              "id                                                                      \n",
              "56311                                                 6             1   \n",
              "56312                                                 6             2   \n",
              "56313                                                 6             1   \n",
              "56314                                                 6             2   \n",
              "56315                                                 6             1   \n",
              "\n",
              "       pickup_neighborhoods.MEAN(trips.trip_duration)  \\\n",
              "id                                                      \n",
              "56311                                      743.952234   \n",
              "56312                                     2064.952800   \n",
              "56313                                      672.408257   \n",
              "56314                                      679.285966   \n",
              "56315                                      613.556122   \n",
              "\n",
              "       dropoff_neighborhoods.MIN(trips.trip_distance)  \\\n",
              "id                                                      \n",
              "56311                                            0.05   \n",
              "56312                                            0.18   \n",
              "56313                                            0.02   \n",
              "56314                                            0.01   \n",
              "56315                                            0.02   \n",
              "\n",
              "       pickup_neighborhoods.MEDIAN(trips.passenger_count)  \\\n",
              "id                                                          \n",
              "56311                                                1.0    \n",
              "56312                                                1.0    \n",
              "56313                                                1.0    \n",
              "56314                                                1.0    \n",
              "56315                                                1.0    \n",
              "\n",
              "       dropoff_neighborhoods.MEAN(trips.trip_duration)  \n",
              "id                                                      \n",
              "56311                                       776.627978  \n",
              "56312                                      1036.722148  \n",
              "56313                                       933.914230  \n",
              "56314                                       570.183240  \n",
              "56315                                       933.914230  \n",
              "\n",
              "[5 rows x 73 columns]"
            ],
            "text/html": [
              "\n",
              "  <div id=\"df-d2d20f7c-7146-4132-aca0-c89940c4bc0b\">\n",
              "    <div class=\"colab-df-container\">\n",
              "      <div>\n",
              "<style scoped>\n",
              "    .dataframe tbody tr th:only-of-type {\n",
              "        vertical-align: middle;\n",
              "    }\n",
              "\n",
              "    .dataframe tbody tr th {\n",
              "        vertical-align: top;\n",
              "    }\n",
              "\n",
              "    .dataframe thead th {\n",
              "        text-align: right;\n",
              "    }\n",
              "</style>\n",
              "<table border=\"1\" class=\"dataframe\">\n",
              "  <thead>\n",
              "    <tr style=\"text-align: right;\">\n",
              "      <th></th>\n",
              "      <th>vendor_id</th>\n",
              "      <th>dropoff_neighborhoods.latitude</th>\n",
              "      <th>MINUTE(pickup_datetime)</th>\n",
              "      <th>pickup_neighborhoods.COUNT(trips)</th>\n",
              "      <th>pickup_neighborhoods.STD(trips.passenger_count)</th>\n",
              "      <th>dropoff_neighborhoods.MEAN(trips.passenger_count)</th>\n",
              "      <th>pickup_neighborhoods.MEAN(trips.trip_distance)</th>\n",
              "      <th>pickup_neighborhoods.SUM(trips.trip_distance)</th>\n",
              "      <th>dropoff_neighborhood = AD</th>\n",
              "      <th>dropoff_neighborhood = A</th>\n",
              "      <th>...</th>\n",
              "      <th>dropoff_neighborhoods.longitude</th>\n",
              "      <th>pickup_neighborhoods.SUM(trips.trip_duration)</th>\n",
              "      <th>dropoff_neighborhoods.STD(trips.passenger_count)</th>\n",
              "      <th>dropoff_neighborhoods.MEAN(trips.trip_distance)</th>\n",
              "      <th>dropoff_neighborhoods.MAX(trips.passenger_count)</th>\n",
              "      <th>payment_type</th>\n",
              "      <th>pickup_neighborhoods.MEAN(trips.trip_duration)</th>\n",
              "      <th>dropoff_neighborhoods.MIN(trips.trip_distance)</th>\n",
              "      <th>pickup_neighborhoods.MEDIAN(trips.passenger_count)</th>\n",
              "      <th>dropoff_neighborhoods.MEAN(trips.trip_duration)</th>\n",
              "    </tr>\n",
              "    <tr>\n",
              "      <th>id</th>\n",
              "      <th></th>\n",
              "      <th></th>\n",
              "      <th></th>\n",
              "      <th></th>\n",
              "      <th></th>\n",
              "      <th></th>\n",
              "      <th></th>\n",
              "      <th></th>\n",
              "      <th></th>\n",
              "      <th></th>\n",
              "      <th></th>\n",
              "      <th></th>\n",
              "      <th></th>\n",
              "      <th></th>\n",
              "      <th></th>\n",
              "      <th></th>\n",
              "      <th></th>\n",
              "      <th></th>\n",
              "      <th></th>\n",
              "      <th></th>\n",
              "      <th></th>\n",
              "    </tr>\n",
              "  </thead>\n",
              "  <tbody>\n",
              "    <tr>\n",
              "      <th>56311</th>\n",
              "      <td>2</td>\n",
              "      <td>40.721435</td>\n",
              "      <td>0</td>\n",
              "      <td>1298</td>\n",
              "      <td>1.329779</td>\n",
              "      <td>1.712529</td>\n",
              "      <td>3.008243</td>\n",
              "      <td>3904.70</td>\n",
              "      <td>False</td>\n",
              "      <td>False</td>\n",
              "      <td>...</td>\n",
              "      <td>-73.998366</td>\n",
              "      <td>965650.0</td>\n",
              "      <td>1.303984</td>\n",
              "      <td>2.603805</td>\n",
              "      <td>6</td>\n",
              "      <td>1</td>\n",
              "      <td>743.952234</td>\n",
              "      <td>0.05</td>\n",
              "      <td>1.0</td>\n",
              "      <td>776.627978</td>\n",
              "    </tr>\n",
              "    <tr>\n",
              "      <th>56312</th>\n",
              "      <td>2</td>\n",
              "      <td>40.715828</td>\n",
              "      <td>2</td>\n",
              "      <td>1250</td>\n",
              "      <td>1.404130</td>\n",
              "      <td>1.720805</td>\n",
              "      <td>15.574504</td>\n",
              "      <td>19468.13</td>\n",
              "      <td>False</td>\n",
              "      <td>False</td>\n",
              "      <td>...</td>\n",
              "      <td>-73.954298</td>\n",
              "      <td>2581191.0</td>\n",
              "      <td>1.335982</td>\n",
              "      <td>4.907919</td>\n",
              "      <td>6</td>\n",
              "      <td>2</td>\n",
              "      <td>2064.952800</td>\n",
              "      <td>0.18</td>\n",
              "      <td>1.0</td>\n",
              "      <td>1036.722148</td>\n",
              "    </tr>\n",
              "    <tr>\n",
              "      <th>56313</th>\n",
              "      <td>1</td>\n",
              "      <td>40.818445</td>\n",
              "      <td>2</td>\n",
              "      <td>218</td>\n",
              "      <td>1.427662</td>\n",
              "      <td>1.734893</td>\n",
              "      <td>2.868716</td>\n",
              "      <td>625.38</td>\n",
              "      <td>False</td>\n",
              "      <td>False</td>\n",
              "      <td>...</td>\n",
              "      <td>-73.948046</td>\n",
              "      <td>146585.0</td>\n",
              "      <td>1.289944</td>\n",
              "      <td>4.865322</td>\n",
              "      <td>6</td>\n",
              "      <td>1</td>\n",
              "      <td>672.408257</td>\n",
              "      <td>0.02</td>\n",
              "      <td>1.0</td>\n",
              "      <td>933.914230</td>\n",
              "    </tr>\n",
              "    <tr>\n",
              "      <th>56314</th>\n",
              "      <td>2</td>\n",
              "      <td>40.742531</td>\n",
              "      <td>2</td>\n",
              "      <td>1703</td>\n",
              "      <td>1.301846</td>\n",
              "      <td>1.720112</td>\n",
              "      <td>2.285250</td>\n",
              "      <td>3891.78</td>\n",
              "      <td>False</td>\n",
              "      <td>False</td>\n",
              "      <td>...</td>\n",
              "      <td>-73.977943</td>\n",
              "      <td>1156824.0</td>\n",
              "      <td>1.375904</td>\n",
              "      <td>2.019067</td>\n",
              "      <td>6</td>\n",
              "      <td>2</td>\n",
              "      <td>679.285966</td>\n",
              "      <td>0.01</td>\n",
              "      <td>1.0</td>\n",
              "      <td>570.183240</td>\n",
              "    </tr>\n",
              "    <tr>\n",
              "      <th>56315</th>\n",
              "      <td>2</td>\n",
              "      <td>40.818445</td>\n",
              "      <td>3</td>\n",
              "      <td>1176</td>\n",
              "      <td>1.270603</td>\n",
              "      <td>1.734893</td>\n",
              "      <td>2.147041</td>\n",
              "      <td>2524.92</td>\n",
              "      <td>False</td>\n",
              "      <td>False</td>\n",
              "      <td>...</td>\n",
              "      <td>-73.948046</td>\n",
              "      <td>721542.0</td>\n",
              "      <td>1.289944</td>\n",
              "      <td>4.865322</td>\n",
              "      <td>6</td>\n",
              "      <td>1</td>\n",
              "      <td>613.556122</td>\n",
              "      <td>0.02</td>\n",
              "      <td>1.0</td>\n",
              "      <td>933.914230</td>\n",
              "    </tr>\n",
              "  </tbody>\n",
              "</table>\n",
              "<p>5 rows × 73 columns</p>\n",
              "</div>\n",
              "      <button class=\"colab-df-convert\" onclick=\"convertToInteractive('df-d2d20f7c-7146-4132-aca0-c89940c4bc0b')\"\n",
              "              title=\"Convert this dataframe to an interactive table.\"\n",
              "              style=\"display:none;\">\n",
              "        \n",
              "  <svg xmlns=\"http://www.w3.org/2000/svg\" height=\"24px\"viewBox=\"0 0 24 24\"\n",
              "       width=\"24px\">\n",
              "    <path d=\"M0 0h24v24H0V0z\" fill=\"none\"/>\n",
              "    <path d=\"M18.56 5.44l.94 2.06.94-2.06 2.06-.94-2.06-.94-.94-2.06-.94 2.06-2.06.94zm-11 1L8.5 8.5l.94-2.06 2.06-.94-2.06-.94L8.5 2.5l-.94 2.06-2.06.94zm10 10l.94 2.06.94-2.06 2.06-.94-2.06-.94-.94-2.06-.94 2.06-2.06.94z\"/><path d=\"M17.41 7.96l-1.37-1.37c-.4-.4-.92-.59-1.43-.59-.52 0-1.04.2-1.43.59L10.3 9.45l-7.72 7.72c-.78.78-.78 2.05 0 2.83L4 21.41c.39.39.9.59 1.41.59.51 0 1.02-.2 1.41-.59l7.78-7.78 2.81-2.81c.8-.78.8-2.07 0-2.86zM5.41 20L4 18.59l7.72-7.72 1.47 1.35L5.41 20z\"/>\n",
              "  </svg>\n",
              "      </button>\n",
              "      \n",
              "  <style>\n",
              "    .colab-df-container {\n",
              "      display:flex;\n",
              "      flex-wrap:wrap;\n",
              "      gap: 12px;\n",
              "    }\n",
              "\n",
              "    .colab-df-convert {\n",
              "      background-color: #E8F0FE;\n",
              "      border: none;\n",
              "      border-radius: 50%;\n",
              "      cursor: pointer;\n",
              "      display: none;\n",
              "      fill: #1967D2;\n",
              "      height: 32px;\n",
              "      padding: 0 0 0 0;\n",
              "      width: 32px;\n",
              "    }\n",
              "\n",
              "    .colab-df-convert:hover {\n",
              "      background-color: #E2EBFA;\n",
              "      box-shadow: 0px 1px 2px rgba(60, 64, 67, 0.3), 0px 1px 3px 1px rgba(60, 64, 67, 0.15);\n",
              "      fill: #174EA6;\n",
              "    }\n",
              "\n",
              "    [theme=dark] .colab-df-convert {\n",
              "      background-color: #3B4455;\n",
              "      fill: #D2E3FC;\n",
              "    }\n",
              "\n",
              "    [theme=dark] .colab-df-convert:hover {\n",
              "      background-color: #434B5C;\n",
              "      box-shadow: 0px 1px 3px 1px rgba(0, 0, 0, 0.15);\n",
              "      filter: drop-shadow(0px 1px 2px rgba(0, 0, 0, 0.3));\n",
              "      fill: #FFFFFF;\n",
              "    }\n",
              "  </style>\n",
              "\n",
              "      <script>\n",
              "        const buttonEl =\n",
              "          document.querySelector('#df-d2d20f7c-7146-4132-aca0-c89940c4bc0b button.colab-df-convert');\n",
              "        buttonEl.style.display =\n",
              "          google.colab.kernel.accessAllowed ? 'block' : 'none';\n",
              "\n",
              "        async function convertToInteractive(key) {\n",
              "          const element = document.querySelector('#df-d2d20f7c-7146-4132-aca0-c89940c4bc0b');\n",
              "          const dataTable =\n",
              "            await google.colab.kernel.invokeFunction('convertToInteractive',\n",
              "                                                     [key], {});\n",
              "          if (!dataTable) return;\n",
              "\n",
              "          const docLinkHtml = 'Like what you see? Visit the ' +\n",
              "            '<a target=\"_blank\" href=https://colab.research.google.com/notebooks/data_table.ipynb>data table notebook</a>'\n",
              "            + ' to learn more about interactive tables.';\n",
              "          element.innerHTML = '';\n",
              "          dataTable['output_type'] = 'display_data';\n",
              "          await google.colab.output.renderOutput(dataTable, element);\n",
              "          const docLink = document.createElement('div');\n",
              "          docLink.innerHTML = docLinkHtml;\n",
              "          element.appendChild(docLink);\n",
              "        }\n",
              "      </script>\n",
              "    </div>\n",
              "  </div>\n",
              "  "
            ]
          },
          "metadata": {},
          "execution_count": 97
        }
      ],
      "source": [
        "feature_matrix3.head()"
      ]
    },
    {
      "cell_type": "markdown",
      "metadata": {
        "id": "0afrNeNNe7mZ"
      },
      "source": [
        "**Build the new models more transform and aggregate features**"
      ]
    },
    {
      "cell_type": "code",
      "execution_count": null,
      "metadata": {
        "ExecuteTime": {
          "end_time": "2021-07-09T11:14:41.627956Z",
          "start_time": "2021-07-09T11:14:07.052570Z"
        },
        "id": "UcgyBZt6e7mZ"
      },
      "outputs": [],
      "source": [
        "# Separates the whole feature matrix into train data feature matrix,train data labels, and test data feature matrix \n",
        "X_train3, y_train3, X_test3, y_test3 = get_train_test_fm(feature_matrix3,.75)\n",
        "y_train3 = np.sqrt(y_train3)\n",
        "y_test3 = np.sqrt(y_test3)"
      ]
    },
    {
      "cell_type": "markdown",
      "metadata": {
        "id": "XtM-JGGFe7mZ"
      },
      "source": [
        "### **Question 6.3 Building  Linear regression model with transform and aggregate primitive.**"
      ]
    },
    {
      "cell_type": "code",
      "execution_count": null,
      "metadata": {
        "id": "06HEmSFae7mZ",
        "colab": {
          "base_uri": "https://localhost:8080/"
        },
        "outputId": "074075b8-f7a0-4bcf-bd9d-f64261767e72"
      },
      "outputs": [
        {
          "output_type": "execute_result",
          "data": {
            "text/plain": [
              "LinearRegression()"
            ]
          },
          "metadata": {},
          "execution_count": 99
        }
      ],
      "source": [
        "# Remove _________ and complete the code\n",
        "\n",
        "# Defining the model\n",
        "lr3=LinearRegression()\n",
        "\n",
        "# Fitting the model\n",
        "lr3.fit(X_train3,y_train3)"
      ]
    },
    {
      "cell_type": "markdown",
      "metadata": {
        "id": "b4PZhtmVe7mZ"
      },
      "source": [
        "#### **Check the performance of the model**"
      ]
    },
    {
      "cell_type": "code",
      "execution_count": null,
      "metadata": {
        "id": "o8Qg-7wse7mZ",
        "colab": {
          "base_uri": "https://localhost:8080/"
        },
        "outputId": "06434c0c-5315-42e5-8bd6-8b04d398bc14"
      },
      "outputs": [
        {
          "output_type": "stream",
          "name": "stdout",
          "text": [
            "    Data  RSquared      RMSE       MAE\n",
            "0  Train  0.603281  5.932350  4.544150\n",
            "1   Test  0.572701  6.433043  4.924707\n"
          ]
        }
      ],
      "source": [
        "#Remove _________ and complete the code\n",
        "model_pref(lr3, X_train3, X_test3,y_train3,y_test3)  "
      ]
    },
    {
      "cell_type": "markdown",
      "metadata": {
        "id": "DlRMdBYde7ma"
      },
      "source": [
        "**Model is giving only 0.57 Rsquared, with RSME of 6.43 and MAE of ~5.\n",
        "Model is not overfitting, and giving generalized results.**"
      ]
    },
    {
      "cell_type": "markdown",
      "metadata": {
        "id": "PH_G7hUAe7ma"
      },
      "source": [
        "### **Question 6.4 Building  Decision tree with transform and aggregate primitive.**"
      ]
    },
    {
      "cell_type": "code",
      "execution_count": null,
      "metadata": {
        "id": "ttvA8pwfe7ma",
        "colab": {
          "base_uri": "https://localhost:8080/"
        },
        "outputId": "1c5d3094-38bd-42ac-ed10-04164b2ce11d"
      },
      "outputs": [
        {
          "output_type": "execute_result",
          "data": {
            "text/plain": [
              "DecisionTreeRegressor()"
            ]
          },
          "metadata": {},
          "execution_count": 101
        }
      ],
      "source": [
        "# Remove _________ and complete the code\n",
        "\n",
        "# Define the model\n",
        "dt3=DecisionTreeRegressor()\n",
        "\n",
        "# Fit the model\n",
        "\n",
        "dt3.fit(X_train3,y_train3)"
      ]
    },
    {
      "cell_type": "markdown",
      "metadata": {
        "id": "6H03hde6e7ma"
      },
      "source": [
        "#### **Check the performance of the model**"
      ]
    },
    {
      "cell_type": "code",
      "execution_count": null,
      "metadata": {
        "id": "JPVONnj5e7ma",
        "colab": {
          "base_uri": "https://localhost:8080/"
        },
        "outputId": "e3533489-094b-4224-bd6b-681e1ead715c"
      },
      "outputs": [
        {
          "output_type": "stream",
          "name": "stdout",
          "text": [
            "    Data  RSquared      RMSE       MAE\n",
            "0  Train  0.999997  0.016205  0.000122\n",
            "1   Test  0.608219  6.159876  4.533089\n"
          ]
        }
      ],
      "source": [
        "# Remove _________ and complete the code\n",
        "model_pref(dt3, X_train3, X_test3,y_train3,y_test3)  "
      ]
    },
    {
      "cell_type": "markdown",
      "metadata": {
        "id": "UJkM4HYDe7ma"
      },
      "source": [
        "**The model is overfitting a lot, with train R2 as ~1 while test R2 as ~0.6\n",
        "**"
      ]
    },
    {
      "cell_type": "markdown",
      "metadata": {
        "id": "6zt_JAeEe7ma"
      },
      "source": [
        "### **Question 6.5 Building  Pruned Decision tree with transform and aggregate primitive.**"
      ]
    },
    {
      "cell_type": "code",
      "execution_count": null,
      "metadata": {
        "id": "1FHjusxse7mb",
        "colab": {
          "base_uri": "https://localhost:8080/"
        },
        "outputId": "39786f54-ad30-4724-d34d-e2bfd926aa19"
      },
      "outputs": [
        {
          "output_type": "execute_result",
          "data": {
            "text/plain": [
              "DecisionTreeRegressor(max_depth=7)"
            ]
          },
          "metadata": {},
          "execution_count": 104
        }
      ],
      "source": [
        "# Remove _________ and complete the code\n",
        "# Define the model\n",
        "\n",
        "# Use max_depth=7\n",
        "dt_pruned3=DecisionTreeRegressor(max_depth=7)\n",
        "\n",
        "# Fit the model\n",
        "dt_pruned3.fit(X_train3,y_train3)"
      ]
    },
    {
      "cell_type": "markdown",
      "metadata": {
        "id": "aJaMpwRRe7mb"
      },
      "source": [
        "#### **Check the performance of the model**"
      ]
    },
    {
      "cell_type": "code",
      "execution_count": null,
      "metadata": {
        "id": "cSJ7UuO5e7mb",
        "colab": {
          "base_uri": "https://localhost:8080/"
        },
        "outputId": "1b4c7f22-4082-401a-ac94-49b9b13fb320"
      },
      "outputs": [
        {
          "output_type": "stream",
          "name": "stdout",
          "text": [
            "    Data  RSquared      RMSE       MAE\n",
            "0  Train  0.766537  4.550874  3.434878\n",
            "1   Test  0.742136  4.997417  3.719349\n"
          ]
        }
      ],
      "source": [
        "# Remove _________ and complete the code\n",
        "model_pref(dt_pruned3, X_train3, X_test3,y_train3,y_test3) "
      ]
    },
    {
      "cell_type": "markdown",
      "metadata": {
        "id": "HABgyjYre7mb"
      },
      "source": [
        "**Model is giving ~0.74 Rsquared, with RSME of 4.997 and MAE of ~3.7.\n",
        "The model performance has not improved by adding aggregate primitives.\n",
        "Model is overfitting, and is not giving generalized results.**\n"
      ]
    },
    {
      "cell_type": "markdown",
      "metadata": {
        "id": "WjnDm0zBe7mb"
      },
      "source": [
        "### **Question 6.6 Building  Random Forest with transform and aggregate primitive.**"
      ]
    },
    {
      "cell_type": "code",
      "execution_count": null,
      "metadata": {
        "id": "IsGv4oFFe7mb"
      },
      "outputs": [],
      "source": [
        "# Fit the model\n",
        "\n",
        "# Remove _________ and complete the code\n",
        "# Using (n_estimators=60,max_depth=7)\n",
        "\n",
        "rf3=RandomForestRegressor(n_estimators=60,max_depth=7)\n",
        "\n",
        "# Fit the model\n",
        "\n",
        "# Remove _________ and complete the code\n",
        "rf3.fit(X_train3,y_train3)"
      ]
    },
    {
      "cell_type": "markdown",
      "metadata": {
        "id": "SyjbY3ile7mb"
      },
      "source": [
        "#### **Check the performance of the model**"
      ]
    },
    {
      "cell_type": "code",
      "execution_count": null,
      "metadata": {
        "scrolled": true,
        "id": "4Zd6mGsMe7mb"
      },
      "outputs": [],
      "source": [
        "model_pref(rf3, X_train3, X_test3,y_train3,y_test3)  "
      ]
    },
    {
      "cell_type": "markdown",
      "metadata": {
        "id": "OtIt8r8Xe7mb"
      },
      "source": [
        "**The model Performance has improved by the addition of transform and aggregation features.**\n",
        "\n"
      ]
    },
    {
      "cell_type": "markdown",
      "metadata": {
        "id": "AFrogonqe7mb"
      },
      "source": [
        "### **Question 6.7 How do these aggregate transforms impact performance? How do they impact training time?**"
      ]
    },
    {
      "cell_type": "markdown",
      "metadata": {
        "id": "vWwoOh-Ve7mc"
      },
      "source": [
        "**The modeling score has not improved much after adding aggregate transforms, and also the training time was also increased by a significant amount, implies that adding more features is always not very effective.**"
      ]
    },
    {
      "cell_type": "markdown",
      "metadata": {
        "id": "Ejvwh7w1e7mc"
      },
      "source": [
        "**Based on the above 3 models, we can make predictions using our model2, as it is giving almost same accuracy as model3 and also the training time is not that large as compared to model3**"
      ]
    },
    {
      "cell_type": "code",
      "execution_count": null,
      "metadata": {
        "ExecuteTime": {
          "end_time": "2021-07-09T11:23:07.091360Z",
          "start_time": "2021-07-09T11:23:06.179570Z"
        },
        "scrolled": true,
        "id": "eP9s4JMVe7mc",
        "colab": {
          "base_uri": "https://localhost:8080/"
        },
        "outputId": "2c61a2c4-a7a7-4e0b-f503-c9bb98fa463b"
      },
      "outputs": [
        {
          "output_type": "execute_result",
          "data": {
            "text/plain": [
              "array([ 526.44481156,  218.36465538,  661.68858537, ...,  200.46859531,\n",
              "       1145.31990787, 1781.90637286])"
            ]
          },
          "metadata": {},
          "execution_count": 115
        }
      ],
      "source": [
        "y_pred = rf2.predict(X_test2)\n",
        "y_pred = y_pred**2 # Undo the sqrt we took earlier\n",
        "y_pred[5:]"
      ]
    },
    {
      "cell_type": "markdown",
      "metadata": {
        "id": "UvcBLbfVe7mc"
      },
      "source": [
        "### **Question 7: What are some important features based on `model2` and how can they affect the duration of the rides? **"
      ]
    },
    {
      "cell_type": "code",
      "execution_count": null,
      "metadata": {
        "ExecuteTime": {
          "end_time": "2021-07-09T11:23:15.953274Z",
          "start_time": "2021-07-09T11:23:15.813531Z"
        },
        "scrolled": true,
        "id": "JMKUz4C9e7mc",
        "colab": {
          "base_uri": "https://localhost:8080/"
        },
        "outputId": "f4b3cc37-b07d-4b8f-83f2-d1910498e494"
      },
      "outputs": [
        {
          "output_type": "stream",
          "name": "stdout",
          "text": [
            "1: Feature: trip_distance, 0.913\n",
            "2: Feature: HOUR(pickup_datetime), 0.053\n",
            "3: Feature: dropoff_neighborhoods.latitude, 0.016\n",
            "4: Feature: WEEKDAY(pickup_datetime), 0.005\n",
            "5: Feature: IS_WEEKEND(pickup_datetime), 0.005\n",
            "6: Feature: pickup_neighborhoods.longitude, 0.003\n",
            "7: Feature: vendor_id, 0.003\n",
            "8: Feature: dropoff_neighborhoods.longitude, 0.001\n",
            "9: Feature: MINUTE(pickup_datetime), 0.000\n",
            "10: Feature: payment_type, 0.000\n"
          ]
        }
      ],
      "source": [
        "feature_importances(rf2, feature_matrix2.drop(['trip_duration'],axis=1).columns, n=10)"
      ]
    },
    {
      "cell_type": "markdown",
      "metadata": {
        "id": "h-YKsISge7mc"
      },
      "source": [
        "**Trip_Distance is the most important feature.\n",
        "Features like dropoff_neighborhoods.longitude, pickup_neighborhoods.longitude, dropoff_neighborhoods.latitude,pickup_neighborhoods.latitude signifies that trip duration is impacted by pickup and dropoff locations.**\n"
      ]
    }
  ],
  "metadata": {
    "kernelspec": {
      "display_name": "Python 3 (ipykernel)",
      "language": "python",
      "name": "python3"
    },
    "language_info": {
      "codemirror_mode": {
        "name": "ipython",
        "version": 3
      },
      "file_extension": ".py",
      "mimetype": "text/x-python",
      "name": "python",
      "nbconvert_exporter": "python",
      "pygments_lexer": "ipython3",
      "version": "3.8.12"
    },
    "toc": {
      "base_numbering": 1,
      "nav_menu": {},
      "number_sections": true,
      "sideBar": true,
      "skip_h1_title": false,
      "title_cell": "Table of Contents",
      "title_sidebar": "Contents",
      "toc_cell": false,
      "toc_position": {},
      "toc_section_display": true,
      "toc_window_display": false
    },
    "varInspector": {
      "cols": {
        "lenName": 16,
        "lenType": 16,
        "lenVar": 40
      },
      "kernels_config": {
        "python": {
          "delete_cmd_postfix": "",
          "delete_cmd_prefix": "del ",
          "library": "var_list.py",
          "varRefreshCmd": "print(var_dic_list())"
        },
        "r": {
          "delete_cmd_postfix": ") ",
          "delete_cmd_prefix": "rm(",
          "library": "var_list.r",
          "varRefreshCmd": "cat(var_dic_list()) "
        }
      },
      "types_to_exclude": [
        "module",
        "function",
        "builtin_function_or_method",
        "instance",
        "_Feature"
      ],
      "window_display": false
    },
    "colab": {
      "provenance": [],
      "include_colab_link": true
    }
  },
  "nbformat": 4,
  "nbformat_minor": 0
}